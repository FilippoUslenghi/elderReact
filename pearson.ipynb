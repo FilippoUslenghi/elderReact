{
 "cells": [
  {
   "cell_type": "code",
   "execution_count": 1,
   "metadata": {},
   "outputs": [],
   "source": [
    "import os\n",
    "import numpy as np\n",
    "import pandas as pd\n",
    "import matplotlib.pyplot as plt\n",
    "import seaborn as sns\n",
    "import cv2\n",
    "import re\n",
    "import random\n",
    "from scipy.stats import pearsonr"
   ]
  },
  {
   "cell_type": "code",
   "execution_count": 2,
   "metadata": {},
   "outputs": [],
   "source": [
    "FACE_MESH = pd.read_csv('mediaPipe/faceMesh/face_mesh.csv')"
   ]
  },
  {
   "cell_type": "code",
   "execution_count": 7,
   "metadata": {},
   "outputs": [],
   "source": [
    "def landmarks_mapper(video: str):\n",
    "    \n",
    "    OPENFACE_DIR = 'openFace/processed/'\n",
    "    MEDIAPIPE_DIR = 'mediaPipe/processed/'\n",
    "    OPENFACE_LANDMARKS = [i for i in range(0, 68)]\n",
    "    \n",
    "    of_df = pd.read_csv(OPENFACE_DIR + video + '_openface.csv')\n",
    "    mp_df = pd.read_csv(MEDIAPIPE_DIR + video + '_mediapipe.csv')\n",
    "    \n",
    "    final_df = of_df['frame']\n",
    "    for i, landmark in enumerate(OPENFACE_LANDMARKS):\n",
    "\n",
    "        mask = (FACE_MESH['openFace_landmark'] == landmark) # group the mediapipe landmarks by the openface landmark\n",
    "\n",
    "        tmp1_df = of_df[[f'x_{landmark}', f'y_{landmark}']]\n",
    "        tmp1_df.columns = [f'openface_x_{landmark}', f'openface_y_{landmark}']\n",
    "        \n",
    "        mediaPipe_landmarks_X = ['x_'+str(ID) for ID in FACE_MESH[mask].id] # collect the X coordinate\n",
    "        mediaPipe_landmarks_Y = ['y_'+str(ID) for ID in FACE_MESH[mask].id] # collect the Y coordinate\n",
    "        \n",
    "        tmp2_df = pd.DataFrame({f'mediapipe_x_{landmark}':mp_df[mediaPipe_landmarks_X].mean(axis=1),\n",
    "                                f'mediapipe_y_{landmark}':mp_df[mediaPipe_landmarks_Y].mean(axis=1)})\n",
    "        \n",
    "        final_df = pd.concat([final_df, tmp1_df, tmp2_df], axis=1)\n",
    "        \n",
    "    return final_df"
   ]
  },
  {
   "cell_type": "code",
   "execution_count": 4,
   "metadata": {},
   "outputs": [],
   "source": [
    "def pearson(df: pd.DataFrame):\n",
    "    \n",
    "    pearson_lndmk = []\n",
    "    for i in range(68):\n",
    "        \n",
    "        pearson_X = pearsonr(df[f'openface_x_{i}'].tolist(), df[f'mediapipe_x_{i}'].tolist())[0]\n",
    "        pearson_Y = pearsonr(df[f'openface_y_{i}'].tolist(), df[f'mediapipe_y_{i}'].tolist())[0]\n",
    "        pearson_lndmk.append((pearson_X+pearson_Y)/2)\n",
    "    \n",
    "    pearson_video = np.mean(pearson_lndmk)\n",
    "    \n",
    "    return pearson_video"
   ]
  },
  {
   "cell_type": "code",
   "execution_count": 16,
   "metadata": {},
   "outputs": [
    {
     "data": {
      "text/html": [
       "<div>\n",
       "<style scoped>\n",
       "    .dataframe tbody tr th:only-of-type {\n",
       "        vertical-align: middle;\n",
       "    }\n",
       "\n",
       "    .dataframe tbody tr th {\n",
       "        vertical-align: top;\n",
       "    }\n",
       "\n",
       "    .dataframe thead th {\n",
       "        text-align: right;\n",
       "    }\n",
       "</style>\n",
       "<table border=\"1\" class=\"dataframe\">\n",
       "  <thead>\n",
       "    <tr style=\"text-align: right;\">\n",
       "      <th></th>\n",
       "      <th>video</th>\n",
       "      <th>pearson</th>\n",
       "    </tr>\n",
       "  </thead>\n",
       "  <tbody>\n",
       "    <tr>\n",
       "      <th>0</th>\n",
       "      <td>whack_your_boss_12</td>\n",
       "      <td>0.974169</td>\n",
       "    </tr>\n",
       "    <tr>\n",
       "      <th>1</th>\n",
       "      <td>happy_wheels_54</td>\n",
       "      <td>0.968697</td>\n",
       "    </tr>\n",
       "    <tr>\n",
       "      <th>2</th>\n",
       "      <td>would_you_rather_29</td>\n",
       "      <td>0.983525</td>\n",
       "    </tr>\n",
       "    <tr>\n",
       "      <th>3</th>\n",
       "      <td>play_red_dead_138</td>\n",
       "      <td>0.763068</td>\n",
       "    </tr>\n",
       "    <tr>\n",
       "      <th>4</th>\n",
       "      <td>Branda_schmitz_116</td>\n",
       "      <td>0.987913</td>\n",
       "    </tr>\n",
       "    <tr>\n",
       "      <th>...</th>\n",
       "      <td>...</td>\n",
       "      <td>...</td>\n",
       "    </tr>\n",
       "    <tr>\n",
       "      <th>610</th>\n",
       "      <td>bully_burger_54</td>\n",
       "      <td>0.980151</td>\n",
       "    </tr>\n",
       "    <tr>\n",
       "      <th>611</th>\n",
       "      <td>game_of_thrones_16</td>\n",
       "      <td>0.991651</td>\n",
       "    </tr>\n",
       "    <tr>\n",
       "      <th>612</th>\n",
       "      <td>qwop_38</td>\n",
       "      <td>0.978327</td>\n",
       "    </tr>\n",
       "    <tr>\n",
       "      <th>613</th>\n",
       "      <td>cuphead_58</td>\n",
       "      <td>0.985006</td>\n",
       "    </tr>\n",
       "    <tr>\n",
       "      <th>614</th>\n",
       "      <td>rammstein_49</td>\n",
       "      <td>0.983393</td>\n",
       "    </tr>\n",
       "  </tbody>\n",
       "</table>\n",
       "<p>615 rows × 2 columns</p>\n",
       "</div>"
      ],
      "text/plain": [
       "                   video   pearson\n",
       "0     whack_your_boss_12  0.974169\n",
       "1        happy_wheels_54  0.968697\n",
       "2    would_you_rather_29  0.983525\n",
       "3      play_red_dead_138  0.763068\n",
       "4     Branda_schmitz_116  0.987913\n",
       "..                   ...       ...\n",
       "610      bully_burger_54  0.980151\n",
       "611   game_of_thrones_16  0.991651\n",
       "612              qwop_38  0.978327\n",
       "613           cuphead_58  0.985006\n",
       "614         rammstein_49  0.983393\n",
       "\n",
       "[615 rows x 2 columns]"
      ]
     },
     "execution_count": 16,
     "metadata": {},
     "output_type": "execute_result"
    }
   ],
   "source": [
    "videos = []\n",
    "pearson_videos = []\n",
    "for video in os.listdir('dataset/ElderReact_Data/ElderReact_train/'):\n",
    "    \n",
    "    video = video[:-4]\n",
    "    \n",
    "    videos.append(video)\n",
    "    \n",
    "    df = landmarks_mapper(video)\n",
    "    pearson_videos.append(pearson(landmarks_mapper(video)))\n",
    "\n",
    "pearson_dataset = pd.DataFrame({'video': videos, 'pearson': pearson_videos})\n",
    "%store pearson_dataset\n",
    "pearson_dataset"
   ]
  },
  {
   "cell_type": "code",
   "execution_count": 2,
   "metadata": {},
   "outputs": [],
   "source": [
    "%store -r pearson_dataset"
   ]
  },
  {
   "cell_type": "code",
   "execution_count": 31,
   "metadata": {},
   "outputs": [
    {
     "data": {
      "image/png": "[encoded data removed]",
      "text/plain": [
       "<Figure size 432x288 with 1 Axes>"
      ]
     },
     "metadata": {
      "needs_background": "light"
     },
     "output_type": "display_data"
    }
   ],
   "source": [
    "sns.histplot(data=pearson_dataset, x='pearson')\n",
    "plt.show()"
   ]
  },
  {
   "cell_type": "code",
   "execution_count": 25,
   "metadata": {},
   "outputs": [
    {
     "data": {
      "text/html": [
       "\n",
       "<div id=\"altair-viz-2ccaa52276434af7bf8027f5f75531fe\"></div>\n",
       "<script type=\"text/javascript\">\n",
       "  (function(spec, embedOpt){\n",
       "    let outputDiv = document.currentScript.previousElementSibling;\n",
       "    if (outputDiv.id !== \"altair-viz-2ccaa52276434af7bf8027f5f75531fe\") {\n",
       "      outputDiv = document.getElementById(\"altair-viz-2ccaa52276434af7bf8027f5f75531fe\");\n",
       "    }\n",
       "    const paths = {\n",
       "      \"vega\": \"https://cdn.jsdelivr.net/npm//vega@5?noext\",\n",
       "      \"vega-lib\": \"https://cdn.jsdelivr.net/npm//vega-lib?noext\",\n",
       "      \"vega-lite\": \"https://cdn.jsdelivr.net/npm//vega-lite@4.8.1?noext\",\n",
       "      \"vega-embed\": \"https://cdn.jsdelivr.net/npm//vega-embed@6?noext\",\n",
       "    };\n",
       "\n",
       "    function loadScript(lib) {\n",
       "      return new Promise(function(resolve, reject) {\n",
       "        var s = document.createElement('script');\n",
       "        s.src = paths[lib];\n",
       "        s.async = true;\n",
       "        s.onload = () => resolve(paths[lib]);\n",
       "        s.onerror = () => reject(`Error loading script: ${paths[lib]}`);\n",
       "        document.getElementsByTagName(\"head\")[0].appendChild(s);\n",
       "      });\n",
       "    }\n",
       "\n",
       "    function showError(err) {\n",
       "      outputDiv.innerHTML = `<div class=\"error\" style=\"color:red;\">${err}</div>`;\n",
       "      throw err;\n",
       "    }\n",
       "\n",
       "    function displayChart(vegaEmbed) {\n",
       "      vegaEmbed(outputDiv, spec, embedOpt)\n",
       "        .catch(err => showError(`Javascript Error: ${err.message}<br>This usually means there's a typo in your chart specification. See the javascript console for the full traceback.`));\n",
       "    }\n",
       "\n",
       "    if(typeof define === \"function\" && define.amd) {\n",
       "      requirejs.config({paths});\n",
       "      require([\"vega-embed\"], displayChart, err => showError(`Error loading script: ${err.message}`));\n",
       "    } else if (typeof vegaEmbed === \"function\") {\n",
       "      displayChart(vegaEmbed);\n",
       "    } else {\n",
       "      loadScript(\"vega\")\n",
       "        .then(() => loadScript(\"vega-lite\"))\n",
       "        .then(() => loadScript(\"vega-embed\"))\n",
       "        .catch(showError)\n",
       "        .then(() => displayChart(vegaEmbed));\n",
       "    }\n",
       "  })({\"config\": {\"view\": {\"continuousWidth\": 400, \"continuousHeight\": 300}}, \"data\": {\"name\": \"data-80bbc6ae5235ce057177592445441170\"}, \"mark\": \"bar\", \"encoding\": {\"x\": {\"type\": \"quantitative\", \"bin\": {\"maxbins\": 615}, \"field\": \"pearson\"}, \"y\": {\"type\": \"quantitative\", \"aggregate\": \"count\"}}, \"height\": 100, \"width\": 600, \"$schema\": \"https://vega.github.io/schema/vega-lite/v4.8.1.json\", \"datasets\": {\"data-80bbc6ae5235ce057177592445441170\": [{\"video\": \"whack_your_boss_12\", \"pearson\": 0.9741692886106852}, {\"video\": \"happy_wheels_54\", \"pearson\": 0.9686965459592175}, {\"video\": \"would_you_rather_29\", \"pearson\": 0.9835246997794985}, {\"video\": \"play_red_dead_138\", \"pearson\": 0.7630681244769191}, {\"video\": \"Branda_schmitz_116\", \"pearson\": 0.987913219017242}, {\"video\": \"dolan_dark_68\", \"pearson\": 0.9698579662689529}, {\"video\": \"fortnite_117\", \"pearson\": 0.9956853199001422}, {\"video\": \"pewdiepie_165\", \"pearson\": 0.9349457491032823}, {\"video\": \"godofwar_52\", \"pearson\": 0.9516541334123704}, {\"video\": \"burnshoes_94\", \"pearson\": 0.9821073416479384}, {\"video\": \"juice_wrld_59\", \"pearson\": 0.9380791815537481}, {\"video\": \"50_50_105\", \"pearson\": 0.8915509472484919}, {\"video\": \"qwop_55\", \"pearson\": 0.9384281411354047}, {\"video\": \"gta1_40\", \"pearson\": 0.992204243844898}, {\"video\": \"f_marry_kill_68\", \"pearson\": 0.9891533813989658}, {\"video\": \"heartbeat_52\", \"pearson\": 0.9852306672376147}, {\"video\": \"bully_burger_79\", \"pearson\": 0.9810010275697484}, {\"video\": \"flappy_bird_25\", \"pearson\": 0.991110432967091}, {\"video\": \"Branda_schmitz_23\", \"pearson\": 0.9681075918304956}, {\"video\": \"burnshoes_14\", \"pearson\": 0.9651515715513423}, {\"video\": \"gta2_43\", \"pearson\": 0.9870517791786521}, {\"video\": \"play_red_dead_119\", \"pearson\": 0.8442440230798574}, {\"video\": \"qwop_48\", \"pearson\": 0.9742127429444603}, {\"video\": \"japanese_show_55\", \"pearson\": 0.9786865155282376}, {\"video\": \"fortnite_118\", \"pearson\": 0.9867314549731814}, {\"video\": \"flappy_bird_76\", \"pearson\": 0.9967441811759017}, {\"video\": \"david_bowie_101\", \"pearson\": 0.9778501986109326}, {\"video\": \"play_lastofus_200\", \"pearson\": 0.9779062299518507}, {\"video\": \"slipknot_118\", \"pearson\": 0.8907658918397406}, {\"video\": \"TRY_NOT_LOOK_AWAY_5\", \"pearson\": 0.9913249682299975}, {\"video\": \"godofwar_99\", \"pearson\": 0.9866648439024326}, {\"video\": \"vaping_for_the1st_42\", \"pearson\": 0.9772814269590129}, {\"video\": \"flappy_bird_52\", \"pearson\": 0.9833543120180664}, {\"video\": \"bully_burger_76\", \"pearson\": 0.9907463149182301}, {\"video\": \"gta2_7\", \"pearson\": 0.9892497907815941}, {\"video\": \"flappy_bird_43\", \"pearson\": 0.9663174463109343}, {\"video\": \"dolan_dark_60\", \"pearson\": 0.9710504402879812}, {\"video\": \"pssy_slap_75\", \"pearson\": 0.990340748856759}, {\"video\": \"qwop_28\", \"pearson\": 0.9819200121568907}, {\"video\": \"happy_wheels_33\", \"pearson\": 0.8503375166892669}, {\"video\": \"gta1_28\", \"pearson\": 0.9815849221304207}, {\"video\": \"eminem_35\", \"pearson\": 0.9530909416749137}, {\"video\": \"f_marry_kill_72\", \"pearson\": 0.9558131377600065}, {\"video\": \"godofwar_9\", \"pearson\": 0.962954766859188}, {\"video\": \"50_50_81\", \"pearson\": 0.9693609032217395}, {\"video\": \"gta1_25\", \"pearson\": 0.9854761366134814}, {\"video\": \"bully_burger_96\", \"pearson\": 0.970409464942541}, {\"video\": \"overwatch_66\", \"pearson\": 0.977061691649411}, {\"video\": \"flappy_bird_30\", \"pearson\": 0.9962879207175659}, {\"video\": \"gta2_72\", \"pearson\": 0.9883587810714706}, {\"video\": \"godofwar_2\", \"pearson\": 0.971262032872839}, {\"video\": \"marshmello_42\", \"pearson\": 0.9717051975094075}, {\"video\": \"eminem_56\", \"pearson\": 0.8174795769122032}, {\"video\": \"slipknot_126\", \"pearson\": 0.9765362599208939}, {\"video\": \"play_red_dead_124\", \"pearson\": 0.7981352069627499}, {\"video\": \"50_50_22\", \"pearson\": 0.8828564604337884}, {\"video\": \"vaping_for_the1st_19\", \"pearson\": 0.8494070444621921}, {\"video\": \"play_lastofus_177\", \"pearson\": 0.9572966985408787}, {\"video\": \"marshmello_105\", \"pearson\": 0.9741623445550514}, {\"video\": \"50_50_68\", \"pearson\": 0.9896423007706562}, {\"video\": \"play_lastofus_90\", \"pearson\": 0.998311471452079}, {\"video\": \"heartbeat_25\", \"pearson\": 0.9651716829118918}, {\"video\": \"50_50_spider_70\", \"pearson\": 0.9940907791614813}, {\"video\": \"fatality_9\", \"pearson\": 0.7225765015876895}, {\"video\": \"Branda_schmitz_57\", \"pearson\": 0.9906886850499591}, {\"video\": \"50_50_94\", \"pearson\": 0.9774658848198546}, {\"video\": \"battlefield1_22\", \"pearson\": 0.9815479441054615}, {\"video\": \"fatality_20\", \"pearson\": 0.715192142556615}, {\"video\": \"godofwar_82\", \"pearson\": 0.9751594907870053}, {\"video\": \"pssy_slap_62\", \"pearson\": 0.9650752859221285}, {\"video\": \"would_you_rather_30\", \"pearson\": 0.97206112712587}, {\"video\": \"rammstein_27\", \"pearson\": 0.9589312151782833}, {\"video\": \"heartbeat_45\", \"pearson\": 0.9820888979425343}, {\"video\": \"cuphead_11\", \"pearson\": 0.9929153416253435}, {\"video\": \"burnshoes_49\", \"pearson\": 0.9484278652705477}, {\"video\": \"eminem_44\", \"pearson\": 0.9917443606428018}, {\"video\": \"would_you_rather_81\", \"pearson\": 0.9812310080167584}, {\"video\": \"david_bowie_68\", \"pearson\": 0.9905358866876737}, {\"video\": \"qwop_52\", \"pearson\": 0.9751113892625329}, {\"video\": \"rammstein_98\", \"pearson\": 0.9776808660136782}, {\"video\": \"gta2_39\", \"pearson\": 0.9541757642201147}, {\"video\": \"Branda_schmitz_93\", \"pearson\": 0.9849578163097474}, {\"video\": \"play_lastofus_32\", \"pearson\": 0.9706066916212466}, {\"video\": \"pewdiepie_30\", \"pearson\": 0.9862956776959148}, {\"video\": \"play_lastofus_146\", \"pearson\": 0.9312108663896285}, {\"video\": \"play_road_redemp_49\", \"pearson\": 0.789928452400751}, {\"video\": \"lil_pump_97\", \"pearson\": 0.9685046356205244}, {\"video\": \"david_bowie_36\", \"pearson\": 0.9150247266094085}, {\"video\": \"gta1_23\", \"pearson\": 0.9087622463753964}, {\"video\": \"50_50_spider_129\", \"pearson\": 0.9225205518282874}, {\"video\": \"play_lastofus_192\", \"pearson\": 0.98549184761447}, {\"video\": \"gta2_51\", \"pearson\": 0.9848685946080458}, {\"video\": \"vaping_for_the1st_51\", \"pearson\": 0.9668790113632485}, {\"video\": \"fatality_6\", \"pearson\": 0.86038475648449}, {\"video\": \"gta2_23\", \"pearson\": 0.9492579247469893}, {\"video\": \"Branda_schmitz_15\", \"pearson\": 0.9542963557995608}, {\"video\": \"happy_wheels_97\", \"pearson\": 0.6271127019066324}, {\"video\": \"bully_burger_40\", \"pearson\": 0.9585081193106864}, {\"video\": \"would_you_rather_80\", \"pearson\": 0.9915635553357349}, {\"video\": \"granday_45\", \"pearson\": 0.9938198561961213}, {\"video\": \"burnshoes_48\", \"pearson\": 0.9844401543491278}, {\"video\": \"f_marry_kill_103\", \"pearson\": 0.9648561408652696}, {\"video\": \"cuphead_23\", \"pearson\": 0.957295302275656}, {\"video\": \"marshmello_29\", \"pearson\": 0.9529457246073302}, {\"video\": \"burnshoes_68\", \"pearson\": 0.8826505879310648}, {\"video\": \"gta2_2\", \"pearson\": -0.42217233828076656}, {\"video\": \"qwop_57\", \"pearson\": 0.7770408227942562}, {\"video\": \"qwop_60\", \"pearson\": 0.9822253888918756}, {\"video\": \"pssy_slap_17\", \"pearson\": 0.9746053341071225}, {\"video\": \"Branda_schmitz_26\", \"pearson\": 0.9835192536484312}, {\"video\": \"not_mad_4\", \"pearson\": 0.8327813268611743}, {\"video\": \"whack_your_boss_40\", \"pearson\": 0.9292193701744693}, {\"video\": \"50_50_85\", \"pearson\": 0.8204966847651325}, {\"video\": \"qwop_26\", \"pearson\": 0.8970269555705338}, {\"video\": \"rammstein_54\", \"pearson\": 0.9865234538925115}, {\"video\": \"cuphead_32\", \"pearson\": 0.9928422957170636}, {\"video\": \"bully_burger_95\", \"pearson\": 0.9777576495197037}, {\"video\": \"gta1_0\", \"pearson\": 0.9783324368166424}, {\"video\": \"flappy_bird_59\", \"pearson\": 0.9817455933073438}, {\"video\": \"play_lastofus_107\", \"pearson\": 0.988479976529848}, {\"video\": \"burnshoes_41\", \"pearson\": 0.9797452727304671}, {\"video\": \"godofwar_123\", \"pearson\": 0.9692266621560957}, {\"video\": \"gta1_39\", \"pearson\": 0.9571228049750828}, {\"video\": \"slipknot_24\", \"pearson\": 0.958878270150961}, {\"video\": \"gta1_13\", \"pearson\": 0.9843294803857435}, {\"video\": \"burnshoes_73\", \"pearson\": 0.9880760349951747}, {\"video\": \"TRY_NOT_LOOK_AWAY_8\", \"pearson\": 0.9665565819781096}, {\"video\": \"granday_39\", \"pearson\": 0.9250153638920651}, {\"video\": \"fatality_27\", \"pearson\": 0.9869173649406927}, {\"video\": \"would_you_rather_18\", \"pearson\": 0.9389798135209698}, {\"video\": \"slipknot_60\", \"pearson\": 0.9297601922701196}, {\"video\": \"vaping_for_the1st_81\", \"pearson\": 0.9625952478951305}, {\"video\": \"burnshoes_12\", \"pearson\": 0.9887170674525531}, {\"video\": \"50_50_24\", \"pearson\": 0.9902301328736139}, {\"video\": \"play_road_redemp_31\", \"pearson\": 0.9640582088647406}, {\"video\": \"play_road_redemp_36\", \"pearson\": 0.9234634050158159}, {\"video\": \"TRY_NOT_LOOK_AWAY_21\", \"pearson\": 0.6881151970082522}, {\"video\": \"flappy_bird_35\", \"pearson\": 0.9780327821149188}, {\"video\": \"Branda_schmitz_96\", \"pearson\": 0.9826172181667523}, {\"video\": \"dolan_dark_73\", \"pearson\": 0.9803799804386965}, {\"video\": \"Branda_schmitz_100\", \"pearson\": 0.9861871808368192}, {\"video\": \"bully_burger_50\", \"pearson\": 0.8671568133925005}, {\"video\": \"battlefield1_37\", \"pearson\": 0.9529711478982866}, {\"video\": \"godofwar_71\", \"pearson\": 0.9575721862449506}, {\"video\": \"david_bowie_42\", \"pearson\": 0.9961960864489919}, {\"video\": \"qwop_40\", \"pearson\": 0.2451964856589686}, {\"video\": \"play_red_dead_174\", \"pearson\": 0.9832817421367794}, {\"video\": \"vaping_for_the1st_96\", \"pearson\": 0.9903848224885476}, {\"video\": \"granday_29\", \"pearson\": 0.9160569430250065}, {\"video\": \"happy_wheels_16\", \"pearson\": 0.9900788090767046}, {\"video\": \"play_road_redemp_15\", \"pearson\": 0.9794844995667695}, {\"video\": \"play_red_dead_126\", \"pearson\": 0.9664766133281466}, {\"video\": \"pssy_slap_56\", \"pearson\": 0.9700390904468311}, {\"video\": \"bully_burger_68\", \"pearson\": 0.9932339011956914}, {\"video\": \"game_of_thrones_135\", \"pearson\": 0.9840861868689198}, {\"video\": \"gta1_46\", \"pearson\": 0.8380021456719926}, {\"video\": \"Branda_schmitz_60\", \"pearson\": 0.9827929880789594}, {\"video\": \"rammstein_63\", \"pearson\": 0.976162561657875}, {\"video\": \"eminem_42\", \"pearson\": 0.9136048961609418}, {\"video\": \"rammstein_68\", \"pearson\": 0.9679954004141256}, {\"video\": \"fatality_11\", \"pearson\": 0.9207152057404042}, {\"video\": \"play_lastofus_188\", \"pearson\": 0.961416795043719}, {\"video\": \"Branda_schmitz_47\", \"pearson\": 0.9863359331825847}, {\"video\": \"play_lastofus_62\", \"pearson\": 0.9508514852562966}, {\"video\": \"cuphead_31\", \"pearson\": 0.9452486149482436}, {\"video\": \"play_red_dead_86\", \"pearson\": 0.9442438230696761}, {\"video\": \"50_50_78\", \"pearson\": 0.9830144286901917}, {\"video\": \"pewdiepie_128\", \"pearson\": 0.9661376646801384}, {\"video\": \"david_bowie_29\", \"pearson\": 0.9566395822090549}, {\"video\": \"flappy_bird_79\", \"pearson\": 0.9898554541295027}, {\"video\": \"japanese_show_40\", \"pearson\": 0.9696463131253571}, {\"video\": \"fatality_23\", \"pearson\": 0.9851722965307947}, {\"video\": \"lil_pump_128\", \"pearson\": 0.9551424551584724}, {\"video\": \"godofwar_3\", \"pearson\": 0.9557297164885699}, {\"video\": \"eminem_46\", \"pearson\": 0.968645351810637}, {\"video\": \"gta1_37\", \"pearson\": 0.964550561699205}, {\"video\": \"50_50_4\", \"pearson\": 0.8932349079324823}, {\"video\": \"fortnite_115\", \"pearson\": 0.9876042316853844}, {\"video\": \"whack_your_boss_125\", \"pearson\": 0.97420422512036}, {\"video\": \"happy_wheels_78\", \"pearson\": 0.9977928898050754}, {\"video\": \"burnshoes_92\", \"pearson\": 0.9858343792305169}, {\"video\": \"Branda_schmitz_84\", \"pearson\": 0.9877314328658715}, {\"video\": \"would_you_rather_44\", \"pearson\": 0.9489546046259969}, {\"video\": \"qwop_49\", \"pearson\": 0.9882669701793501}, {\"video\": \"bully_burger_53\", \"pearson\": 0.912177417354633}, {\"video\": \"happy_wheels_63\", \"pearson\": 0.7928078477680573}, {\"video\": \"david_bowie_13\", \"pearson\": 0.5084017250700633}, {\"video\": \"japanese_show_62\", \"pearson\": 0.9800729537919729}, {\"video\": \"whack_your_boss_120\", \"pearson\": 0.9710147258862212}, {\"video\": \"qwop_86\", \"pearson\": 0.9812939944230759}, {\"video\": \"rammstein_67\", \"pearson\": 0.904109336861247}, {\"video\": \"cuphead_24\", \"pearson\": 0.936711531037253}, {\"video\": \"play_lastofus_212\", \"pearson\": 0.9579654093766337}, {\"video\": \"godofwar_67\", \"pearson\": 0.8748422586002527}, {\"video\": \"david_bowie_38\", \"pearson\": 0.9646175031379807}, {\"video\": \"would_you_rather_63\", \"pearson\": 0.9490255600061908}, {\"video\": \"pssy_slap_60\", \"pearson\": 0.980116609947836}, {\"video\": \"eminem_146\", \"pearson\": 0.9833231100631106}, {\"video\": \"fatality_0\", \"pearson\": 0.9816647246467627}, {\"video\": \"dolan_dark_105\", \"pearson\": 0.9913614147698444}, {\"video\": \"japanese_show_50\", \"pearson\": 0.8145835706340144}, {\"video\": \"godofwar_4\", \"pearson\": 0.9742260629551697}, {\"video\": \"pssy_slap_85\", \"pearson\": 0.9776013697941565}, {\"video\": \"eminem_142\", \"pearson\": 0.707041836189073}, {\"video\": \"50_50_95\", \"pearson\": 0.958446674814701}, {\"video\": \"japanese_show_33\", \"pearson\": 0.9759779226942551}, {\"video\": \"play_road_redemp_53\", \"pearson\": 0.9056693313362717}, {\"video\": \"battlefield1_28\", \"pearson\": 0.9789661424629901}, {\"video\": \"burnshoes_4\", \"pearson\": 0.9598300560111616}, {\"video\": \"TRY_NOT_LOOK_AWAY_31\", \"pearson\": 0.9423821442028286}, {\"video\": \"gta2_11\", \"pearson\": 0.9729319454737378}, {\"video\": \"TRY_NOT_LOOK_AWAY_30\", \"pearson\": 0.9572912200258775}, {\"video\": \"lil_pump_43\", \"pearson\": 0.8853140672905719}, {\"video\": \"f_marry_kill_67\", \"pearson\": 0.9864984780412867}, {\"video\": \"play_lastofus_223\", \"pearson\": 0.9797362825526228}, {\"video\": \"overwatch_39\", \"pearson\": 0.9720737698433565}, {\"video\": \"japanese_show_28\", \"pearson\": 0.9689941783748739}, {\"video\": \"50_50_45\", \"pearson\": 0.971472795854532}, {\"video\": \"heartbeat_23\", \"pearson\": 0.951201445003785}, {\"video\": \"TRY_NOT_LOOK_AWAY_25\", \"pearson\": 0.9192175454511166}, {\"video\": \"godofwar_10\", \"pearson\": 0.9824005178694513}, {\"video\": \"granday_32\", \"pearson\": 0.993992589800748}, {\"video\": \"play_road_redemp_57\", \"pearson\": 0.8925334005926171}, {\"video\": \"50_50_74\", \"pearson\": 0.9652281083056347}, {\"video\": \"overwatch_28\", \"pearson\": 0.8904884564983722}, {\"video\": \"50_50_48\", \"pearson\": 0.9840468622013981}, {\"video\": \"esports_97\", \"pearson\": 0.9842046243857238}, {\"video\": \"flappy_bird_106\", \"pearson\": 0.9842090296466504}, {\"video\": \"japanese_show_74\", \"pearson\": 0.9709078886083051}, {\"video\": \"flappy_bird_9\", \"pearson\": 0.9900140290854677}, {\"video\": \"would_you_rather_62\", \"pearson\": 0.9484874546023768}, {\"video\": \"dolan_dark_5\", \"pearson\": 0.9636935612268348}, {\"video\": \"david_bowie_30\", \"pearson\": 0.9744016651742169}, {\"video\": \"Branda_schmitz_77\", \"pearson\": 0.9864867569250615}, {\"video\": \"fatality_5\", \"pearson\": 0.9975088689259469}, {\"video\": \"marshmello_89\", \"pearson\": 0.9556384476193808}, {\"video\": \"play_lastofus_66\", \"pearson\": 0.9678186288672772}, {\"video\": \"rammstein_85\", \"pearson\": 0.9925819329448499}, {\"video\": \"Branda_schmitz_76\", \"pearson\": 0.9854278437946838}, {\"video\": \"qwop_65\", \"pearson\": 0.9893855526838502}, {\"video\": \"bully_burger_26\", \"pearson\": 0.994441355016518}, {\"video\": \"burnshoes_15\", \"pearson\": 0.9576404418505331}, {\"video\": \"battlefield1_50\", \"pearson\": 0.6961409136426976}, {\"video\": \"david_bowie_109\", \"pearson\": 0.9350629845835046}, {\"video\": \"cuphead_21\", \"pearson\": 0.8574399871052837}, {\"video\": \"rammstein_114\", \"pearson\": 0.8923029515685931}, {\"video\": \"qwop_44\", \"pearson\": 0.9879651214448628}, {\"video\": \"battlefield1_23\", \"pearson\": 0.9794860627614836}, {\"video\": \"would_you_rather_19\", \"pearson\": 0.9278691246989723}, {\"video\": \"rammstein_101\", \"pearson\": 0.9845072067197885}, {\"video\": \"gta2_61\", \"pearson\": 0.9917515570758721}, {\"video\": \"qwop_46\", \"pearson\": 0.9710670469894118}, {\"video\": \"cuphead_63\", \"pearson\": 0.9855768701712885}, {\"video\": \"burnshoes_20\", \"pearson\": 0.9646744905808442}, {\"video\": \"happy_wheels_19\", \"pearson\": 0.9817689234031971}, {\"video\": \"play_red_dead_8\", \"pearson\": 0.9716187967029078}, {\"video\": \"play_road_redemp_41\", \"pearson\": 0.9914169817112733}, {\"video\": \"granday_55\", \"pearson\": 0.9565594320173122}, {\"video\": \"japanese_show_84\", \"pearson\": 0.9772576011654117}, {\"video\": \"qwop_41\", \"pearson\": 0.9853873818041701}, {\"video\": \"cuphead_29\", \"pearson\": 0.9917460633435087}, {\"video\": \"david_bowie_17\", \"pearson\": 0.9788998801617403}, {\"video\": \"heartbeat_43\", \"pearson\": 0.9887815958020086}, {\"video\": \"battlefield1_46\", \"pearson\": 0.9664920822581058}, {\"video\": \"dolan_dark_109\", \"pearson\": 0.9829639263022459}, {\"video\": \"dolan_dark_67\", \"pearson\": 0.8673918832945544}, {\"video\": \"Branda_schmitz_27\", \"pearson\": 0.8201070205359924}, {\"video\": \"play_lastofus_43\", \"pearson\": 0.9726108579010545}, {\"video\": \"lil_pump_65\", \"pearson\": 0.9114727387003716}, {\"video\": \"happy_wheels_91\", \"pearson\": 0.9932458656522708}, {\"video\": \"50_50_104\", \"pearson\": 0.9607843717240335}, {\"video\": \"Branda_schmitz_106\", \"pearson\": 0.9586208309967468}, {\"video\": \"play_road_redemp_18\", \"pearson\": 0.940340297220914}, {\"video\": \"play_red_dead_103\", \"pearson\": 0.9042437345792422}, {\"video\": \"slipknot_52\", \"pearson\": 0.9312321738456929}, {\"video\": \"f_marry_kill_6\", \"pearson\": 0.9745289254649262}, {\"video\": \"fatality_24\", \"pearson\": 0.9507421176890095}, {\"video\": \"heartbeat_62\", \"pearson\": 0.9608492467440987}, {\"video\": \"TRY_NOT_LOOK_AWAY_9\", \"pearson\": 0.9055482233151594}, {\"video\": \"fatality_15\", \"pearson\": 0.6665276412576308}, {\"video\": \"juice_wrld_65\", \"pearson\": 0.990115408987072}, {\"video\": \"david_bowie_53\", \"pearson\": 0.9558955082906637}, {\"video\": \"heartbeat_55\", \"pearson\": 0.9791360207225042}, {\"video\": \"dolan_dark_76\", \"pearson\": 0.921628774730714}, {\"video\": \"play_lastofus_166\", \"pearson\": 0.883806595790766}, {\"video\": \"overwatch_4\", \"pearson\": 0.9696312415356236}, {\"video\": \"gta1_19\", \"pearson\": 0.9858990688580122}, {\"video\": \"eminem_144\", \"pearson\": 0.99482446346419}, {\"video\": \"fatality_2\", \"pearson\": 0.9908566307621209}, {\"video\": \"gta2_20\", \"pearson\": 0.9914623189776361}, {\"video\": \"david_bowie_97\", \"pearson\": 0.9002980896129027}, {\"video\": \"gta2_33\", \"pearson\": 0.9837252642858741}, {\"video\": \"play_road_redemp_50\", \"pearson\": 0.9780114106279323}, {\"video\": \"Branda_schmitz_112\", \"pearson\": 0.9842908489954872}, {\"video\": \"happy_wheels_99\", \"pearson\": 0.9590357618355253}, {\"video\": \"kda_27\", \"pearson\": 0.977053156804156}, {\"video\": \"would_you_rather_83\", \"pearson\": 0.9514781530304096}, {\"video\": \"f_marry_kill_14\", \"pearson\": 0.9316002385446963}, {\"video\": \"gta2_66\", \"pearson\": 0.8558588265137714}, {\"video\": \"granday_34\", \"pearson\": 0.9346939363536275}, {\"video\": \"Branda_schmitz_102\", \"pearson\": 0.9889597778618977}, {\"video\": \"Branda_schmitz_103\", \"pearson\": 0.9862087549976527}, {\"video\": \"play_lastofus_82\", \"pearson\": 0.9523635062161311}, {\"video\": \"fortnite_114\", \"pearson\": 0.9881336668053933}, {\"video\": \"fatality_22\", \"pearson\": 0.9741852915977249}, {\"video\": \"godofwar_94\", \"pearson\": 0.9614979385945311}, {\"video\": \"david_bowie_67\", \"pearson\": 0.9830880381393899}, {\"video\": \"50_50_spider_126\", \"pearson\": 0.9867981569799444}, {\"video\": \"david_bowie_59\", \"pearson\": 0.9935509603797366}, {\"video\": \"vaping_for_the1st_9\", \"pearson\": 0.9630677225699794}, {\"video\": \"50_50_27\", \"pearson\": 0.9572619482449878}, {\"video\": \"dolan_dark_135\", \"pearson\": 0.9887350220835792}, {\"video\": \"not_mad_18\", \"pearson\": 0.9880746577375097}, {\"video\": \"TRY_NOT_LOOK_AWAY_18\", \"pearson\": 0.9904255434608549}, {\"video\": \"play_lastofus_30\", \"pearson\": 0.9760698311516443}, {\"video\": \"play_red_dead_140\", \"pearson\": 0.9672520262246654}, {\"video\": \"cuphead_68\", \"pearson\": 0.9889298802443754}, {\"video\": \"godofwar_74\", \"pearson\": 0.9600374703198711}, {\"video\": \"dolan_dark_75\", \"pearson\": 0.7015614353919573}, {\"video\": \"play_red_dead_56\", \"pearson\": 0.9124988483927703}, {\"video\": \"Branda_schmitz_70\", \"pearson\": 0.9881092774735495}, {\"video\": \"japanese_show_17\", \"pearson\": 0.9514511858690945}, {\"video\": \"Branda_schmitz_52\", \"pearson\": 0.8317516797039041}, {\"video\": \"qwop_21\", \"pearson\": 0.8866371153308125}, {\"video\": \"flappy_bird_14\", \"pearson\": 0.9879151319736813}, {\"video\": \"pewdiepie_150\", \"pearson\": 0.9905505288042048}, {\"video\": \"50_50_spider_110\", \"pearson\": 0.9883954492272009}, {\"video\": \"fatality_4\", \"pearson\": 0.9911472311389529}, {\"video\": \"Branda_schmitz_66\", \"pearson\": 0.9764827637477924}, {\"video\": \"would_you_rather_32\", \"pearson\": 0.9840306182651231}, {\"video\": \"japanese_show_85\", \"pearson\": 0.9433691491817666}, {\"video\": \"play_lastofus_134\", \"pearson\": 0.9957339128744707}, {\"video\": \"would_you_rather_28\", \"pearson\": 0.9536790545086274}, {\"video\": \"cuphead_66\", \"pearson\": 0.9745060342902043}, {\"video\": \"50_50_spider_98\", \"pearson\": 0.991770060970205}, {\"video\": \"gta1_22\", \"pearson\": 0.9848876204261129}, {\"video\": \"50_50_spider_52\", \"pearson\": 0.9937022937715433}, {\"video\": \"play_red_dead_93\", \"pearson\": 0.959906068915618}, {\"video\": \"gta2_53\", \"pearson\": 0.9832534943774559}, {\"video\": \"would_you_rather_82\", \"pearson\": 0.9929985477344315}, {\"video\": \"bully_burger_58\", \"pearson\": 0.985441745845906}, {\"video\": \"flappy_bird_49\", \"pearson\": 0.9208590227942777}, {\"video\": \"not_mad_15\", \"pearson\": 0.978503109464214}, {\"video\": \"slipknot_69\", \"pearson\": 0.9771228375744456}, {\"video\": \"gta2_41\", \"pearson\": 0.9853895228391465}, {\"video\": \"qwop_67\", \"pearson\": 0.9744875991489481}, {\"video\": \"marshmello_87\", \"pearson\": 0.9862354357183245}, {\"video\": \"play_lastofus_69\", \"pearson\": 0.9885380895136441}, {\"video\": \"japanese_show_38\", \"pearson\": 0.9975763233286554}, {\"video\": \"lil_pump_60\", \"pearson\": 0.9306105261522133}, {\"video\": \"flappy_bird_91\", \"pearson\": 0.9678412659966061}, {\"video\": \"gta2_52\", \"pearson\": 0.9745119134795992}, {\"video\": \"50_50_spider_31\", \"pearson\": 0.9937680370968377}, {\"video\": \"would_you_rather_20\", \"pearson\": 0.9615660442292182}, {\"video\": \"whack_your_boss_10\", \"pearson\": 0.902074878185229}, {\"video\": \"play_road_redemp_56\", \"pearson\": 0.993386604603406}, {\"video\": \"overwatch_55\", \"pearson\": 0.9323156000165408}, {\"video\": \"granday_31\", \"pearson\": 0.9810796103941795}, {\"video\": \"burnshoes_34\", \"pearson\": 0.9793439773446659}, {\"video\": \"eminem_149\", \"pearson\": 0.9897135817978835}, {\"video\": \"cuphead_0\", \"pearson\": 0.9835125974839125}, {\"video\": \"lil_pump_72\", \"pearson\": 0.9673494451393704}, {\"video\": \"50_50_spider_82\", \"pearson\": 0.9862311256340693}, {\"video\": \"happy_wheels_26\", \"pearson\": 0.9784835043960378}, {\"video\": \"happy_wheels_64\", \"pearson\": 0.9465123998779624}, {\"video\": \"overwatch_34\", \"pearson\": 0.9710240074998076}, {\"video\": \"burnshoes_51\", \"pearson\": 0.9403260479637133}, {\"video\": \"play_lastofus_202\", \"pearson\": 0.5278153741809202}, {\"video\": \"pssy_slap_76\", \"pearson\": 0.9863259845934197}, {\"video\": \"play_road_redemp_38\", \"pearson\": 0.9828674652787024}, {\"video\": \"flappy_bird_51\", \"pearson\": 0.9739968049278726}, {\"video\": \"gta1_7\", \"pearson\": 0.9052948045939475}, {\"video\": \"bully_burger_32\", \"pearson\": 0.9089692191184382}, {\"video\": \"gta2_26\", \"pearson\": 0.4378453488012905}, {\"video\": \"gta2_54\", \"pearson\": 0.9890363201566014}, {\"video\": \"play_lastofus_73\", \"pearson\": 0.9231590435456754}, {\"video\": \"godofwar_50\", \"pearson\": 0.9627604208892723}, {\"video\": \"david_bowie_64\", \"pearson\": 0.98493306426269}, {\"video\": \"flappy_bird_94\", \"pearson\": 0.9893748803731555}, {\"video\": \"would_you_rather_17\", \"pearson\": 0.9763283859470671}, {\"video\": \"godofwar_108\", \"pearson\": 0.8561565813984351}, {\"video\": \"not_mad_13\", \"pearson\": 0.9004791497977922}, {\"video\": \"flappy_bird_33\", \"pearson\": 0.9831981218457415}, {\"video\": \"Branda_schmitz_36\", \"pearson\": 0.9457051528212891}, {\"video\": \"eminem_71\", \"pearson\": 0.970967086404796}, {\"video\": \"play_red_dead_116\", \"pearson\": 0.9071205159917483}, {\"video\": \"qwop_62\", \"pearson\": 0.9877065601869714}, {\"video\": \"flappy_bird_71\", \"pearson\": 0.9618467570801404}, {\"video\": \"game_of_thrones_127\", \"pearson\": 0.970873468841883}, {\"video\": \"rammstein_29\", \"pearson\": 0.9303486923490428}, {\"video\": \"gta1_20\", \"pearson\": 0.9834076159751284}, {\"video\": \"rammstein_33\", \"pearson\": 0.952563894814332}, {\"video\": \"cuphead_38\", \"pearson\": 0.7929266592259021}, {\"video\": \"granday_57\", \"pearson\": 0.9357567127608808}, {\"video\": \"Branda_schmitz_40\", \"pearson\": 0.749711553370716}, {\"video\": \"rammstein_146\", \"pearson\": 0.9895024976874528}, {\"video\": \"dolan_dark_31\", \"pearson\": 0.9860676159559925}, {\"video\": \"heartbeat_37\", \"pearson\": 0.9195966390134216}, {\"video\": \"eminem_88\", \"pearson\": 0.9955408003691033}, {\"video\": \"lil_pump_31\", \"pearson\": 0.8894503497057037}, {\"video\": \"Branda_schmitz_28\", \"pearson\": 0.9721040778700868}, {\"video\": \"game_of_thrones_136\", \"pearson\": 0.9643593923744204}, {\"video\": \"heartbeat_22\", \"pearson\": 0.9682897905631436}, {\"video\": \"fatality_14\", \"pearson\": 0.9356919423707886}, {\"video\": \"godofwar_80\", \"pearson\": 0.9523081640418404}, {\"video\": \"Branda_schmitz_91\", \"pearson\": 0.9819033531313884}, {\"video\": \"qwop_15\", \"pearson\": 0.9460431747982295}, {\"video\": \"play_red_dead_141\", \"pearson\": 0.7663274163755179}, {\"video\": \"fatality_17\", \"pearson\": 0.974702751791519}, {\"video\": \"godofwar_60\", \"pearson\": 0.9839174647309309}, {\"video\": \"gta2_44\", \"pearson\": 0.9133564492812232}, {\"video\": \"flappy_bird_23\", \"pearson\": 0.9678099836937686}, {\"video\": \"granday_22\", \"pearson\": 0.991473852765332}, {\"video\": \"Branda_schmitz_114\", \"pearson\": 0.9287273478190118}, {\"video\": \"granday_36\", \"pearson\": 0.9702833789442072}, {\"video\": \"heartbeat_3\", \"pearson\": 0.8940173279460083}, {\"video\": \"flappy_bird_47\", \"pearson\": 0.9924793397776956}, {\"video\": \"fortnite_104\", \"pearson\": 0.9895812383732521}, {\"video\": \"eminem_25\", \"pearson\": 0.9884855623789659}, {\"video\": \"play_lastofus_218\", \"pearson\": 0.7877198430420111}, {\"video\": \"play_lastofus_133\", \"pearson\": 0.9721947071300591}, {\"video\": \"lil_pump_30\", \"pearson\": 0.9936330907110567}, {\"video\": \"marshmello_83\", \"pearson\": 0.9845442472783345}, {\"video\": \"would_you_rather_37\", \"pearson\": 0.9387243194257974}, {\"video\": \"would_you_rather_33\", \"pearson\": 0.9529653781728669}, {\"video\": \"slipknot_70\", \"pearson\": 0.8455445647834943}, {\"video\": \"play_lastofus_219\", \"pearson\": 0.8673833158791036}, {\"video\": \"flappy_bird_56\", \"pearson\": 0.9922348136000682}, {\"video\": \"cuphead_35\", \"pearson\": 0.9878363903224897}, {\"video\": \"50_50_87\", \"pearson\": 0.8718384553931886}, {\"video\": \"slipknot_122\", \"pearson\": 0.9367194763294252}, {\"video\": \"heartbeat_28\", \"pearson\": 0.9445295131726357}, {\"video\": \"Branda_schmitz_74\", \"pearson\": 0.9793209871875511}, {\"video\": \"play_lastofus_23\", \"pearson\": 0.9870007684464445}, {\"video\": \"would_you_rather_49\", \"pearson\": 0.9157706882784522}, {\"video\": \"50_50_106\", \"pearson\": 0.9735845989746112}, {\"video\": \"game_of_thrones_85\", \"pearson\": 0.9908515539607694}, {\"video\": \"rammstein_14\", \"pearson\": 0.989020496160569}, {\"video\": \"granday_27\", \"pearson\": 0.9443689984258365}, {\"video\": \"gta1_45\", \"pearson\": 0.907454817402262}, {\"video\": \"50_50_70\", \"pearson\": 0.5873287050487643}, {\"video\": \"qwop_64\", \"pearson\": 0.9060877195918091}, {\"video\": \"granday_46\", \"pearson\": 0.9354610934867903}, {\"video\": \"gta1_17\", \"pearson\": 0.9223241520985992}, {\"video\": \"japanese_show_52\", \"pearson\": 0.9745086755178555}, {\"video\": \"Branda_schmitz_32\", \"pearson\": 0.960606394486323}, {\"video\": \"would_you_rather_64\", \"pearson\": 0.9831117360571798}, {\"video\": \"qwop_39\", \"pearson\": 0.8837195057456232}, {\"video\": \"david_bowie_106\", \"pearson\": 0.9893222903496174}, {\"video\": \"eminem_66\", \"pearson\": 0.9480504525899615}, {\"video\": \"Branda_schmitz_121\", \"pearson\": 0.9411588683031611}, {\"video\": \"Branda_schmitz_99\", \"pearson\": 0.9937194902166463}, {\"video\": \"japanese_show_59\", \"pearson\": 0.5627180407367525}, {\"video\": \"godofwar_34\", \"pearson\": 0.9223870388985302}, {\"video\": \"gta1_34\", \"pearson\": 0.04053348632970934}, {\"video\": \"cuphead_70\", \"pearson\": 0.9803454975232349}, {\"video\": \"japanese_show_75\", \"pearson\": 0.9584534285531603}, {\"video\": \"godofwar_79\", \"pearson\": 0.983679328186255}, {\"video\": \"play_red_dead_69\", \"pearson\": 0.8171482254595256}, {\"video\": \"Branda_schmitz_44\", \"pearson\": 0.9936824621428668}, {\"video\": \"gta2_59\", \"pearson\": 0.9738533627309903}, {\"video\": \"eminem_27\", \"pearson\": 0.9988919680562512}, {\"video\": \"flappy_bird_78\", \"pearson\": 0.9849311466961477}, {\"video\": \"pewdiepie_46\", \"pearson\": 0.9928925487443169}, {\"video\": \"godofwar_44\", \"pearson\": 0.9777920954416284}, {\"video\": \"TRY_NOT_LOOK_AWAY_26\", \"pearson\": 0.9696847063686953}, {\"video\": \"play_lastofus_220\", \"pearson\": 0.9483686015835642}, {\"video\": \"happy_wheels_95\", \"pearson\": 0.9107604107320357}, {\"video\": \"50_50_58\", \"pearson\": 0.9709289551487068}, {\"video\": \"flappy_bird_31\", \"pearson\": 0.9974776019800821}, {\"video\": \"granday_20\", \"pearson\": 0.9954486256542163}, {\"video\": \"pewdiepie_104\", \"pearson\": 0.951918398500008}, {\"video\": \"whack_your_boss_108\", \"pearson\": 0.9591888923534959}, {\"video\": \"50_50_46\", \"pearson\": 0.9173825294517286}, {\"video\": \"slipknot_46\", \"pearson\": 0.9782641888268083}, {\"video\": \"Branda_schmitz_31\", \"pearson\": 0.8971542198321533}, {\"video\": \"qwop_92\", \"pearson\": 0.947864196309123}, {\"video\": \"happy_wheels_42\", \"pearson\": 0.9791604306896128}, {\"video\": \"godofwar_72\", \"pearson\": 0.9657428608057368}, {\"video\": \"godofwar_119\", \"pearson\": 0.9872114923063416}, {\"video\": \"dolan_dark_14\", \"pearson\": 0.9804137164898966}, {\"video\": \"battlefield1_4\", \"pearson\": 0.9700282003636036}, {\"video\": \"david_bowie_16\", \"pearson\": 0.9221718337775195}, {\"video\": \"flappy_bird_72\", \"pearson\": 0.9482361828602265}, {\"video\": \"battlefield1_25\", \"pearson\": 0.9333471431230224}, {\"video\": \"play_lastofus_100\", \"pearson\": 0.994300536477561}, {\"video\": \"flappy_bird_54\", \"pearson\": 0.994274481463546}, {\"video\": \"play_lastofus_123\", \"pearson\": 0.9881358064694351}, {\"video\": \"vaping_for_the1st_15\", \"pearson\": 0.8452603128851699}, {\"video\": \"Branda_schmitz_41\", \"pearson\": 0.8627027318176648}, {\"video\": \"qwop_93\", \"pearson\": 0.27406683737105064}, {\"video\": \"gta2_29\", \"pearson\": 0.9134294083964384}, {\"video\": \"Branda_schmitz_117\", \"pearson\": 0.9788802883605536}, {\"video\": \"50_50_77\", \"pearson\": 0.7497276327737339}, {\"video\": \"dolan_dark_90\", \"pearson\": 0.9538302088637235}, {\"video\": \"rammstein_104\", \"pearson\": 0.9796819475435129}, {\"video\": \"marshmello_69\", \"pearson\": 0.9421876876700758}, {\"video\": \"Branda_schmitz_13\", \"pearson\": 0.9605701280774012}, {\"video\": \"godofwar_47\", \"pearson\": 0.9713230290129454}, {\"video\": \"overwatch_58\", \"pearson\": 0.9897753502602418}, {\"video\": \"rammstein_62\", \"pearson\": 0.9717116703706182}, {\"video\": \"flappy_bird_110\", \"pearson\": 0.972041133018803}, {\"video\": \"would_you_rather_61\", \"pearson\": 0.9620282381615306}, {\"video\": \"slipknot_101\", \"pearson\": 0.9696045053722467}, {\"video\": \"50_50_61\", \"pearson\": 0.9598866882183641}, {\"video\": \"gta2_60\", \"pearson\": 0.9439588257574424}, {\"video\": \"eminem_84\", \"pearson\": 0.9791636599916103}, {\"video\": \"50_50_100\", \"pearson\": 0.95634436645794}, {\"video\": \"rammstein_113\", \"pearson\": 0.9835079694926994}, {\"video\": \"would_you_rather_36\", \"pearson\": 0.9615238135885621}, {\"video\": \"flappy_bird_98\", \"pearson\": 0.9967438859779264}, {\"video\": \"play_red_dead_62\", \"pearson\": 0.9014215053333597}, {\"video\": \"bully_burger_69\", \"pearson\": 0.9521765622451975}, {\"video\": \"happy_wheels_51\", \"pearson\": 0.985482011512036}, {\"video\": \"vaping_for_the1st_93\", \"pearson\": 0.9786306482716962}, {\"video\": \"happy_wheels_44\", \"pearson\": 0.8958779992623837}, {\"video\": \"Branda_schmitz_82\", \"pearson\": 0.9398938396493461}, {\"video\": \"f_marry_kill_39\", \"pearson\": 0.9809532660099909}, {\"video\": \"bully_burger_78\", \"pearson\": 0.9855164189317733}, {\"video\": \"burnshoes_74\", \"pearson\": 0.9791872014895135}, {\"video\": \"f_marry_kill_100\", \"pearson\": 0.9831368549884625}, {\"video\": \"heartbeat_64\", \"pearson\": 0.9487331898376171}, {\"video\": \"vaping_for_the1st_92\", \"pearson\": 0.9908381202025145}, {\"video\": \"50_50_65\", \"pearson\": 0.9369798984765233}, {\"video\": \"godofwar_87\", \"pearson\": 0.8608125843074503}, {\"video\": \"play_lastofus_165\", \"pearson\": 0.9149870291237147}, {\"video\": \"would_you_rather_65\", \"pearson\": 0.9758416068949489}, {\"video\": \"happy_wheels_65\", \"pearson\": 0.9919105339835323}, {\"video\": \"Branda_schmitz_11\", \"pearson\": 0.963853862170786}, {\"video\": \"burnshoes_7\", \"pearson\": 0.9514191569937902}, {\"video\": \"rammstein_89\", \"pearson\": 0.9693303081886631}, {\"video\": \"Branda_schmitz_69\", \"pearson\": 0.9867048354279364}, {\"video\": \"flappy_bird_44\", \"pearson\": 0.9424762533019466}, {\"video\": \"Branda_schmitz_107\", \"pearson\": 0.9873143537383584}, {\"video\": \"battlefield1_8\", \"pearson\": 0.9494599545710585}, {\"video\": \"gta2_55\", \"pearson\": 0.8140135065046901}, {\"video\": \"vaping_for_the1st_100\", \"pearson\": 0.9598988288113786}, {\"video\": \"whack_your_boss_66\", \"pearson\": 0.9879889911852376}, {\"video\": \"eminem_12\", \"pearson\": 0.8200875281014568}, {\"video\": \"vaping_for_the1st_32\", \"pearson\": 0.8581520271488792}, {\"video\": \"burnshoes_25\", \"pearson\": 0.9817234749842969}, {\"video\": \"pewdiepie_53\", \"pearson\": 0.9975031514749984}, {\"video\": \"play_lastofus_86\", \"pearson\": 0.8674601590009033}, {\"video\": \"play_lastofus_153\", \"pearson\": 0.9644945318970329}, {\"video\": \"bully_burger_94\", \"pearson\": 0.9586566834795422}, {\"video\": \"gta1_21\", \"pearson\": 0.9888484271895905}, {\"video\": \"godofwar_96\", \"pearson\": 0.8847426927977493}, {\"video\": \"flappy_bird_32\", \"pearson\": 0.9909642549853426}, {\"video\": \"qwop_61\", \"pearson\": 0.987115016158351}, {\"video\": \"fatality_8\", \"pearson\": 0.9308229554536853}, {\"video\": \"gta1_16\", \"pearson\": 0.9872873887997157}, {\"video\": \"gta2_19\", \"pearson\": 0.9840029156211666}, {\"video\": \"whack_your_boss_103\", \"pearson\": 0.9827797157906664}, {\"video\": \"slipknot_55\", \"pearson\": 0.8381790771700569}, {\"video\": \"david_bowie_94\", \"pearson\": 0.9863544099853728}, {\"video\": \"happy_wheels_83\", \"pearson\": 0.8308190425234221}, {\"video\": \"qwop_42\", \"pearson\": 0.9558937824703563}, {\"video\": \"would_you_rather_35\", \"pearson\": 0.987876745308842}, {\"video\": \"Branda_schmitz_61\", \"pearson\": 0.971115619012013}, {\"video\": \"flappy_bird_34\", \"pearson\": 0.9851509271701414}, {\"video\": \"godofwar_68\", \"pearson\": 0.9637112008330349}, {\"video\": \"play_road_redemp_14\", \"pearson\": 0.8720555299973541}, {\"video\": \"eminem_145\", \"pearson\": 0.9795021035517513}, {\"video\": \"TRY_NOT_LOOK_AWAY_27\", \"pearson\": 0.9378595074794792}, {\"video\": \"marshmello_100\", \"pearson\": 0.9835055417301966}, {\"video\": \"godofwar_54\", \"pearson\": 0.9712294031057546}, {\"video\": \"battlefield1_0\", \"pearson\": 0.9690332915039929}, {\"video\": \"rammstein_123\", \"pearson\": 0.9917406373722338}, {\"video\": \"TRY_NOT_LOOK_AWAY_20\", \"pearson\": 0.9583777187012932}, {\"video\": \"david_bowie_84\", \"pearson\": 0.9943643824693638}, {\"video\": \"david_bowie_105\", \"pearson\": 0.9831827071136703}, {\"video\": \"f_marry_kill_25\", \"pearson\": 0.9804315022052601}, {\"video\": \"play_lastofus_102\", \"pearson\": 0.9410786594930781}, {\"video\": \"not_mad_64\", \"pearson\": 0.9867004010808865}, {\"video\": \"dolan_dark_89\", \"pearson\": 0.9938005817689826}, {\"video\": \"godofwar_37\", \"pearson\": 0.8654913243013276}, {\"video\": \"Branda_schmitz_101\", \"pearson\": 0.9884937761960484}, {\"video\": \"play_road_redemp_60\", \"pearson\": 0.9910999852417365}, {\"video\": \"would_you_rather_34\", \"pearson\": 0.9966766743796136}, {\"video\": \"TRY_NOT_LOOK_AWAY_4\", \"pearson\": 0.9732528631746312}, {\"video\": \"f_marry_kill_73\", \"pearson\": 0.9781743832303631}, {\"video\": \"heartbeat_61\", \"pearson\": 0.989884479515321}, {\"video\": \"rammstein_34\", \"pearson\": 0.9650942341896828}, {\"video\": \"dolan_dark_22\", \"pearson\": 0.9841197850997783}, {\"video\": \"play_red_dead_114\", \"pearson\": 0.8269637203676482}, {\"video\": \"pssy_slap_15\", \"pearson\": 0.8824413072426481}, {\"video\": \"play_red_dead_36\", \"pearson\": 0.9822651707575747}, {\"video\": \"would_you_rather_5\", \"pearson\": 0.9776579272717237}, {\"video\": \"rammstein_22\", \"pearson\": 0.9782953564747139}, {\"video\": \"david_bowie_18\", \"pearson\": 0.9951298256312802}, {\"video\": \"bully_burger_93\", \"pearson\": 0.9510982118336612}, {\"video\": \"david_bowie_69\", \"pearson\": 0.9869194216300279}, {\"video\": \"eminem_31\", \"pearson\": 0.9931675724720925}, {\"video\": \"qwop_63\", \"pearson\": 0.8638947324232518}, {\"video\": \"japanese_show_44\", \"pearson\": 0.9121744049047757}, {\"video\": \"whack_your_boss_14\", \"pearson\": 0.8051033648408383}, {\"video\": \"play_lastofus_205\", \"pearson\": 0.9695930518768862}, {\"video\": \"game_of_thrones_29\", \"pearson\": 0.8557179308760752}, {\"video\": \"50_50_64\", \"pearson\": 0.9896208709154033}, {\"video\": \"whack_your_boss_16\", \"pearson\": 0.8132798520472195}, {\"video\": \"gta2_3\", \"pearson\": 0.9883293706211248}, {\"video\": \"Branda_schmitz_95\", \"pearson\": 0.9659334882995307}, {\"video\": \"happy_wheels_34\", \"pearson\": 0.9819703176721539}, {\"video\": \"dolan_dark_104\", \"pearson\": 0.9340496225687964}, {\"video\": \"david_bowie_85\", \"pearson\": 0.9887963840371548}, {\"video\": \"gta1_1\", \"pearson\": 0.05174933146657267}, {\"video\": \"burnshoes_36\", \"pearson\": 0.9757510920387465}, {\"video\": \"qwop_53\", \"pearson\": 0.9406168721522586}, {\"video\": \"f_marry_kill_43\", \"pearson\": 0.9939080373989446}, {\"video\": \"vaping_for_the1st_37\", \"pearson\": 0.9903627895185037}, {\"video\": \"bully_burger_54\", \"pearson\": 0.9801511734845875}, {\"video\": \"game_of_thrones_16\", \"pearson\": 0.9916508834833764}, {\"video\": \"qwop_38\", \"pearson\": 0.9783270442746572}, {\"video\": \"cuphead_58\", \"pearson\": 0.9850057146114984}, {\"video\": \"rammstein_49\", \"pearson\": 0.9833934426203169}]}}, {\"mode\": \"vega-lite\"});\n",
       "</script>"
      ],
      "text/plain": [
       "alt.Chart(...)"
      ]
     },
     "execution_count": 25,
     "metadata": {},
     "output_type": "execute_result"
    }
   ],
   "source": [
    "import altair as alt\n",
    "\n",
    "base = alt.Chart(pearson_dataset)\n",
    "\n",
    "bar = base.mark_bar().encode(\n",
    "    x=alt.X('pearson', bin=alt.Bin(maxbins=615)),\n",
    "    y='count()'\n",
    ").properties(\n",
    "    width=600,\n",
    "    height=100\n",
    ")\n",
    "\n",
    "bar"
   ]
  }
 ],
 "metadata": {
  "kernelspec": {
   "display_name": "Python 3",
   "language": "python",
   "name": "python3"
  },
  "language_info": {
   "codemirror_mode": {
    "name": "ipython",
    "version": 3
   },
   "file_extension": ".py",
   "mimetype": "text/x-python",
   "name": "python",
   "nbconvert_exporter": "python",
   "pygments_lexer": "ipython3",
   "version": "3.8.8"
  }
 },
 "nbformat": 4,
 "nbformat_minor": 4
}
