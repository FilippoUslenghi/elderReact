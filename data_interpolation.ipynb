{
 "cells": [
  {
   "cell_type": "code",
   "execution_count": 1,
   "metadata": {},
   "outputs": [],
   "source": [
    "%matplotlib inline\n",
    "\n",
    "import os\n",
    "import re\n",
    "import random\n",
    "import numpy as np\n",
    "import pandas as pd\n",
    "import matplotlib.pyplot as plt\n",
    "import seaborn as sns\n",
    "import cv2\n",
    "from scipy.signal import find_peaks, peak_widths\n",
    "from scipy.stats import pearsonr\n",
    "from sklearn.metrics import mean_squared_error, r2_score\n",
    "from sklearn import preprocessing"
   ]
  },
  {
   "cell_type": "code",
   "execution_count": 2,
   "metadata": {},
   "outputs": [],
   "source": [
    "FACE_MESH = pd.read_csv('faceMesh/face_mesh.csv')\n",
    "\n",
    "def landmarks_mapper(video: str, cleansed_data: bool):\n",
    "    \n",
    "    OPENFACE_LANDMARKS = [i for i in range(17, 68)]\n",
    "    \n",
    "    if cleansed_data:\n",
    "        OPENFACE_DIR = 'openFace/processed_cleansed/'\n",
    "        MEDIAPIPE_DIR = 'mediaPipe/processed_cleansed/'\n",
    "    else:\n",
    "        OPENFACE_DIR = 'openFace/processed/'\n",
    "        MEDIAPIPE_DIR = 'mediaPipe/processed/'\n",
    "        \n",
    "    of_df = pd.read_csv(OPENFACE_DIR + video + '_openface.csv')\n",
    "    mp_df = pd.read_csv(MEDIAPIPE_DIR + video + '_mediapipe.csv')\n",
    "    \n",
    "    final_df = of_df['frame'] # initialize the final dataframe\n",
    "    for i, landmark in enumerate(OPENFACE_LANDMARKS):\n",
    "\n",
    "        mask = (FACE_MESH['openFace_landmark'] == landmark) # group the mediapipe landmarks by the openface landmark\n",
    "\n",
    "        tmp1_df = of_df[[f'x_{landmark}', f'y_{landmark}']] # select the columns from the openface dataframe\n",
    "        tmp1_df.columns = [f'openface_x_{landmark}', f'openface_y_{landmark}'] # rename the columnsk\n",
    "        \n",
    "        mediaPipe_landmarks_X = ['x_'+str(ID) for ID in FACE_MESH[mask].id] # collect the X coordinate\n",
    "        mediaPipe_landmarks_Y = ['y_'+str(ID) for ID in FACE_MESH[mask].id] # collect the Y coordinate\n",
    "        \n",
    "        tmp2_df = pd.DataFrame({f'mediapipe_x_{landmark}':mp_df[mediaPipe_landmarks_X].mean(axis=1),\n",
    "                                f'mediapipe_y_{landmark}':mp_df[mediaPipe_landmarks_Y].mean(axis=1)})\n",
    "        \n",
    "        final_df = pd.concat([final_df, tmp1_df, tmp2_df], axis=1)\n",
    "        \n",
    "    return final_df"
   ]
  },
  {
   "cell_type": "code",
   "execution_count": 4,
   "metadata": {},
   "outputs": [],
   "source": [
    "def mse(df: pd.DataFrame):\n",
    "    \n",
    "    lndmk_mse = []\n",
    "    for i in range(17, 68):\n",
    "        \n",
    "        x_mse = mean_squared_error(df[f'mediapipe_x_{i}'].to_numpy(), df[f'openface_x_{i}'].to_numpy())\n",
    "        y_mse = mean_squared_error(df[f'mediapipe_y_{i}'].to_numpy(), df[f'openface_y_{i}'].to_numpy())\n",
    "        lndmk_mse.append((x_mse+y_mse)/2)\n",
    "    \n",
    "    video_mse = np.mean(lndmk_mse)\n",
    "    \n",
    "    return video_mse"
   ]
  },
  {
   "cell_type": "code",
   "execution_count": null,
   "metadata": {},
   "outputs": [],
   "source": [
    "video_name = '50_50_4'\n",
    "window_size = (lambda seconds: round(24*seconds))(0.2)\n",
    "mapped_landmarks_df = landmarks_mapper(video_name, cleansed_data=True)\n",
    "windows = mapped_landmarks_df.rolling(window=window_size, center=True)\n",
    "windowized_mse = preprocessing.normalize([[mse(window) for window in windows]], norm='max').flatten()"
   ]
  },
  {
   "cell_type": "code",
   "execution_count": null,
   "metadata": {},
   "outputs": [],
   "source": [
    "plt.plot(win_mse)\n",
    "plt.title('MSE')\n",
    "\n",
    "peaks, _ = find_peaks(windowized_mse, height=0.15)\n",
    "widths = peak_widths(windowized_mse, peaks, rel_height=0.95)\n",
    "\n",
    "plt.plot(peaks, windowized_mse[peaks], 'x')\n",
    "plt.hlines(*widths[1:], color=\"C3\")\n",
    "\n",
    "plt.show()"
   ]
  },
  {
   "cell_type": "code",
   "execution_count": null,
   "metadata": {},
   "outputs": [],
   "source": []
  }
 ],
 "metadata": {
  "kernelspec": {
   "display_name": "Python 3",
   "language": "python",
   "name": "python3"
  },
  "language_info": {
   "codemirror_mode": {
    "name": "ipython",
    "version": 3
   },
   "file_extension": ".py",
   "mimetype": "text/x-python",
   "name": "python",
   "nbconvert_exporter": "python",
   "pygments_lexer": "ipython3",
   "version": "3.8.10"
  }
 },
 "nbformat": 4,
 "nbformat_minor": 4
}
