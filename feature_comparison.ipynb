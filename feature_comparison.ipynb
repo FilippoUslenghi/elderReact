{
 "cells": [
  {
   "cell_type": "code",
   "execution_count": 2,
   "metadata": {},
   "outputs": [],
   "source": [
    "import os\n",
    "import numpy as np\n",
    "import pandas as pd\n",
    "import matplotlib.pyplot as plt\n",
    "import seaborn as sns\n",
    "import cv2\n",
    "import re"
   ]
  },
  {
   "cell_type": "markdown",
   "metadata": {},
   "source": [
    "### Carica gli insiemi di video creati in 'subset_creation.ipynb'"
   ]
  },
  {
   "cell_type": "code",
   "execution_count": 3,
   "metadata": {},
   "outputs": [],
   "source": [
    "%store -r good_videos avg_videos bad_videos"
   ]
  },
  {
   "cell_type": "code",
   "execution_count": 4,
   "metadata": {},
   "outputs": [
    {
     "name": "stdout",
     "output_type": "stream",
     "text": [
      "play_lastofus_90\n"
     ]
    }
   ],
   "source": [
    "OPENFACE_DIR = 'openFace/processed/'\n",
    "MEDIAPIPE_DIR = 'mediaPipe/processed/'\n",
    "\n",
    "video = good_videos[0]\n",
    "print(video)"
   ]
  },
  {
   "cell_type": "code",
   "execution_count": 19,
   "metadata": {},
   "outputs": [
    {
     "data": {
      "text/plain": [
       "['x_1',\n",
       " 'x_2',\n",
       " 'x_3',\n",
       " 'x_4',\n",
       " 'x_5',\n",
       " 'x_6',\n",
       " 'x_8',\n",
       " 'x_9',\n",
       " 'x_19',\n",
       " 'x_20',\n",
       " 'x_44',\n",
       " 'x_45',\n",
       " 'x_47',\n",
       " 'x_48',\n",
       " 'x_49',\n",
       " 'x_51',\n",
       " 'x_59',\n",
       " 'x_60',\n",
       " 'x_64',\n",
       " 'x_75',\n",
       " 'x_79',\n",
       " 'x_95',\n",
       " 'x_97',\n",
       " 'x_98',\n",
       " 'x_99',\n",
       " 'x_102',\n",
       " 'x_114',\n",
       " 'x_115',\n",
       " 'x_122',\n",
       " 'x_125',\n",
       " 'x_126',\n",
       " 'x_128',\n",
       " 'x_129',\n",
       " 'x_131',\n",
       " 'x_134',\n",
       " 'x_141',\n",
       " 'x_166',\n",
       " 'x_168',\n",
       " 'x_174',\n",
       " 'x_188',\n",
       " 'x_193',\n",
       " 'x_195',\n",
       " 'x_196',\n",
       " 'x_197',\n",
       " 'x_198',\n",
       " 'x_209',\n",
       " 'x_217',\n",
       " 'x_218',\n",
       " 'x_219',\n",
       " 'x_220',\n",
       " 'x_235',\n",
       " 'x_236',\n",
       " 'x_237',\n",
       " 'x_238',\n",
       " 'x_239',\n",
       " 'x_240',\n",
       " 'x_241',\n",
       " 'x_242',\n",
       " 'x_245',\n",
       " 'x_248',\n",
       " 'x_250',\n",
       " 'x_274',\n",
       " 'x_275',\n",
       " 'x_277',\n",
       " 'x_278',\n",
       " 'x_279',\n",
       " 'x_281',\n",
       " 'x_289',\n",
       " 'x_290',\n",
       " 'x_294',\n",
       " 'x_305',\n",
       " 'x_309',\n",
       " 'x_310',\n",
       " 'x_326',\n",
       " 'x_327',\n",
       " 'x_328',\n",
       " 'x_331',\n",
       " 'x_343',\n",
       " 'x_344',\n",
       " 'x_350',\n",
       " 'x_351',\n",
       " 'x_354',\n",
       " 'x_355',\n",
       " 'x_357',\n",
       " 'x_358',\n",
       " 'x_360',\n",
       " 'x_363',\n",
       " 'x_370',\n",
       " 'x_392',\n",
       " 'x_399',\n",
       " 'x_412',\n",
       " 'x_417',\n",
       " 'x_419',\n",
       " 'x_420',\n",
       " 'x_429',\n",
       " 'x_437',\n",
       " 'x_438',\n",
       " 'x_439',\n",
       " 'x_440',\n",
       " 'x_455',\n",
       " 'x_456',\n",
       " 'x_457',\n",
       " 'x_458',\n",
       " 'x_459',\n",
       " 'x_460',\n",
       " 'x_461',\n",
       " 'x_462',\n",
       " 'x_464',\n",
       " 'x_465']"
      ]
     },
     "execution_count": 19,
     "metadata": {},
     "output_type": "execute_result"
    }
   ],
   "source": [
    "face_mesh = pd.read_csv('mediaPipe/faceMesh/face_mesh.csv')\n",
    "\n",
    "nose_mask = face_mesh['face_element'] == 'nose'\n",
    "nose_landmarks = face_mesh[nose_mask]\n",
    "\n",
    "nose_landmarks.head(10)\n",
    "\n",
    "mediaPipe_landmarks_X = ['x_'+str(ID) for ID in nose_landmarks.id]\n",
    "mediaPipe_landmarks_X"
   ]
  },
  {
   "cell_type": "code",
   "execution_count": 10,
   "metadata": {},
   "outputs": [
    {
     "data": {
      "image/png": "[encoded data removed]",
      "text/plain": [
       "<Figure size 432x288 with 1 Axes>"
      ]
     },
     "metadata": {
      "needs_background": "light"
     },
     "output_type": "display_data"
    }
   ],
   "source": [
    "of_csv = OPENFACE_DIR + video + '.csv'\n",
    "of_df = pd.read_csv(of_csv)\n",
    "of_df['tool'] = ['openFace' for _ in range(len(of_df.index))]\n",
    "\n",
    "mp_csv = MEDIAPIPE_DIR + video + '_mediapipe.csv'\n",
    "mp_df = pd.read_csv(mp_csv)\n",
    "mp_df['tool'] = ['mediaPipe' for _ in range(len(mp_df.index))]\n",
    "\n",
    "df = pd.concat([of_df, mp_df], ignore_index=True)\n",
    "\n",
    "sns.lineplot(x='frame', y='x_0', data=df, hue='tool')\n",
    "plt.show()"
   ]
  },
  {
   "cell_type": "code",
   "execution_count": null,
   "metadata": {},
   "outputs": [],
   "source": [
    "x_regex_pat = re.compile(r'^x_[0-9]+$')\n",
    "y_regex_pat = re.compile(r'^y_[0-9]+$')\n",
    "\n",
    "fig, axes = plt.subplots(8, 5, figsize=(15, 15), sharex=True, sharey=True)\n",
    "axes = axes.flatten()\n",
    "\n",
    "for i, videoName in enumerate(small_videoList):\n",
    "    videoCsv = base_dir + videoName + '/' + videoName + '.csv'\n",
    "    df = pd.read_csv(videoCsv)\n",
    "    df.columns = columns\n",
    "\n",
    "    x_locs = df.columns[df.columns.str.contains(x_regex_pat)]\n",
    "    y_locs = df.columns[df.columns.str.contains(y_regex_pat)]\n",
    "\n",
    "\n",
    "    palette = sns.color_palette()\n",
    "    avg_face_df = pd.DataFrame({'x_locs': df[x_locs].mean(axis=1), 'y_locs': df[y_locs].mean(axis=1)})\n",
    "    sns.scatterplot(x='x_locs', y='y_locs', data=avg_face_df, marker='+', ax=axes[i])\n",
    "    axes[i].set(xlim=[0, 1920], ylim=[1080, 0], title=videoName)\n",
    "plt.tight_layout()\n",
    "plt.show()"
   ]
  }
 ],
 "metadata": {
  "kernelspec": {
   "display_name": "Python 3",
   "language": "python",
   "name": "python3"
  },
  "language_info": {
   "codemirror_mode": {
    "name": "ipython",
    "version": 3
   },
   "file_extension": ".py",
   "mimetype": "text/x-python",
   "name": "python",
   "nbconvert_exporter": "python",
   "pygments_lexer": "ipython3",
   "version": "3.8.8"
  }
 },
 "nbformat": 4,
 "nbformat_minor": 4
}
