{
 "cells": [
  {
   "cell_type": "code",
   "execution_count": 1,
   "metadata": {
    "executionInfo": {
     "elapsed": 1669,
     "status": "ok",
     "timestamp": 1614617588585,
     "user": {
      "displayName": "Raffaella Lanzarotti",
      "photoUrl": "https://lh3.googleusercontent.com/a-/AOh14GjLUubK7PZxjwPv0HfoVvCMbBfVgB_XZGcXiYs0q7w=s64",
      "userId": "13623836324684543005"
     },
     "user_tz": -60
    },
    "id": "gbMQUmfOUrxq"
   },
   "outputs": [],
   "source": [
    "import numpy as np\n",
    "from sklearn.metrics import cohen_kappa_score\n",
    "from sklearn.svm import SVC\n",
    "from sklearn import svm\n",
    "import os\n",
    "from xgboost import XGBClassifier\n",
    "from sklearn.utils import resample\n",
    "import scipy.io\n",
    "from sklearn.svm import SVR\n",
    "from scipy import stats\n",
    "import json\n",
    "from sklearn.metrics import roc_auc_score\n",
    "import math\n",
    "from sklearn.dummy import DummyClassifier\n",
    "from sklearn.naive_bayes import GaussianNB\n",
    "from sklearn.metrics import f1_score\n",
    "from sklearn.metrics import accuracy_score\n",
    "from scipy.stats import uniform as sp_rand\n",
    "from sklearn.model_selection import RandomizedSearchCV\n",
    "from sklearn.model_selection import GridSearchCV\n",
    "from sklearn.metrics import classification_report\n",
    "from sklearn.svm import SVC\n",
    "import random\n",
    "from sklearn.metrics import precision_recall_fscore_support"
   ]
  },
  {
   "cell_type": "code",
   "execution_count": 2,
   "metadata": {
    "colab": {
     "base_uri": "https://localhost:8080/"
    },
    "executionInfo": {
     "elapsed": 530,
     "status": "ok",
     "timestamp": 1614617599075,
     "user": {
      "displayName": "Raffaella Lanzarotti",
      "photoUrl": "https://lh3.googleusercontent.com/a-/AOh14GjLUubK7PZxjwPv0HfoVvCMbBfVgB_XZGcXiYs0q7w=s64",
      "userId": "13623836324684543005"
     },
     "user_tz": -60
    },
    "id": "rLv1xIDeWcoF",
    "outputId": "0ef432d7-d375-4636-f980-24919379dc8a"
   },
   "outputs": [
    {
     "name": "stdout",
     "output_type": "stream",
     "text": [
      "surprise...\n"
     ]
    }
   ],
   "source": [
    "affects = ['anger','disgust','fear','happy','sad','surprise']\n",
    "affect_state = 5 #choose the affect to recognize, range 0~5\n",
    "print(affects[affect_state]+\"...\")\n",
    "feature_mode = \"video\" # audio, video or bimodal \n",
    "train_path = '' # change to your training data path\n",
    "val_path = ''\n",
    "test_path = ''"
   ]
  },
  {
   "cell_type": "code",
   "execution_count": 3,
   "metadata": {
    "executionInfo": {
     "elapsed": 537,
     "status": "ok",
     "timestamp": 1614617602806,
     "user": {
      "displayName": "Raffaella Lanzarotti",
      "photoUrl": "https://lh3.googleusercontent.com/a-/AOh14GjLUubK7PZxjwPv0HfoVvCMbBfVgB_XZGcXiYs0q7w=s64",
      "userId": "13623836324684543005"
     },
     "user_tz": -60
    },
    "id": "gPgbYMflWSNz"
   },
   "outputs": [],
   "source": [
    "def read_data(audio_feat_file, video_feat_file, label_file, affect_state, feature_mode):\n",
    "\tX=[]\n",
    "\ty=[]\n",
    "\n",
    "\tfor i in range(len(audio_feat_file)):\n",
    "\t\taudio_feat = audio_feat_file[i].strip().split(\"\\t\")[1]\n",
    "\t\taudio_feat = audio_feat.split()\n",
    "\t\taudio_feat = [float(i) for i in audio_feat]\n",
    "\t\taudio_feat = audio_feat[:36]+audio_feat[74:110]\n",
    "\t\t\n",
    "\t\tvideo_feat = video_feat_file[i].strip().split(\"\\t\")[1]\n",
    "\t\tvideo_feat = video_feat.split()\n",
    "\t\tv = [float(i) for i in video_feat]\n",
    "\t\tvideo_feat = v[0:8]+v[288:294]+v[634:717]+v[997:1003]+v[1343:]\n",
    "\n",
    "\t\tif feature_mode == \"audio\":\n",
    "\t\t\tfeat = audio_feat\n",
    "\t\telif feature_mode == \"video\":\n",
    "\t\t\tfeat = video_feat\n",
    "\t\telif feature_mode == \"bimodal\":\n",
    "\t\t\tfeat = audio_feat_video_feat\n",
    "\n",
    "\t\tlabel = label_file[i].split(\" \")[1:]\n",
    "\t\tlabel = int(label[affect_state])\n",
    "\n",
    "\t\tX.append(feat)\n",
    "\t\ty.append(label)\n",
    "\n",
    "\treturn X, y\t"
   ]
  },
  {
   "cell_type": "code",
   "execution_count": 4,
   "metadata": {
    "colab": {
     "base_uri": "https://localhost:8080/"
    },
    "executionInfo": {
     "elapsed": 22311,
     "status": "ok",
     "timestamp": 1614617627362,
     "user": {
      "displayName": "Raffaella Lanzarotti",
      "photoUrl": "https://lh3.googleusercontent.com/a-/AOh14GjLUubK7PZxjwPv0HfoVvCMbBfVgB_XZGcXiYs0q7w=s64",
      "userId": "13623836324684543005"
     },
     "user_tz": -60
    },
    "id": "CkgXQa42XCcG",
    "outputId": "5792d56e-65b2-4afb-f166-65fbd9ca396b"
   },
   "outputs": [],
   "source": [
    "# from google.colab import drive\n",
    "# drive.mount('/gdrive')\n",
    "# %cd /gdrive"
   ]
  },
  {
   "cell_type": "code",
   "execution_count": 5,
   "metadata": {
    "colab": {
     "base_uri": "https://localhost:8080/",
     "height": 35
    },
    "executionInfo": {
     "elapsed": 534,
     "status": "ok",
     "timestamp": 1614617629991,
     "user": {
      "displayName": "Raffaella Lanzarotti",
      "photoUrl": "https://lh3.googleusercontent.com/a-/AOh14GjLUubK7PZxjwPv0HfoVvCMbBfVgB_XZGcXiYs0q7w=s64",
      "userId": "13623836324684543005"
     },
     "user_tz": -60
    },
    "id": "P77CaxMCYrds",
    "outputId": "ece882ac-85bf-4ac1-da8e-736e5b2569c4"
   },
   "outputs": [
    {
     "data": {
      "text/plain": [
       "'C:\\\\Users\\\\us98\\\\PycharmProjects\\\\elderReactProject\\\\dataset\\\\ElderReact-master\\\\Features/Audio_feat/train_audio.txt'"
      ]
     },
     "execution_count": 5,
     "metadata": {},
     "output_type": "execute_result"
    }
   ],
   "source": [
    "# paste here path of Drive folder\n",
    "# base_dir = '/gdrive/My Drive/Colab_Notebooks/ElderReact-master'\n",
    "base_dir = 'C:\\\\Users\\\\us98\\\\PycharmProjects\\\\elderReactProject\\\\dataset\\\\ElderReact-master'\n",
    "file= os.path.join(base_dir, 'Features/Audio_feat/train_audio.txt')\n",
    "file"
   ]
  },
  {
   "cell_type": "code",
   "execution_count": 6,
   "metadata": {
    "executionInfo": {
     "elapsed": 3508,
     "status": "ok",
     "timestamp": 1614617652747,
     "user": {
      "displayName": "Raffaella Lanzarotti",
      "photoUrl": "https://lh3.googleusercontent.com/a-/AOh14GjLUubK7PZxjwPv0HfoVvCMbBfVgB_XZGcXiYs0q7w=s64",
      "userId": "13623836324684543005"
     },
     "user_tz": -60
    },
    "id": "wt72f-fwi_hS"
   },
   "outputs": [],
   "source": [
    "f = open(os.path.join(base_dir, 'Features/Audio_feat/train_audio.txt')).readlines()\n",
    "g = open(os.path.join(base_dir, 'Features/Video_feat/train_video.txt')).readlines()\n",
    "h = open(os.path.join(base_dir, 'Annotations/train_labels.txt')).readlines()\n",
    "X, y = read_data(f, g, h, affect_state, feature_mode)"
   ]
  },
  {
   "cell_type": "code",
   "execution_count": 7,
   "metadata": {
    "executionInfo": {
     "elapsed": 2043,
     "status": "ok",
     "timestamp": 1614617656113,
     "user": {
      "displayName": "Raffaella Lanzarotti",
      "photoUrl": "https://lh3.googleusercontent.com/a-/AOh14GjLUubK7PZxjwPv0HfoVvCMbBfVgB_XZGcXiYs0q7w=s64",
      "userId": "13623836324684543005"
     },
     "user_tz": -60
    },
    "id": "uw1ZU89tUO6o"
   },
   "outputs": [],
   "source": [
    "f = open(os.path.join(base_dir, 'Features/Audio_feat/dev_audio.txt')).readlines()\n",
    "g = open(os.path.join(base_dir, 'Features/Video_feat/dev_video.txt')).readlines()\n",
    "h = open(os.path.join(base_dir, 'Annotations/dev_labels.txt')).readlines()\n",
    "X_val, y_val = read_data(f, g, h, affect_state, feature_mode)"
   ]
  },
  {
   "cell_type": "code",
   "execution_count": 8,
   "metadata": {
    "executionInfo": {
     "elapsed": 2024,
     "status": "ok",
     "timestamp": 1614617658901,
     "user": {
      "displayName": "Raffaella Lanzarotti",
      "photoUrl": "https://lh3.googleusercontent.com/a-/AOh14GjLUubK7PZxjwPv0HfoVvCMbBfVgB_XZGcXiYs0q7w=s64",
      "userId": "13623836324684543005"
     },
     "user_tz": -60
    },
    "id": "4vujvlHEmTD7"
   },
   "outputs": [],
   "source": [
    "f = open(os.path.join(base_dir, 'Features/Audio_feat/test_audio.txt')).readlines()\n",
    "g = open(os.path.join(base_dir, 'Features/Video_feat/test_video.txt')).readlines()\n",
    "h = open(os.path.join(base_dir, 'Annotations/test_labels.txt')).readlines()\n",
    "X_test, y_test = read_data(f, g, h, affect_state, feature_mode)\n"
   ]
  },
  {
   "cell_type": "code",
   "execution_count": 9,
   "metadata": {
    "colab": {
     "base_uri": "https://localhost:8080/"
    },
    "executionInfo": {
     "elapsed": 16920,
     "status": "ok",
     "timestamp": 1614617677374,
     "user": {
      "displayName": "Raffaella Lanzarotti",
      "photoUrl": "https://lh3.googleusercontent.com/a-/AOh14GjLUubK7PZxjwPv0HfoVvCMbBfVgB_XZGcXiYs0q7w=s64",
      "userId": "13623836324684543005"
     },
     "user_tz": -60
    },
    "id": "eaefhUFJUnKJ",
    "outputId": "aecefc8e-3734-459a-ccef-4620e72ef069"
   },
   "outputs": [
    {
     "name": "stdout",
     "output_type": "stream",
     "text": [
      "(array([], dtype=int64), array([], dtype=int64))\n",
      "(array([], dtype=int64), array([], dtype=int64))\n",
      "(array([], dtype=int64), array([], dtype=int64))\n",
      "accuracy score is...\n",
      "0.5925925925925926\n",
      "F1 score is...\n",
      "0.491103202846975\n",
      "Cohen Kappa score is..\n",
      "0.16332449867480114\n"
     ]
    }
   ],
   "source": [
    "X=np.asarray(X)\n",
    "X_val=np.asarray(X_val)\n",
    "X_test=np.asarray(X_test)\n",
    "print(np.where(np.isnan(X)))\n",
    "print(np.where(np.isnan(X_val)))\n",
    "print(np.where(np.isnan(X_test)))\n",
    "X_test=np.delete(X_test,(289),axis=0) # delete NaN value\n",
    "X_test=np.delete(X_test,(43),axis=0)\n",
    "y_test.pop(289)\n",
    "y_test.pop(43)\n",
    "\n",
    "\n",
    "#feature normalization\n",
    "train_min = X.min(axis=0)\n",
    "train_max = X.max(axis=0)\n",
    "\n",
    "diff = train_min-train_max\n",
    "X = X - train_min\n",
    "X = X/diff#.T\n",
    "\n",
    "\n",
    "X_val = X_val - train_min\n",
    "X_val = X_val/diff\n",
    "\n",
    "X_test = X_test - train_min\n",
    "X_test = X_test/diff\n",
    "\n",
    "\n",
    "\n",
    "def subsampling(X,y):\n",
    "\tsamples_needed = 0\n",
    "\tfor num in y:\n",
    "\t\tif num == 1:\n",
    "\t\t\tsamples_needed += 1\n",
    "\n",
    "\tX_neg = []\n",
    "\tX_pos = []\n",
    "\tfor i, val in enumerate(y):\n",
    "\t\tif val == 0:\n",
    "\t\t\tX_neg.append(X[i])\n",
    "\t\telse:\n",
    "\t\t\tX_pos.append(X[i])\n",
    "\n",
    "\tX_resample = resample(X_neg,replace=True,n_samples=samples_needed)\n",
    "\n",
    "\tnew_X = X_pos+X_resample\n",
    "\n",
    "\tnew_y = []\n",
    "\tfor i in range(samples_needed):\n",
    "\t\tnew_y.append(1)\n",
    "\tfor i in range(samples_needed):\n",
    "\t\tnew_y.append(0)\n",
    "\n",
    "\treturn new_X, new_y\n",
    "\n",
    "\n",
    "\n",
    "num_iter = 100\n",
    "all_pred = []\n",
    "all_prob = []\n",
    "all_f1 = 0\n",
    "clf_mode = \"svm\" # svm, gnb, xgboost, dummy\n",
    "mode = \"test\" # val or test. val mode is for searching for hyperparameters\n",
    "for i in range(num_iter):\n",
    "\tif clf_mode == \"gnb\":\n",
    "\t\tclf = GaussianNB()\n",
    "\n",
    "\telif clf_mode == \"svm\":\n",
    "\t\te = -4 # hyperparameters to be tuned\n",
    "\t\tc = math.pow(10,e)\n",
    "\t\tclf = SVC(gamma='scale',C=c)\n",
    "\n",
    "\telif clf_mode == \"xgboost\":\n",
    "\t\tclf = XGBClassifier()\n",
    "\n",
    "\telif clf_mode == \"dummy\":\n",
    "\t\tclf = DummyClassifier()\n",
    "\n",
    "\tnew_X,new_y = subsampling(X,y)\n",
    "\tnew_X=np.asarray(new_X)\n",
    "\tnew_y=np.asarray(new_y)\n",
    "\n",
    "\tclf.fit(new_X,new_y)\n",
    "\n",
    "\tif mode == \"val\":\n",
    "\t\ty_pred = clf.predict(X_val) #X_val or X_test\n",
    "\n",
    "\telif mode == \"test\":\n",
    "\t\ty_pred = clf.predict(X_test)\n",
    "\n",
    "\tall_pred.append(y_pred)\n",
    "\n",
    "\n",
    "\n",
    "all_pred = np.asarray(all_pred)\n",
    "final_pred, _ = stats.mode(all_pred) # voting\n",
    "final_pred = final_pred[0]\n",
    "#print(final_pred)\n",
    "\n",
    "print(\"accuracy score is...\")\n",
    "print(accuracy_score(y_test, final_pred))\n",
    "print(\"F1 score is...\")\n",
    "print(f1_score(y_test,final_pred))\n",
    "print(\"Cohen Kappa score is..\")\n",
    "print(cohen_kappa_score(y_test,final_pred,weights='linear'))\n",
    "\n",
    "\n",
    "# count = 0\n",
    "# for i in range(len(y_test)):\n",
    "# \tif y_test[i] == 1:\n",
    "# \t\tcount+=1\n",
    "\n",
    "# print(\"positive cases..\")\n",
    "# print(count)\n",
    "# print(\"negative cases..\")\n",
    "# print(len(y_test)-count)\n"
   ]
  },
  {
   "cell_type": "code",
   "execution_count": null,
   "metadata": {},
   "outputs": [],
   "source": []
  }
 ],
 "metadata": {
  "colab": {
   "name": "baseline1.ipynb",
   "provenance": []
  },
  "kernelspec": {
   "display_name": "Python 3",
   "language": "python",
   "name": "python3"
  },
  "language_info": {
   "codemirror_mode": {
    "name": "ipython",
    "version": 3
   },
   "file_extension": ".py",
   "mimetype": "text/x-python",
   "name": "python",
   "nbconvert_exporter": "python",
   "pygments_lexer": "ipython3",
   "version": "3.8.8"
  }
 },
 "nbformat": 4,
 "nbformat_minor": 4
}
