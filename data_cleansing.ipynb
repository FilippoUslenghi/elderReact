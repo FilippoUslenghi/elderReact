{
 "cells": [
  {
   "cell_type": "code",
   "execution_count": 98,
   "metadata": {},
   "outputs": [],
   "source": [
    "import os\n",
    "import numpy as np\n",
    "import pandas as pd"
   ]
  },
  {
   "cell_type": "code",
   "execution_count": 135,
   "metadata": {},
   "outputs": [],
   "source": [
    "def remove_first_frames(df: pd.DataFrame):\n",
    "    LANDMARKS = [f'x_{i}' for i in range(68)] + [f'y_{i}' for i in range(68)]\n",
    "    \n",
    "    firstFrame_x = 0\n",
    "    firstJumps_x = np.absolute(np.diff(df.x_27.values[:30]))>30\n",
    "    if any(firstJumps_x):\n",
    "        # finding the index of the last occurence\n",
    "        firstJumps_x = firstJumps_x.tolist()\n",
    "        firstJumps_x.reverse()\n",
    "        firstFrame_x = len(firstJumps_x)-firstJumps_x.index(True)\n",
    "        \n",
    "    firstFrame_y = 0\n",
    "    firstJumps_y = np.absolute(np.diff(df.y_27.values[:30]))>30\n",
    "    if any(firstJumps_y):\n",
    "        # finding the index of the last occurence\n",
    "        firstJumps_y = firstJumps_y.tolist()\n",
    "        firstJumps_y.reverse()\n",
    "        firstFrame_y = len(firstJumps_y)-firstJumps_y.index(True)\n",
    "        \n",
    "    firstFrame = firstFrame_x if firstFrame_x>firstFrame_y else firstFrame_y\n",
    "    if firstFrame!=0: df=df.iloc[firstFrame:]\n",
    "\n",
    "    return df, int(firstFrame)"
   ]
  },
  {
   "cell_type": "code",
   "execution_count": 127,
   "metadata": {},
   "outputs": [],
   "source": [
    "def remove_last_frames(df: pd.DataFrame):\n",
    "    \n",
    "    lastFrame_x = df.iloc[-1][0]\n",
    "    lastJumps_x = np.absolute(np.diff(df.x_27.values[-30:]))>30\n",
    "    \n",
    "    if any(lastJumps_x):\n",
    "        lastJumps_x = lastJumps_x.tolist()\n",
    "        lastFrame_x = -(len(lastJumps_x)-lastJumps_x.index(True))\n",
    "        \n",
    "        \n",
    "    lastFrame_y = df.iloc[-1][0]\n",
    "    lastJumps_y = np.absolute(np.diff(df.y_27.values[-30:]))>30\n",
    "        \n",
    "    if any(lastJumps_y):\n",
    "        lastJumps_y = lastJumps_y.tolist()\n",
    "        lastFrame_y = -(len(lastJumps_y)-lastJumps_y.index(True))\n",
    "    \n",
    "    lastFrame = lastFrame_x if lastFrame_x>lastFrame_y else lastFrame_y\n",
    "    if lastFrame!=df.iloc[-1][0]: df = df.iloc[:lastFrame]\n",
    "        \n",
    "    return df, int(lastFrame)"
   ]
  },
  {
   "cell_type": "code",
   "execution_count": 136,
   "metadata": {},
   "outputs": [],
   "source": [
    "base_dir = 'dataset/ElderReact_Data/ElderReact_train/'\n",
    "for video in os.listdir(base_dir):\n",
    "    videoName = video[:-4]\n",
    "    openface_df = pd.read_csv(os.path.join('openFace/processed', f'{videoName}_openface.csv'))\n",
    "    mediapipe_df = pd.read_csv(os.path.join('mediaPipe/processed', f'{videoName}_mediapipe.csv'))\n",
    "    \n",
    "    openface_df, openface_firstFrame = remove_first_frames(openface_df)\n",
    "    mediapipe_df, mediapipe_firstFrame = remove_first_frames(mediapipe_df)\n",
    "    \n",
    "    if openface_firstFrame!=0:\n",
    "        mediapipe_df = mediapipe_df.iloc[openface_firstFrame:, :]\n",
    "    if mediapipe_firstFrame!=0:\n",
    "        openface_df = openface_df.iloc[mediapipe_firstFrame:, :]\n",
    "    \n",
    "    openface_df, openface_lastFrame = remove_last_frames(openface_df)\n",
    "    mediapipe_df, mediapipe_lastFrame = remove_last_frames(mediapipe_df)\n",
    "    \n",
    "    if openface_lastFrame!=openface_df.iloc[-1][0]:\n",
    "        mediapipe_df = mediapipe_df.iloc[:openface_lastFrame, :]\n",
    "    if mediapipe_lastFrame!=mediapipe_df.iloc[-1][0]:\n",
    "        openface_df = openface_df.iloc[:mediapipe_lastFrame, :]\n",
    "    \n",
    "    openface_df.to_csv(f'openFace/processed_cleansed/{videoName}_openface.csv', index=False)\n",
    "    mediapipe_df.to_csv(f'mediaPipe/processed_cleansed/{videoName}_mediapipe.csv', index=False)"
   ]
  }
 ],
 "metadata": {
  "kernelspec": {
   "display_name": "Python 3",
   "language": "python",
   "name": "python3"
  },
  "language_info": {
   "codemirror_mode": {
    "name": "ipython",
    "version": 3
   },
   "file_extension": ".py",
   "mimetype": "text/x-python",
   "name": "python",
   "nbconvert_exporter": "python",
   "pygments_lexer": "ipython3",
   "version": "3.8.10"
  }
 },
 "nbformat": 4,
 "nbformat_minor": 4
}
