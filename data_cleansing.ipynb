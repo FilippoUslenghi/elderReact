{
 "cells": [
  {
   "cell_type": "code",
   "execution_count": 1,
   "metadata": {},
   "outputs": [],
   "source": [
    "import os\n",
    "import numpy as np\n",
    "import pandas as pd"
   ]
  },
  {
   "cell_type": "code",
   "execution_count": 56,
   "metadata": {},
   "outputs": [],
   "source": [
    "def remove_first_frames(df: pd.DataFrame):\n",
    "    LANDMARKS = [f'x_{i}' for i in range(68)] + [f'y_{i}' for i in range(68)]\n",
    "    firstFrame = 1\n",
    "    for row in df[LANDMARKS].itertuples(index=True, name=None):\n",
    "        if not any(row[1:]): \n",
    "            df.drop(row[0], inplace=True)\n",
    "            firstFrame = int(df.iloc[0][0])\n",
    "        else: break\n",
    "    return df, firstFrame"
   ]
  },
  {
   "cell_type": "code",
   "execution_count": 131,
   "metadata": {},
   "outputs": [],
   "source": [
    "def remove_last_frames(df: pd.DataFrame):\n",
    "    LANDMARKS = [f'x_{i}' for i in range(68)] + [f'y_{i}' for i in range(68)]\n",
    "    lastFrame = df.iloc[-1][0]\n",
    "    \n",
    "    lastValues = np.diff(df.x_0.values[-30:])>30\n",
    "    if any(lastValues):\n",
    "        lastValues = lastValues.tolist()\n",
    "        lastFrame = -(len(lastValues)-lastValues.index(True))\n",
    "        df = df.iloc[:lastFrame]\n",
    "    \n",
    "    return df, lastFrame"
   ]
  },
  {
   "cell_type": "code",
   "execution_count": null,
   "metadata": {},
   "outputs": [],
   "source": [
    "broken_csvs = set()\n",
    "base_dir = 'dataset/ElderReact_Data/ElderReact_train/'\n",
    "for video in os.listdir(base_dir):\n",
    "    video = 'battlefield1_50.mp4'\n",
    "    videoName = video[:-4]\n",
    "    openface_df = pd.read_csv(os.path.join('openFace/processed', f'{videoName}_openface.csv'))\n",
    "    mediapipe_df = pd.read_csv(os.path.join('mediaPipe/processed', f'{videoName}_mediapipe.csv'))\n",
    "    \n",
    "    openface_df, openface_firstFrame = remove_first_frames(openface_df)\n",
    "    mediapipe_df, mediapipe_firstFrame = remove_first_frames(mediapipe_df)\n",
    "    \n",
    "    if openface_firstFrame!=1:\n",
    "        mediapipe_df = mediapipe_df.iloc[openface_firstFrame-1:, :]\n",
    "    elif mediapipe_firstFrame!=1:\n",
    "        openface_df = openface_df.iloc[mediapipe_firstFrame-1:, :]\n",
    "    \n",
    "    \n",
    "    openface_df, openface_lastFrame = remove_last_frames(openface_df)\n",
    "    mediapipe_df, mediapipe_lastFrame = remove_last_frames(mediapipe_df)\n",
    "    \n",
    "    if openface_lastFrame!=openface_df.iloc[-1][0]:\n",
    "        print('open')\n",
    "        mediapipe_df = mediapipe_df.iloc[:openface_lastFrame, :]\n",
    "    elif mediapipe_lastFrame!=mediapipe_df.iloc[-1][0]:\n",
    "        openface_df = openface_df.iloc[:mediapipe_lastFrame, :]\n",
    "    \n",
    "    openface_df.to_csv(f'openFace/processed_cleansed/{videoName}_openface_cleansed.csv')\n",
    "    mediapipe_df.to_csv(f'mediaPipe/processed_cleansed/{videoName}_mediapipe_cleansed.csv')"
   ]
  }
 ],
 "metadata": {
  "kernelspec": {
   "display_name": "Python 3",
   "language": "python",
   "name": "python3"
  },
  "language_info": {
   "codemirror_mode": {
    "name": "ipython",
    "version": 3
   },
   "file_extension": ".py",
   "mimetype": "text/x-python",
   "name": "python",
   "nbconvert_exporter": "python",
   "pygments_lexer": "ipython3",
   "version": "3.8.8"
  }
 },
 "nbformat": 4,
 "nbformat_minor": 4
}
