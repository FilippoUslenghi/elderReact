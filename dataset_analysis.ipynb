{
 "cells": [
  {
   "cell_type": "code",
   "execution_count": 1,
   "metadata": {},
   "outputs": [],
   "source": [
    "%matplotlib inline\n",
    "\n",
    "import os\n",
    "import re\n",
    "import random\n",
    "import numpy as np\n",
    "import pandas as pd\n",
    "import matplotlib.pyplot as plt\n",
    "import seaborn as sns\n",
    "import cv2\n",
    "from scipy.stats import pearsonr\n",
    "from sklearn.metrics import mean_squared_error"
   ]
  },
  {
   "cell_type": "code",
   "execution_count": 2,
   "metadata": {},
   "outputs": [],
   "source": [
    "FACE_MESH = pd.read_csv('mediaPipe/faceMesh/face_mesh.csv')"
   ]
  },
  {
   "cell_type": "code",
   "execution_count": 3,
   "metadata": {},
   "outputs": [],
   "source": [
    "def landmarks_mapper(video: str):\n",
    "    \n",
    "    OPENFACE_DIR = 'openFace/processed/'\n",
    "    MEDIAPIPE_DIR = 'mediaPipe/processed/'\n",
    "    OPENFACE_LANDMARKS = [i for i in range(17, 68)]\n",
    "    \n",
    "    of_df = pd.read_csv(OPENFACE_DIR + video + '_openface.csv')\n",
    "    mp_df = pd.read_csv(MEDIAPIPE_DIR + video + '_mediapipe.csv')\n",
    "    \n",
    "    final_df = of_df['frame']\n",
    "    for i, landmark in enumerate(OPENFACE_LANDMARKS):\n",
    "\n",
    "        mask = (FACE_MESH['openFace_landmark'] == landmark) # group the mediapipe landmarks by the openface landmark\n",
    "\n",
    "        tmp1_df = of_df[[f'x_{landmark}', f'y_{landmark}']]\n",
    "        tmp1_df.columns = [f'openface_x_{landmark}', f'openface_y_{landmark}']\n",
    "        \n",
    "        mediaPipe_landmarks_X = ['x_'+str(ID) for ID in FACE_MESH[mask].id] # collect the X coordinate\n",
    "        mediaPipe_landmarks_Y = ['y_'+str(ID) for ID in FACE_MESH[mask].id] # collect the Y coordinate\n",
    "        \n",
    "        tmp2_df = pd.DataFrame({f'mediapipe_x_{landmark}':mp_df[mediaPipe_landmarks_X].mean(axis=1),\n",
    "                                f'mediapipe_y_{landmark}':mp_df[mediaPipe_landmarks_Y].mean(axis=1)})\n",
    "        \n",
    "        final_df = pd.concat([final_df, tmp1_df, tmp2_df], axis=1)\n",
    "        \n",
    "    return final_df"
   ]
  },
  {
   "cell_type": "markdown",
   "metadata": {},
   "source": [
    "# Coefficiente di Pearson"
   ]
  },
  {
   "cell_type": "code",
   "execution_count": 4,
   "metadata": {},
   "outputs": [],
   "source": [
    "def pearson(df: pd.DataFrame):\n",
    "    \n",
    "    lndmk_pearson = []\n",
    "    for i in range(17, 68):\n",
    "        \n",
    "        x_pearson = pearsonr(df[f'openface_x_{i}'].tolist(), df[f'mediapipe_x_{i}'].tolist())[0]\n",
    "        y_pearson = pearsonr(df[f'openface_y_{i}'].tolist(), df[f'mediapipe_y_{i}'].tolist())[0]\n",
    "        lndmk_pearson.append((x_pearson+y_pearson)/2)\n",
    "    \n",
    "    video_pearson = np.mean(lndmk_pearson)\n",
    "    \n",
    "    return video_pearson"
   ]
  },
  {
   "cell_type": "code",
   "execution_count": 5,
   "metadata": {},
   "outputs": [],
   "source": [
    "def mse(df: pd.DataFrame):\n",
    "    \n",
    "    lndmk_mse = []\n",
    "    for i in range(17, 68):\n",
    "        \n",
    "        x_mse = mean_squared_error(df[f'openface_x_{i}'].tolist(), df[f'mediapipe_x_{i}'].tolist())\n",
    "        y_mse = mean_squared_error(df[f'openface_y_{i}'].tolist(), df[f'mediapipe_y_{i}'].tolist())\n",
    "        lndmk_mse.append((x_mse+y_mse)/2)\n",
    "    \n",
    "    mse_video = np.mean(lndmk_mse)\n",
    "    \n",
    "    return mse_video"
   ]
  },
  {
   "cell_type": "code",
   "execution_count": 6,
   "metadata": {},
   "outputs": [
    {
     "name": "stdout",
     "output_type": "stream",
     "text": [
      "Stored 'extracted_features_df' (DataFrame)\n"
     ]
    },
    {
     "data": {
      "text/html": [
       "<div>\n",
       "<style scoped>\n",
       "    .dataframe tbody tr th:only-of-type {\n",
       "        vertical-align: middle;\n",
       "    }\n",
       "\n",
       "    .dataframe tbody tr th {\n",
       "        vertical-align: top;\n",
       "    }\n",
       "\n",
       "    .dataframe thead th {\n",
       "        text-align: right;\n",
       "    }\n",
       "</style>\n",
       "<table border=\"1\" class=\"dataframe\">\n",
       "  <thead>\n",
       "    <tr style=\"text-align: right;\">\n",
       "      <th></th>\n",
       "      <th>video</th>\n",
       "      <th>pearson</th>\n",
       "      <th>mse</th>\n",
       "    </tr>\n",
       "  </thead>\n",
       "  <tbody>\n",
       "    <tr>\n",
       "      <th>0</th>\n",
       "      <td>whack_your_boss_12</td>\n",
       "      <td>0.994929</td>\n",
       "      <td>8.845432</td>\n",
       "    </tr>\n",
       "    <tr>\n",
       "      <th>1</th>\n",
       "      <td>happy_wheels_54</td>\n",
       "      <td>0.982861</td>\n",
       "      <td>183.335608</td>\n",
       "    </tr>\n",
       "    <tr>\n",
       "      <th>2</th>\n",
       "      <td>would_you_rather_29</td>\n",
       "      <td>0.996142</td>\n",
       "      <td>15.780578</td>\n",
       "    </tr>\n",
       "    <tr>\n",
       "      <th>3</th>\n",
       "      <td>play_red_dead_138</td>\n",
       "      <td>0.843837</td>\n",
       "      <td>174.658153</td>\n",
       "    </tr>\n",
       "    <tr>\n",
       "      <th>4</th>\n",
       "      <td>Branda_schmitz_116</td>\n",
       "      <td>0.995133</td>\n",
       "      <td>20.777153</td>\n",
       "    </tr>\n",
       "    <tr>\n",
       "      <th>...</th>\n",
       "      <td>...</td>\n",
       "      <td>...</td>\n",
       "      <td>...</td>\n",
       "    </tr>\n",
       "    <tr>\n",
       "      <th>610</th>\n",
       "      <td>bully_burger_54</td>\n",
       "      <td>0.993922</td>\n",
       "      <td>11.339608</td>\n",
       "    </tr>\n",
       "    <tr>\n",
       "      <th>611</th>\n",
       "      <td>game_of_thrones_16</td>\n",
       "      <td>0.997744</td>\n",
       "      <td>9.924864</td>\n",
       "    </tr>\n",
       "    <tr>\n",
       "      <th>612</th>\n",
       "      <td>qwop_38</td>\n",
       "      <td>0.984433</td>\n",
       "      <td>41.320343</td>\n",
       "    </tr>\n",
       "    <tr>\n",
       "      <th>613</th>\n",
       "      <td>cuphead_58</td>\n",
       "      <td>0.992749</td>\n",
       "      <td>22.439067</td>\n",
       "    </tr>\n",
       "    <tr>\n",
       "      <th>614</th>\n",
       "      <td>rammstein_49</td>\n",
       "      <td>0.995333</td>\n",
       "      <td>11.437789</td>\n",
       "    </tr>\n",
       "  </tbody>\n",
       "</table>\n",
       "<p>615 rows × 3 columns</p>\n",
       "</div>"
      ],
      "text/plain": [
       "                   video   pearson         mse\n",
       "0     whack_your_boss_12  0.994929    8.845432\n",
       "1        happy_wheels_54  0.982861  183.335608\n",
       "2    would_you_rather_29  0.996142   15.780578\n",
       "3      play_red_dead_138  0.843837  174.658153\n",
       "4     Branda_schmitz_116  0.995133   20.777153\n",
       "..                   ...       ...         ...\n",
       "610      bully_burger_54  0.993922   11.339608\n",
       "611   game_of_thrones_16  0.997744    9.924864\n",
       "612              qwop_38  0.984433   41.320343\n",
       "613           cuphead_58  0.992749   22.439067\n",
       "614         rammstein_49  0.995333   11.437789\n",
       "\n",
       "[615 rows x 3 columns]"
      ]
     },
     "execution_count": 6,
     "metadata": {},
     "output_type": "execute_result"
    }
   ],
   "source": [
    "videos = []\n",
    "pearson_videos = []\n",
    "mse_videos = []\n",
    "for video in os.listdir('dataset/ElderReact_Data/ElderReact_train/'):\n",
    "    \n",
    "    video = video[:-4]\n",
    "    videos.append(video)\n",
    "    \n",
    "    pearson_videos.append(pearson(landmarks_mapper(video)))\n",
    "    mse_videos.append(mse(landmarks_mapper(video)))\n",
    "\n",
    "extracted_features_df = pd.DataFrame({'video': videos, 'pearson': pearson_videos, 'mse': mse_videos})\n",
    "%store extracted_features_df\n",
    "extracted_features_df"
   ]
  },
  {
   "cell_type": "code",
   "execution_count": 7,
   "metadata": {},
   "outputs": [],
   "source": [
    "%store -r extracted_features_df"
   ]
  },
  {
   "cell_type": "code",
   "execution_count": 8,
   "metadata": {},
   "outputs": [
    {
     "data": {
      "image/png": "[encoded data removed]",
      "text/plain": [
       "<Figure size 720x480 with 1 Axes>"
      ]
     },
     "metadata": {},
     "output_type": "display_data"
    }
   ],
   "source": [
    "sns.set(rc={\"figure.dpi\":120})\n",
    "sns.set_context('notebook')\n",
    "sns.set_style(\"ticks\")\n",
    "sns.histplot(data=extracted_features_df, x='pearson')\n",
    "plt.show()"
   ]
  },
  {
   "cell_type": "code",
   "execution_count": 13,
   "metadata": {},
   "outputs": [
    {
     "name": "stdout",
     "output_type": "stream",
     "text": [
      "Numero di video con coefficiente di Pearson minore di 0.8: 19\n"
     ]
    },
    {
     "data": {
      "text/html": [
       "<div>\n",
       "<style scoped>\n",
       "    .dataframe tbody tr th:only-of-type {\n",
       "        vertical-align: middle;\n",
       "    }\n",
       "\n",
       "    .dataframe tbody tr th {\n",
       "        vertical-align: top;\n",
       "    }\n",
       "\n",
       "    .dataframe thead th {\n",
       "        text-align: right;\n",
       "    }\n",
       "</style>\n",
       "<table border=\"1\" class=\"dataframe\">\n",
       "  <thead>\n",
       "    <tr style=\"text-align: right;\">\n",
       "      <th></th>\n",
       "      <th>video</th>\n",
       "      <th>pearson</th>\n",
       "    </tr>\n",
       "  </thead>\n",
       "  <tbody>\n",
       "    <tr>\n",
       "      <th>105</th>\n",
       "      <td>gta2_2</td>\n",
       "      <td>-0.433737</td>\n",
       "    </tr>\n",
       "    <tr>\n",
       "      <th>605</th>\n",
       "      <td>gta1_1</td>\n",
       "      <td>0.062133</td>\n",
       "    </tr>\n",
       "    <tr>\n",
       "      <th>145</th>\n",
       "      <td>qwop_40</td>\n",
       "      <td>0.255495</td>\n",
       "    </tr>\n",
       "    <tr>\n",
       "      <th>87</th>\n",
       "      <td>david_bowie_36</td>\n",
       "      <td>0.297967</td>\n",
       "    </tr>\n",
       "    <tr>\n",
       "      <th>490</th>\n",
       "      <td>qwop_93</td>\n",
       "      <td>0.300300</td>\n",
       "    </tr>\n",
       "    <tr>\n",
       "      <th>243</th>\n",
       "      <td>david_bowie_109</td>\n",
       "      <td>0.307798</td>\n",
       "    </tr>\n",
       "    <tr>\n",
       "      <th>373</th>\n",
       "      <td>gta2_26</td>\n",
       "      <td>0.396666</td>\n",
       "    </tr>\n",
       "    <tr>\n",
       "      <th>186</th>\n",
       "      <td>david_bowie_13</td>\n",
       "      <td>0.508014</td>\n",
       "    </tr>\n",
       "    <tr>\n",
       "      <th>408</th>\n",
       "      <td>fatality_17</td>\n",
       "      <td>0.523069</td>\n",
       "    </tr>\n",
       "    <tr>\n",
       "      <th>367</th>\n",
       "      <td>play_lastofus_202</td>\n",
       "      <td>0.572700</td>\n",
       "    </tr>\n",
       "    <tr>\n",
       "      <th>440</th>\n",
       "      <td>50_50_70</td>\n",
       "      <td>0.622480</td>\n",
       "    </tr>\n",
       "    <tr>\n",
       "      <th>96</th>\n",
       "      <td>happy_wheels_97</td>\n",
       "      <td>0.652695</td>\n",
       "    </tr>\n",
       "    <tr>\n",
       "      <th>279</th>\n",
       "      <td>fatality_15</td>\n",
       "      <td>0.676326</td>\n",
       "    </tr>\n",
       "    <tr>\n",
       "      <th>136</th>\n",
       "      <td>TRY_NOT_LOOK_AWAY_21</td>\n",
       "      <td>0.692060</td>\n",
       "    </tr>\n",
       "    <tr>\n",
       "      <th>203</th>\n",
       "      <td>eminem_142</td>\n",
       "      <td>0.701040</td>\n",
       "    </tr>\n",
       "    <tr>\n",
       "      <th>242</th>\n",
       "      <td>battlefield1_50</td>\n",
       "      <td>0.718162</td>\n",
       "    </tr>\n",
       "    <tr>\n",
       "      <th>63</th>\n",
       "      <td>fatality_9</td>\n",
       "      <td>0.724103</td>\n",
       "    </tr>\n",
       "    <tr>\n",
       "      <th>318</th>\n",
       "      <td>dolan_dark_75</td>\n",
       "      <td>0.774220</td>\n",
       "    </tr>\n",
       "    <tr>\n",
       "      <th>454</th>\n",
       "      <td>gta1_34</td>\n",
       "      <td>0.782463</td>\n",
       "    </tr>\n",
       "  </tbody>\n",
       "</table>\n",
       "</div>"
      ],
      "text/plain": [
       "                    video   pearson\n",
       "105                gta2_2 -0.433737\n",
       "605                gta1_1  0.062133\n",
       "145               qwop_40  0.255495\n",
       "87         david_bowie_36  0.297967\n",
       "490               qwop_93  0.300300\n",
       "243       david_bowie_109  0.307798\n",
       "373               gta2_26  0.396666\n",
       "186        david_bowie_13  0.508014\n",
       "408           fatality_17  0.523069\n",
       "367     play_lastofus_202  0.572700\n",
       "440              50_50_70  0.622480\n",
       "96        happy_wheels_97  0.652695\n",
       "279           fatality_15  0.676326\n",
       "136  TRY_NOT_LOOK_AWAY_21  0.692060\n",
       "203            eminem_142  0.701040\n",
       "242       battlefield1_50  0.718162\n",
       "63             fatality_9  0.724103\n",
       "318         dolan_dark_75  0.774220\n",
       "454               gta1_34  0.782463"
      ]
     },
     "execution_count": 13,
     "metadata": {},
     "output_type": "execute_result"
    }
   ],
   "source": [
    "df = extracted_features_df[extracted_features_df.pearson < 0.8][['video', 'pearson']].sort_values(by='pearson')\n",
    "print('Numero di video con coefficiente di Pearson minore di 0.8:', len(df))\n",
    "df"
   ]
  },
  {
   "cell_type": "code",
   "execution_count": 10,
   "metadata": {},
   "outputs": [
    {
     "data": {
      "image/png": "[encoded data removed]",
      "text/plain": [
       "<Figure size 720x480 with 1 Axes>"
      ]
     },
     "metadata": {},
     "output_type": "display_data"
    }
   ],
   "source": [
    "sns.set(rc={\"figure.dpi\":120})\n",
    "sns.set_context('notebook')\n",
    "sns.set_style(\"ticks\")\n",
    "sns.histplot(data=extracted_features_df, x='mse')\n",
    "plt.show()"
   ]
  },
  {
   "cell_type": "code",
   "execution_count": 14,
   "metadata": {},
   "outputs": [
    {
     "name": "stdout",
     "output_type": "stream",
     "text": [
      "4\n"
     ]
    },
    {
     "data": {
      "text/html": [
       "<div>\n",
       "<style scoped>\n",
       "    .dataframe tbody tr th:only-of-type {\n",
       "        vertical-align: middle;\n",
       "    }\n",
       "\n",
       "    .dataframe tbody tr th {\n",
       "        vertical-align: top;\n",
       "    }\n",
       "\n",
       "    .dataframe thead th {\n",
       "        text-align: right;\n",
       "    }\n",
       "</style>\n",
       "<table border=\"1\" class=\"dataframe\">\n",
       "  <thead>\n",
       "    <tr style=\"text-align: right;\">\n",
       "      <th></th>\n",
       "      <th>video</th>\n",
       "      <th>pearson</th>\n",
       "      <th>mse</th>\n",
       "    </tr>\n",
       "  </thead>\n",
       "  <tbody>\n",
       "    <tr>\n",
       "      <th>145</th>\n",
       "      <td>qwop_40</td>\n",
       "      <td>0.255495</td>\n",
       "      <td>9328.441233</td>\n",
       "    </tr>\n",
       "    <tr>\n",
       "      <th>605</th>\n",
       "      <td>gta1_1</td>\n",
       "      <td>0.062133</td>\n",
       "      <td>12119.516621</td>\n",
       "    </tr>\n",
       "    <tr>\n",
       "      <th>105</th>\n",
       "      <td>gta2_2</td>\n",
       "      <td>-0.433737</td>\n",
       "      <td>13581.747217</td>\n",
       "    </tr>\n",
       "    <tr>\n",
       "      <th>87</th>\n",
       "      <td>david_bowie_36</td>\n",
       "      <td>0.297967</td>\n",
       "      <td>18250.447875</td>\n",
       "    </tr>\n",
       "  </tbody>\n",
       "</table>\n",
       "</div>"
      ],
      "text/plain": [
       "              video   pearson           mse\n",
       "145         qwop_40  0.255495   9328.441233\n",
       "605          gta1_1  0.062133  12119.516621\n",
       "105          gta2_2 -0.433737  13581.747217\n",
       "87   david_bowie_36  0.297967  18250.447875"
      ]
     },
     "execution_count": 14,
     "metadata": {},
     "output_type": "execute_result"
    }
   ],
   "source": [
    "df = extracted_features_df[extracted_features_df.mse > 8000].sort_values(by='mse')\n",
    "print(len(df))\n",
    "df"
   ]
  }
 ],
 "metadata": {
  "kernelspec": {
   "display_name": "Python 3",
   "language": "python",
   "name": "python3"
  },
  "language_info": {
   "codemirror_mode": {
    "name": "ipython",
    "version": 3
   },
   "file_extension": ".py",
   "mimetype": "text/x-python",
   "name": "python",
   "nbconvert_exporter": "python",
   "pygments_lexer": "ipython3",
   "version": "3.8.8"
  }
 },
 "nbformat": 4,
 "nbformat_minor": 4
}
