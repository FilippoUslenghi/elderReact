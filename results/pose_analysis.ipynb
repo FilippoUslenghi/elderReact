{
 "cells": [
  {
   "cell_type": "code",
   "execution_count": 1,
   "metadata": {
    "id": "WJSZ-vxVJYHz"
   },
   "outputs": [],
   "source": [
    "import numpy as np\n",
    "import pandas as pd\n",
    "import matplotlib.pyplot as plt\n",
    "import seaborn as sns"
   ]
  },
  {
   "cell_type": "markdown",
   "metadata": {
    "id": "pDnQgEiwJYH5"
   },
   "source": [
    "# Logistic Regression"
   ]
  },
  {
   "cell_type": "code",
   "execution_count": 2,
   "metadata": {
    "colab": {
     "base_uri": "https://localhost:8080/",
     "height": 206
    },
    "id": "bqzCj5WlJYH6",
    "outputId": "0e3649f1-3013-42fa-d26b-6f1ef2ec0700"
   },
   "outputs": [
    {
     "data": {
      "text/html": [
       "<div>\n",
       "<style scoped>\n",
       "    .dataframe tbody tr th:only-of-type {\n",
       "        vertical-align: middle;\n",
       "    }\n",
       "\n",
       "    .dataframe tbody tr th {\n",
       "        vertical-align: top;\n",
       "    }\n",
       "\n",
       "    .dataframe thead th {\n",
       "        text-align: right;\n",
       "    }\n",
       "</style>\n",
       "<table border=\"1\" class=\"dataframe\">\n",
       "  <thead>\n",
       "    <tr style=\"text-align: right;\">\n",
       "      <th></th>\n",
       "      <th>features</th>\n",
       "      <th>Head pose</th>\n",
       "      <th>f1_score</th>\n",
       "      <th>emotion</th>\n",
       "      <th>value</th>\n",
       "    </tr>\n",
       "  </thead>\n",
       "  <tbody>\n",
       "    <tr>\n",
       "      <th>0</th>\n",
       "      <td>delaunay</td>\n",
       "      <td>tilted</td>\n",
       "      <td>label_1</td>\n",
       "      <td>anger</td>\n",
       "      <td>0.40</td>\n",
       "    </tr>\n",
       "    <tr>\n",
       "      <th>1</th>\n",
       "      <td>delaunay</td>\n",
       "      <td>tilted</td>\n",
       "      <td>label_1</td>\n",
       "      <td>disgust</td>\n",
       "      <td>0.28</td>\n",
       "    </tr>\n",
       "    <tr>\n",
       "      <th>2</th>\n",
       "      <td>delaunay</td>\n",
       "      <td>tilted</td>\n",
       "      <td>label_1</td>\n",
       "      <td>fear</td>\n",
       "      <td>0.17</td>\n",
       "    </tr>\n",
       "    <tr>\n",
       "      <th>3</th>\n",
       "      <td>delaunay</td>\n",
       "      <td>tilted</td>\n",
       "      <td>label_1</td>\n",
       "      <td>happiness</td>\n",
       "      <td>0.56</td>\n",
       "    </tr>\n",
       "    <tr>\n",
       "      <th>4</th>\n",
       "      <td>delaunay</td>\n",
       "      <td>tilted</td>\n",
       "      <td>label_1</td>\n",
       "      <td>sadness</td>\n",
       "      <td>0.23</td>\n",
       "    </tr>\n",
       "  </tbody>\n",
       "</table>\n",
       "</div>"
      ],
      "text/plain": [
       "   features Head pose f1_score    emotion  value\n",
       "0  delaunay    tilted  label_1      anger   0.40\n",
       "1  delaunay    tilted  label_1    disgust   0.28\n",
       "2  delaunay    tilted  label_1       fear   0.17\n",
       "3  delaunay    tilted  label_1  happiness   0.56\n",
       "4  delaunay    tilted  label_1    sadness   0.23"
      ]
     },
     "execution_count": 2,
     "metadata": {},
     "output_type": "execute_result"
    }
   ],
   "source": [
    "log_regr_df = pd.read_csv('logistic_regression/f1_score.csv', header=[0,1], index_col=[0,1]).unstack(level=[0,1]).reset_index()\n",
    "columns = ['Features', 'Head pose', r'f1_score', 'emotion', r'F$_1$ score']\n",
    "log_regr_df.columns = ['features', 'Head pose', 'f1_score', 'emotion', 'value']\n",
    "log_regr_df.head()"
   ]
  },
  {
   "cell_type": "markdown",
   "metadata": {
    "id": "AMiHeGW9JYH-"
   },
   "source": [
    "### Weighted_avg\n",
    "\n",
    "Qui vengono evidenziate le differenze prestazionali tra i diversi valori della _pose_"
   ]
  },
  {
   "cell_type": "code",
   "execution_count": 3,
   "metadata": {
    "colab": {
     "base_uri": "https://localhost:8080/",
     "height": 1000
    },
    "id": "n_czydt0JYH_",
    "outputId": "cf3ce3d3-2566-47f7-c784-578e0f725eab"
   },
   "outputs": [
    {
     "ename": "ValueError",
     "evalue": "Could not interpret input 'pose'",
     "output_type": "error",
     "traceback": [
      "\u001b[0;31m---------------------------------------------------------------------------\u001b[0m",
      "\u001b[0;31mValueError\u001b[0m                                Traceback (most recent call last)",
      "\u001b[0;32m<ipython-input-3-631473e89a28>\u001b[0m in \u001b[0;36m<module>\u001b[0;34m\u001b[0m\n\u001b[0;32m----> 1\u001b[0;31m \u001b[0mfg\u001b[0m \u001b[0;34m=\u001b[0m \u001b[0msns\u001b[0m\u001b[0;34m.\u001b[0m\u001b[0mcatplot\u001b[0m\u001b[0;34m(\u001b[0m\u001b[0mx\u001b[0m\u001b[0;34m=\u001b[0m\u001b[0;34m'features'\u001b[0m\u001b[0;34m,\u001b[0m \u001b[0my\u001b[0m\u001b[0;34m=\u001b[0m\u001b[0;34m'value'\u001b[0m\u001b[0;34m,\u001b[0m \u001b[0mhue\u001b[0m\u001b[0;34m=\u001b[0m\u001b[0;34m'pose'\u001b[0m\u001b[0;34m,\u001b[0m \u001b[0mcol\u001b[0m\u001b[0;34m=\u001b[0m\u001b[0;34m'emotion'\u001b[0m\u001b[0;34m,\u001b[0m \u001b[0mdata\u001b[0m\u001b[0;34m=\u001b[0m\u001b[0;34m(\u001b[0m\u001b[0mlog_regr_df\u001b[0m\u001b[0;34m[\u001b[0m\u001b[0mlog_regr_df\u001b[0m\u001b[0;34m.\u001b[0m\u001b[0mf1_score\u001b[0m\u001b[0;34m==\u001b[0m\u001b[0;34m'weighted_avg'\u001b[0m\u001b[0;34m]\u001b[0m\u001b[0;34m)\u001b[0m\u001b[0;34m,\u001b[0m \u001b[0mkind\u001b[0m\u001b[0;34m=\u001b[0m\u001b[0;34m'bar'\u001b[0m\u001b[0;34m,\u001b[0m \u001b[0mpalette\u001b[0m\u001b[0;34m=\u001b[0m\u001b[0;34m'deep'\u001b[0m\u001b[0;34m,\u001b[0m \u001b[0mcol_wrap\u001b[0m\u001b[0;34m=\u001b[0m\u001b[0;36m3\u001b[0m\u001b[0;34m)\u001b[0m\u001b[0;34m\u001b[0m\u001b[0;34m\u001b[0m\u001b[0m\n\u001b[0m\u001b[1;32m      2\u001b[0m \u001b[0mfg\u001b[0m\u001b[0;34m.\u001b[0m\u001b[0mset_xticklabels\u001b[0m\u001b[0;34m(\u001b[0m\u001b[0mrotation\u001b[0m\u001b[0;34m=\u001b[0m\u001b[0;36m30\u001b[0m\u001b[0;34m)\u001b[0m\u001b[0;34m\u001b[0m\u001b[0;34m\u001b[0m\u001b[0m\n\u001b[1;32m      3\u001b[0m \u001b[0mplt\u001b[0m\u001b[0;34m.\u001b[0m\u001b[0mshow\u001b[0m\u001b[0;34m(\u001b[0m\u001b[0;34m)\u001b[0m\u001b[0;34m\u001b[0m\u001b[0;34m\u001b[0m\u001b[0m\n",
      "\u001b[0;32m~/anaconda3/lib/python3.8/site-packages/seaborn/_decorators.py\u001b[0m in \u001b[0;36minner_f\u001b[0;34m(*args, **kwargs)\u001b[0m\n\u001b[1;32m     44\u001b[0m             )\n\u001b[1;32m     45\u001b[0m         \u001b[0mkwargs\u001b[0m\u001b[0;34m.\u001b[0m\u001b[0mupdate\u001b[0m\u001b[0;34m(\u001b[0m\u001b[0;34m{\u001b[0m\u001b[0mk\u001b[0m\u001b[0;34m:\u001b[0m \u001b[0marg\u001b[0m \u001b[0;32mfor\u001b[0m \u001b[0mk\u001b[0m\u001b[0;34m,\u001b[0m \u001b[0marg\u001b[0m \u001b[0;32min\u001b[0m \u001b[0mzip\u001b[0m\u001b[0;34m(\u001b[0m\u001b[0msig\u001b[0m\u001b[0;34m.\u001b[0m\u001b[0mparameters\u001b[0m\u001b[0;34m,\u001b[0m \u001b[0margs\u001b[0m\u001b[0;34m)\u001b[0m\u001b[0;34m}\u001b[0m\u001b[0;34m)\u001b[0m\u001b[0;34m\u001b[0m\u001b[0;34m\u001b[0m\u001b[0m\n\u001b[0;32m---> 46\u001b[0;31m         \u001b[0;32mreturn\u001b[0m \u001b[0mf\u001b[0m\u001b[0;34m(\u001b[0m\u001b[0;34m**\u001b[0m\u001b[0mkwargs\u001b[0m\u001b[0;34m)\u001b[0m\u001b[0;34m\u001b[0m\u001b[0;34m\u001b[0m\u001b[0m\n\u001b[0m\u001b[1;32m     47\u001b[0m     \u001b[0;32mreturn\u001b[0m \u001b[0minner_f\u001b[0m\u001b[0;34m\u001b[0m\u001b[0;34m\u001b[0m\u001b[0m\n\u001b[1;32m     48\u001b[0m \u001b[0;34m\u001b[0m\u001b[0m\n",
      "\u001b[0;32m~/anaconda3/lib/python3.8/site-packages/seaborn/categorical.py\u001b[0m in \u001b[0;36mcatplot\u001b[0;34m(x, y, hue, data, row, col, col_wrap, estimator, ci, n_boot, units, seed, order, hue_order, row_order, col_order, kind, height, aspect, orient, color, palette, legend, legend_out, sharex, sharey, margin_titles, facet_kws, **kwargs)\u001b[0m\n\u001b[1;32m   3787\u001b[0m     \u001b[0mp\u001b[0m \u001b[0;34m=\u001b[0m \u001b[0m_CategoricalPlotter\u001b[0m\u001b[0;34m(\u001b[0m\u001b[0;34m)\u001b[0m\u001b[0;34m\u001b[0m\u001b[0;34m\u001b[0m\u001b[0m\n\u001b[1;32m   3788\u001b[0m     \u001b[0mp\u001b[0m\u001b[0;34m.\u001b[0m\u001b[0mrequire_numeric\u001b[0m \u001b[0;34m=\u001b[0m \u001b[0mplotter_class\u001b[0m\u001b[0;34m.\u001b[0m\u001b[0mrequire_numeric\u001b[0m\u001b[0;34m\u001b[0m\u001b[0;34m\u001b[0m\u001b[0m\n\u001b[0;32m-> 3789\u001b[0;31m     \u001b[0mp\u001b[0m\u001b[0;34m.\u001b[0m\u001b[0mestablish_variables\u001b[0m\u001b[0;34m(\u001b[0m\u001b[0mx_\u001b[0m\u001b[0;34m,\u001b[0m \u001b[0my_\u001b[0m\u001b[0;34m,\u001b[0m \u001b[0mhue\u001b[0m\u001b[0;34m,\u001b[0m \u001b[0mdata\u001b[0m\u001b[0;34m,\u001b[0m \u001b[0morient\u001b[0m\u001b[0;34m,\u001b[0m \u001b[0morder\u001b[0m\u001b[0;34m,\u001b[0m \u001b[0mhue_order\u001b[0m\u001b[0;34m)\u001b[0m\u001b[0;34m\u001b[0m\u001b[0;34m\u001b[0m\u001b[0m\n\u001b[0m\u001b[1;32m   3790\u001b[0m     if (\n\u001b[1;32m   3791\u001b[0m         \u001b[0morder\u001b[0m \u001b[0;32mis\u001b[0m \u001b[0;32mnot\u001b[0m \u001b[0;32mNone\u001b[0m\u001b[0;34m\u001b[0m\u001b[0;34m\u001b[0m\u001b[0m\n",
      "\u001b[0;32m~/anaconda3/lib/python3.8/site-packages/seaborn/categorical.py\u001b[0m in \u001b[0;36mestablish_variables\u001b[0;34m(self, x, y, hue, data, orient, order, hue_order, units)\u001b[0m\n\u001b[1;32m    151\u001b[0m                 \u001b[0;32mif\u001b[0m \u001b[0misinstance\u001b[0m\u001b[0;34m(\u001b[0m\u001b[0mvar\u001b[0m\u001b[0;34m,\u001b[0m \u001b[0mstr\u001b[0m\u001b[0;34m)\u001b[0m\u001b[0;34m:\u001b[0m\u001b[0;34m\u001b[0m\u001b[0;34m\u001b[0m\u001b[0m\n\u001b[1;32m    152\u001b[0m                     \u001b[0merr\u001b[0m \u001b[0;34m=\u001b[0m \u001b[0;34m\"Could not interpret input '{}'\"\u001b[0m\u001b[0;34m.\u001b[0m\u001b[0mformat\u001b[0m\u001b[0;34m(\u001b[0m\u001b[0mvar\u001b[0m\u001b[0;34m)\u001b[0m\u001b[0;34m\u001b[0m\u001b[0;34m\u001b[0m\u001b[0m\n\u001b[0;32m--> 153\u001b[0;31m                     \u001b[0;32mraise\u001b[0m \u001b[0mValueError\u001b[0m\u001b[0;34m(\u001b[0m\u001b[0merr\u001b[0m\u001b[0;34m)\u001b[0m\u001b[0;34m\u001b[0m\u001b[0;34m\u001b[0m\u001b[0m\n\u001b[0m\u001b[1;32m    154\u001b[0m \u001b[0;34m\u001b[0m\u001b[0m\n\u001b[1;32m    155\u001b[0m             \u001b[0;31m# Figure out the plotting orientation\u001b[0m\u001b[0;34m\u001b[0m\u001b[0;34m\u001b[0m\u001b[0;34m\u001b[0m\u001b[0m\n",
      "\u001b[0;31mValueError\u001b[0m: Could not interpret input 'pose'"
     ]
    }
   ],
   "source": [
    "fg = sns.catplot(x='features', y='value', hue='pose', col='emotion', data=(log_regr_df[log_regr_df.f1_score=='weighted_avg']), kind='bar', palette='deep', col_wrap=3)\n",
    "fg.set_xticklabels(rotation=30)\n",
    "plt.show()"
   ]
  },
  {
   "cell_type": "markdown",
   "metadata": {
    "id": "vu2EfYWOJYIH"
   },
   "source": [
    "# Linear SVM"
   ]
  },
  {
   "cell_type": "code",
   "execution_count": null,
   "metadata": {
    "colab": {
     "base_uri": "https://localhost:8080/",
     "height": 1000
    },
    "id": "Etw7KNFRJYIB",
    "outputId": "3bbca967-3cd4-48d5-af68-1a2506114942"
   },
   "outputs": [],
   "source": [
    "fg = sns.catplot(x='features', y='value', hue='pose', col='emotion', data=(log_regr_df[log_regr_df.f1_score=='macro_avg']), kind='bar', palette='deep', col_wrap=3)\n",
    "fg.set_xticklabels(rotation=30)\n",
    "plt.show()"
   ]
  },
  {
   "cell_type": "code",
   "execution_count": null,
   "metadata": {
    "id": "SrkgKwjuJYII",
    "outputId": "5953c9da-2477-469d-96b9-0b02375db69b"
   },
   "outputs": [],
   "source": [
    "linear_svm_df = pd.read_csv('linear_SVM/f1_score.csv', header=[0,1], index_col=[0,1]).unstack(level=[0,1]).reset_index()\n",
    "linear_svm_df.columns = ['features', 'pose', 'f1_score', 'emotion', 'value']\n",
    "linear_svm_df.head()"
   ]
  },
  {
   "cell_type": "markdown",
   "metadata": {
    "id": "6zOHHu_-JYIJ"
   },
   "source": [
    "### Weighted_avg\n",
    "\n",
    "Qui vengono evidenziate le differenze prestazionali tra i diversi valori della _pose_"
   ]
  },
  {
   "cell_type": "code",
   "execution_count": null,
   "metadata": {
    "id": "BYn4NuD-JYIJ",
    "outputId": "7ddff0e6-05e1-4caa-f879-543de33bb60d"
   },
   "outputs": [],
   "source": [
    "fg = sns.catplot(x='features', y='value', hue='pose', col='emotion', data=(linear_svm_df[linear_svm_df.f1_score=='weighted_avg']), kind='bar', palette='deep', col_wrap=3)\n",
    "fg.set_xticklabels(rotation=30)\n",
    "plt.show()"
   ]
  },
  {
   "cell_type": "markdown",
   "metadata": {
    "id": "FeMsRv8QJYIM"
   },
   "source": [
    "# Kernel SVM"
   ]
  },
  {
   "cell_type": "code",
   "execution_count": null,
   "metadata": {
    "colab": {
     "base_uri": "https://localhost:8080/",
     "height": 206
    },
    "id": "ukIFo2qNJ3v7",
    "outputId": "5cd47db5-a46d-4cf3-948c-bb2f7b887345"
   },
   "outputs": [],
   "source": [
    "kernel_svm_df = pd.read_csv('kernel_SVM/f1_score.csv', header=[0,1], index_col=[0,1]).unstack(level=[0,1]).reset_index()\n",
    "kernel_svm_df.columns = ['features', 'pose', 'f1_score', 'emotion', 'value']\n",
    "kernel_svm_df.head()"
   ]
  },
  {
   "cell_type": "markdown",
   "metadata": {
    "id": "hqwdqPkjJ3v8"
   },
   "source": [
    "## Confronto dell'_f1-score_ rispetto alla _pose_ per ogni feature sulle diverse emozioni"
   ]
  },
  {
   "cell_type": "markdown",
   "metadata": {
    "id": "07FGsiixJ3v9"
   },
   "source": [
    "### Weighted_avg\n",
    "\n",
    "Qui vengono evidenziate le differenze prestazionali tra i diversi valori della _pose_"
   ]
  },
  {
   "cell_type": "code",
   "execution_count": null,
   "metadata": {
    "colab": {
     "base_uri": "https://localhost:8080/",
     "height": 1000
    },
    "id": "f70SJHn6J3v-",
    "outputId": "06929e24-f7fb-4fff-debb-2280f426043a"
   },
   "outputs": [],
   "source": [
    "fg = sns.catplot(x='features', y='value', hue='pose', col='emotion', data=(kernel_svm_df[kernel_svm_df.f1_score=='weighted_avg']), kind='bar', palette='deep', col_wrap=3)\n",
    "fg.set_xticklabels(rotation=30)\n",
    "plt.show()"
   ]
  },
  {
   "cell_type": "markdown",
   "metadata": {},
   "source": [
    "# Medioni"
   ]
  },
  {
   "cell_type": "markdown",
   "metadata": {},
   "source": [
    "## Logistic regression"
   ]
  },
  {
   "cell_type": "code",
   "execution_count": 24,
   "metadata": {},
   "outputs": [
    {
     "data": {
      "image/png": "[encoded data removed]",
      "text/plain": [
       "<Figure size 441x360 with 1 Axes>"
      ]
     },
     "metadata": {
      "needs_background": "light"
     },
     "output_type": "display_data"
    }
   ],
   "source": [
    "log_regr_df = pd.read_csv('logistic_regression/f1_score.csv', header=[0,1], index_col=[0,1])\\\n",
    "                                .loc[(['weighted_avg']),:].rename(columns={'tilted':'Inclinata','frontal':'Frontale','none':'Generica'},level=1)\\\n",
    "                                .mean().reset_index().rename(columns={0:r'F$_1$ score','features':'Features','pose':'Head pose'})\n",
    "\n",
    "fg = sns.catplot(x='Features', y=r'F$_1$ score', hue='Head pose', data=log_regr_df, kind='bar', palette='deep')\n",
    "fg.set_xticklabels(labels= ['Delaunay', 'AU intensities', 'AU activations', 'AU intensities + activations'],rotation=30)\n",
    "fg.savefig('/home/filippo/Downloads/logistic_pose.png', dpi=600)\n",
    "plt.show()\n",
    "\n",
    "#fg = sns.catplot(x='features', y='weighted_avg', hue='pose', data=log_regr_df, kind='point', palette='deep')\n",
    "#fg.set_xticklabels(rotation=30)\n",
    "#plt.show()"
   ]
  },
  {
   "cell_type": "markdown",
   "metadata": {},
   "source": [
    "## Linear SVM"
   ]
  },
  {
   "cell_type": "code",
   "execution_count": 25,
   "metadata": {},
   "outputs": [
    {
     "data": {
      "image/png": "[encoded data removed]",
      "text/plain": [
       "<Figure size 441x360 with 1 Axes>"
      ]
     },
     "metadata": {
      "needs_background": "light"
     },
     "output_type": "display_data"
    }
   ],
   "source": [
    "linear_df = pd.read_csv('linear_SVM/f1_score.csv', header=[0,1], index_col=[0,1])\\\n",
    "                                .loc[(['weighted_avg']),:].rename(columns={'tilted':'Inclinata','frontal':'Frontale','none':'Generica'},level=1)\\\n",
    "                                .mean().reset_index().rename(columns={0:r'F$_1$ score','features':'Features','pose':'Head pose'})\n",
    "\n",
    "fg = sns.catplot(x='Features', y=r'F$_1$ score', hue='Head pose', data=linear_df, kind='bar', palette='deep')\n",
    "fg.set_xticklabels(labels= ['Delaunay', 'AU intensities', 'AU activations', 'AU intensities + activations'],rotation=30)\n",
    "fg.savefig('/home/filippo/Downloads/linear_pose.png', dpi=600)\n",
    "plt.show()\n",
    "\n",
    "#fg = sns.catplot(x='features', y='weighted_avg', hue='pose', data=linear_svm_df, kind='point', palette='deep')\n",
    "#fg.set_xticklabels(rotation=30)\n",
    "#plt.show()"
   ]
  },
  {
   "cell_type": "markdown",
   "metadata": {},
   "source": [
    "## Kernel SVM"
   ]
  },
  {
   "cell_type": "code",
   "execution_count": 26,
   "metadata": {},
   "outputs": [
    {
     "data": {
      "image/png": "[encoded data removed]",
      "text/plain": [
       "<Figure size 441x360 with 1 Axes>"
      ]
     },
     "metadata": {
      "needs_background": "light"
     },
     "output_type": "display_data"
    }
   ],
   "source": [
    "kernel_df = pd.read_csv('kernel_SVM/f1_score.csv', header=[0,1], index_col=[0,1])\\\n",
    "                                .loc[(['weighted_avg']),:].rename(columns={'tilted':'Inclinata','frontal':'Frontale','none':'Generica'},level=1)\\\n",
    "                                .mean().reset_index().rename(columns={0:r'F$_1$ score','features':'Features','pose':'Head pose'})\n",
    "\n",
    "fg = sns.catplot(x='Features', y=r'F$_1$ score', hue='Head pose', data=kernel_df, kind='bar', palette='deep')\n",
    "fg.set_xticklabels(labels= ['Delaunay', 'AU intensities', 'AU activations', 'AU intensities + activations'],rotation=30)\n",
    "fg.savefig('/home/filippo/Downloads/kernel_pose.png', dpi=600)\n",
    "plt.show()\n",
    "\n",
    "#fg = sns.catplot(x='features', y='weighted_avg', hue='pose', data=kernel_svm_df, kind='point', palette='deep')\n",
    "#fg.set_xticklabels(rotation=30)\n",
    "#plt.show()"
   ]
  }
 ],
 "metadata": {
  "colab": {
   "collapsed_sections": [
    "vu2EfYWOJYIH"
   ],
   "name": "results_analysis.ipynb",
   "provenance": []
  },
  "interpreter": {
   "hash": "c6657862fbd7776ed59899a2e04c7a22436c84c561d5b2f052a6596b58604515"
  },
  "kernelspec": {
   "display_name": "Python 3",
   "language": "python",
   "name": "python3"
  },
  "language_info": {
   "codemirror_mode": {
    "name": "ipython",
    "version": 3
   },
   "file_extension": ".py",
   "mimetype": "text/x-python",
   "name": "python",
   "nbconvert_exporter": "python",
   "pygments_lexer": "ipython3",
   "version": "3.8.10"
  }
 },
 "nbformat": 4,
 "nbformat_minor": 1
}
