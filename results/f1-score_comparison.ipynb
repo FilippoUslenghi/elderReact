{
 "cells": [
  {
   "cell_type": "code",
   "execution_count": 1,
   "metadata": {
    "id": "WJSZ-vxVJYHz"
   },
   "outputs": [],
   "source": [
    "import numpy as np\n",
    "import pandas as pd\n",
    "import matplotlib.pyplot as plt\n",
    "import seaborn as sns"
   ]
  },
  {
   "cell_type": "markdown",
   "metadata": {},
   "source": [
    "Per ogni emozione evidenzio quale feature ha avuto il punteggio massimo in un determinato modello di ML"
   ]
  },
  {
   "cell_type": "code",
   "execution_count": 2,
   "metadata": {},
   "outputs": [
    {
     "name": "stdout",
     "output_type": "stream",
     "text": [
      "Logistic regression\n"
     ]
    },
    {
     "data": {
      "text/html": [
       "<style  type=\"text/css\" >\n",
       "#T_82676_row0_col2,#T_82676_row0_col3,#T_82676_row1_col1,#T_82676_row2_col3,#T_82676_row3_col2,#T_82676_row4_col1,#T_82676_row5_col3,#T_82676_row6_col1{\n",
       "            background-color:  lightgreen;\n",
       "        }</style><table id=\"T_82676_\" ><thead>    <tr>        <th class=\"index_name level0\" >features</th>        <th class=\"col_heading level0 col0\" >delaunay</th>        <th class=\"col_heading level0 col1\" >au_intensities</th>        <th class=\"col_heading level0 col2\" >au_activations</th>        <th class=\"col_heading level0 col3\" >au_intensities_activations</th>    </tr>    <tr>        <th class=\"index_name level1\" >pose</th>        <th class=\"col_heading level1 col0\" >none</th>        <th class=\"col_heading level1 col1\" >none</th>        <th class=\"col_heading level1 col2\" >none</th>        <th class=\"col_heading level1 col3\" >none</th>    </tr>    <tr>        <th class=\"index_name level0\" >emotion</th>        <th class=\"blank\" ></th>        <th class=\"blank\" ></th>        <th class=\"blank\" ></th>        <th class=\"blank\" ></th>    </tr></thead><tbody>\n",
       "                <tr>\n",
       "                        <th id=\"T_82676_level0_row0\" class=\"row_heading level0 row0\" >anger</th>\n",
       "                        <td id=\"T_82676_row0_col0\" class=\"data row0 col0\" >0.33</td>\n",
       "                        <td id=\"T_82676_row0_col1\" class=\"data row0 col1\" >0.32</td>\n",
       "                        <td id=\"T_82676_row0_col2\" class=\"data row0 col2\" >0.35</td>\n",
       "                        <td id=\"T_82676_row0_col3\" class=\"data row0 col3\" >0.35</td>\n",
       "            </tr>\n",
       "            <tr>\n",
       "                        <th id=\"T_82676_level0_row1\" class=\"row_heading level0 row1\" >disgust</th>\n",
       "                        <td id=\"T_82676_row1_col0\" class=\"data row1 col0\" >0.30</td>\n",
       "                        <td id=\"T_82676_row1_col1\" class=\"data row1 col1\" >0.31</td>\n",
       "                        <td id=\"T_82676_row1_col2\" class=\"data row1 col2\" >0.27</td>\n",
       "                        <td id=\"T_82676_row1_col3\" class=\"data row1 col3\" >0.27</td>\n",
       "            </tr>\n",
       "            <tr>\n",
       "                        <th id=\"T_82676_level0_row2\" class=\"row_heading level0 row2\" >fear</th>\n",
       "                        <td id=\"T_82676_row2_col0\" class=\"data row2 col0\" >0.17</td>\n",
       "                        <td id=\"T_82676_row2_col1\" class=\"data row2 col1\" >0.15</td>\n",
       "                        <td id=\"T_82676_row2_col2\" class=\"data row2 col2\" >0.16</td>\n",
       "                        <td id=\"T_82676_row2_col3\" class=\"data row2 col3\" >0.18</td>\n",
       "            </tr>\n",
       "            <tr>\n",
       "                        <th id=\"T_82676_level0_row3\" class=\"row_heading level0 row3\" >happiness</th>\n",
       "                        <td id=\"T_82676_row3_col0\" class=\"data row3 col0\" >0.59</td>\n",
       "                        <td id=\"T_82676_row3_col1\" class=\"data row3 col1\" >0.65</td>\n",
       "                        <td id=\"T_82676_row3_col2\" class=\"data row3 col2\" >0.69</td>\n",
       "                        <td id=\"T_82676_row3_col3\" class=\"data row3 col3\" >0.66</td>\n",
       "            </tr>\n",
       "            <tr>\n",
       "                        <th id=\"T_82676_level0_row4\" class=\"row_heading level0 row4\" >sadness</th>\n",
       "                        <td id=\"T_82676_row4_col0\" class=\"data row4 col0\" >0.24</td>\n",
       "                        <td id=\"T_82676_row4_col1\" class=\"data row4 col1\" >0.33</td>\n",
       "                        <td id=\"T_82676_row4_col2\" class=\"data row4 col2\" >0.32</td>\n",
       "                        <td id=\"T_82676_row4_col3\" class=\"data row4 col3\" >0.30</td>\n",
       "            </tr>\n",
       "            <tr>\n",
       "                        <th id=\"T_82676_level0_row5\" class=\"row_heading level0 row5\" >surprise</th>\n",
       "                        <td id=\"T_82676_row5_col0\" class=\"data row5 col0\" >0.47</td>\n",
       "                        <td id=\"T_82676_row5_col1\" class=\"data row5 col1\" >0.45</td>\n",
       "                        <td id=\"T_82676_row5_col2\" class=\"data row5 col2\" >0.47</td>\n",
       "                        <td id=\"T_82676_row5_col3\" class=\"data row5 col3\" >0.52</td>\n",
       "            </tr>\n",
       "            <tr>\n",
       "                        <th id=\"T_82676_level0_row6\" class=\"row_heading level0 row6\" >valence</th>\n",
       "                        <td id=\"T_82676_row6_col0\" class=\"data row6 col0\" >0.52</td>\n",
       "                        <td id=\"T_82676_row6_col1\" class=\"data row6 col1\" >0.67</td>\n",
       "                        <td id=\"T_82676_row6_col2\" class=\"data row6 col2\" >0.64</td>\n",
       "                        <td id=\"T_82676_row6_col3\" class=\"data row6 col3\" >0.66</td>\n",
       "            </tr>\n",
       "    </tbody></table>"
      ],
      "text/plain": [
       "<pandas.io.formats.style.Styler at 0x7f7c0411d3d0>"
      ]
     },
     "metadata": {},
     "output_type": "display_data"
    }
   ],
   "source": [
    "print('Logistic regression')\n",
    "logistic_df = pd.read_csv('logistic_regression/f1_score.csv', header=[0,1], index_col=[0,1])\n",
    "logistic_df = logistic_df.drop(columns=['tilted','frontal'], level=1)\n",
    "logistic_df = logistic_df.drop(index=['macro_avg', 'weighted_avg'], level=0).reset_index(level=0, drop=True)\n",
    "display(logistic_df.style.highlight_max(color='lightgreen', axis=1).format('{:.2f}'))"
   ]
  },
  {
   "cell_type": "code",
   "execution_count": 3,
   "metadata": {},
   "outputs": [
    {
     "name": "stdout",
     "output_type": "stream",
     "text": [
      "Linear SVM\n"
     ]
    },
    {
     "data": {
      "text/html": [
       "<style  type=\"text/css\" >\n",
       "#T_5da80_row0_col0,#T_5da80_row0_col1,#T_5da80_row1_col1,#T_5da80_row2_col3,#T_5da80_row3_col2,#T_5da80_row4_col2,#T_5da80_row5_col3,#T_5da80_row6_col1{\n",
       "            background-color:  lightgreen;\n",
       "        }</style><table id=\"T_5da80_\" ><thead>    <tr>        <th class=\"index_name level0\" >features</th>        <th class=\"col_heading level0 col0\" >delaunay</th>        <th class=\"col_heading level0 col1\" >au_intensities</th>        <th class=\"col_heading level0 col2\" >au_activations</th>        <th class=\"col_heading level0 col3\" >au_intensities_activations</th>    </tr>    <tr>        <th class=\"index_name level1\" >pose</th>        <th class=\"col_heading level1 col0\" >none</th>        <th class=\"col_heading level1 col1\" >none</th>        <th class=\"col_heading level1 col2\" >none</th>        <th class=\"col_heading level1 col3\" >none</th>    </tr>    <tr>        <th class=\"index_name level0\" >emotion</th>        <th class=\"blank\" ></th>        <th class=\"blank\" ></th>        <th class=\"blank\" ></th>        <th class=\"blank\" ></th>    </tr></thead><tbody>\n",
       "                <tr>\n",
       "                        <th id=\"T_5da80_level0_row0\" class=\"row_heading level0 row0\" >anger</th>\n",
       "                        <td id=\"T_5da80_row0_col0\" class=\"data row0 col0\" >0.37</td>\n",
       "                        <td id=\"T_5da80_row0_col1\" class=\"data row0 col1\" >0.37</td>\n",
       "                        <td id=\"T_5da80_row0_col2\" class=\"data row0 col2\" >0.35</td>\n",
       "                        <td id=\"T_5da80_row0_col3\" class=\"data row0 col3\" >0.35</td>\n",
       "            </tr>\n",
       "            <tr>\n",
       "                        <th id=\"T_5da80_level0_row1\" class=\"row_heading level0 row1\" >disgust</th>\n",
       "                        <td id=\"T_5da80_row1_col0\" class=\"data row1 col0\" >0.32</td>\n",
       "                        <td id=\"T_5da80_row1_col1\" class=\"data row1 col1\" >0.37</td>\n",
       "                        <td id=\"T_5da80_row1_col2\" class=\"data row1 col2\" >0.23</td>\n",
       "                        <td id=\"T_5da80_row1_col3\" class=\"data row1 col3\" >0.31</td>\n",
       "            </tr>\n",
       "            <tr>\n",
       "                        <th id=\"T_5da80_level0_row2\" class=\"row_heading level0 row2\" >fear</th>\n",
       "                        <td id=\"T_5da80_row2_col0\" class=\"data row2 col0\" >0.14</td>\n",
       "                        <td id=\"T_5da80_row2_col1\" class=\"data row2 col1\" >0.16</td>\n",
       "                        <td id=\"T_5da80_row2_col2\" class=\"data row2 col2\" >0.15</td>\n",
       "                        <td id=\"T_5da80_row2_col3\" class=\"data row2 col3\" >0.17</td>\n",
       "            </tr>\n",
       "            <tr>\n",
       "                        <th id=\"T_5da80_level0_row3\" class=\"row_heading level0 row3\" >happiness</th>\n",
       "                        <td id=\"T_5da80_row3_col0\" class=\"data row3 col0\" >0.61</td>\n",
       "                        <td id=\"T_5da80_row3_col1\" class=\"data row3 col1\" >0.66</td>\n",
       "                        <td id=\"T_5da80_row3_col2\" class=\"data row3 col2\" >0.67</td>\n",
       "                        <td id=\"T_5da80_row3_col3\" class=\"data row3 col3\" >0.66</td>\n",
       "            </tr>\n",
       "            <tr>\n",
       "                        <th id=\"T_5da80_level0_row4\" class=\"row_heading level0 row4\" >sadness</th>\n",
       "                        <td id=\"T_5da80_row4_col0\" class=\"data row4 col0\" >0.30</td>\n",
       "                        <td id=\"T_5da80_row4_col1\" class=\"data row4 col1\" >0.32</td>\n",
       "                        <td id=\"T_5da80_row4_col2\" class=\"data row4 col2\" >0.34</td>\n",
       "                        <td id=\"T_5da80_row4_col3\" class=\"data row4 col3\" >0.32</td>\n",
       "            </tr>\n",
       "            <tr>\n",
       "                        <th id=\"T_5da80_level0_row5\" class=\"row_heading level0 row5\" >surprise</th>\n",
       "                        <td id=\"T_5da80_row5_col0\" class=\"data row5 col0\" >0.46</td>\n",
       "                        <td id=\"T_5da80_row5_col1\" class=\"data row5 col1\" >0.45</td>\n",
       "                        <td id=\"T_5da80_row5_col2\" class=\"data row5 col2\" >0.47</td>\n",
       "                        <td id=\"T_5da80_row5_col3\" class=\"data row5 col3\" >0.51</td>\n",
       "            </tr>\n",
       "            <tr>\n",
       "                        <th id=\"T_5da80_level0_row6\" class=\"row_heading level0 row6\" >valence</th>\n",
       "                        <td id=\"T_5da80_row6_col0\" class=\"data row6 col0\" >0.55</td>\n",
       "                        <td id=\"T_5da80_row6_col1\" class=\"data row6 col1\" >0.65</td>\n",
       "                        <td id=\"T_5da80_row6_col2\" class=\"data row6 col2\" >0.64</td>\n",
       "                        <td id=\"T_5da80_row6_col3\" class=\"data row6 col3\" >0.63</td>\n",
       "            </tr>\n",
       "    </tbody></table>"
      ],
      "text/plain": [
       "<pandas.io.formats.style.Styler at 0x7f7c0415cfd0>"
      ]
     },
     "execution_count": 3,
     "metadata": {},
     "output_type": "execute_result"
    }
   ],
   "source": [
    "print('Linear SVM')\n",
    "linear_df = pd.read_csv('linear_SVM/f1_score.csv', header=[0,1], index_col=[0,1])\n",
    "linear_df = linear_df.drop(columns=['tilted','frontal'], level=1)\n",
    "linear_df = linear_df.drop(index=['macro_avg', 'weighted_avg'], level=0).reset_index(level=0, drop=True)\n",
    "linear_df.style.highlight_max(color='lightgreen', axis=1).format('{:.2f}')"
   ]
  },
  {
   "cell_type": "code",
   "execution_count": 4,
   "metadata": {},
   "outputs": [
    {
     "name": "stdout",
     "output_type": "stream",
     "text": [
      "Kernel SVM\n"
     ]
    },
    {
     "data": {
      "text/html": [
       "<style  type=\"text/css\" >\n",
       "#T_25be5_row0_col0,#T_25be5_row0_col1,#T_25be5_row1_col1,#T_25be5_row2_col0,#T_25be5_row3_col2,#T_25be5_row4_col3,#T_25be5_row5_col2,#T_25be5_row6_col2{\n",
       "            background-color:  lightgreen;\n",
       "        }</style><table id=\"T_25be5_\" ><thead>    <tr>        <th class=\"index_name level0\" >features</th>        <th class=\"col_heading level0 col0\" >delaunay</th>        <th class=\"col_heading level0 col1\" >au_intensities</th>        <th class=\"col_heading level0 col2\" >au_activations</th>        <th class=\"col_heading level0 col3\" >au_intensities_activations</th>    </tr>    <tr>        <th class=\"index_name level1\" >pose</th>        <th class=\"col_heading level1 col0\" >none</th>        <th class=\"col_heading level1 col1\" >none</th>        <th class=\"col_heading level1 col2\" >none</th>        <th class=\"col_heading level1 col3\" >none</th>    </tr>    <tr>        <th class=\"index_name level0\" >emotion</th>        <th class=\"blank\" ></th>        <th class=\"blank\" ></th>        <th class=\"blank\" ></th>        <th class=\"blank\" ></th>    </tr></thead><tbody>\n",
       "                <tr>\n",
       "                        <th id=\"T_25be5_level0_row0\" class=\"row_heading level0 row0\" >anger</th>\n",
       "                        <td id=\"T_25be5_row0_col0\" class=\"data row0 col0\" >0.35</td>\n",
       "                        <td id=\"T_25be5_row0_col1\" class=\"data row0 col1\" >0.35</td>\n",
       "                        <td id=\"T_25be5_row0_col2\" class=\"data row0 col2\" >0.28</td>\n",
       "                        <td id=\"T_25be5_row0_col3\" class=\"data row0 col3\" >0.32</td>\n",
       "            </tr>\n",
       "            <tr>\n",
       "                        <th id=\"T_25be5_level0_row1\" class=\"row_heading level0 row1\" >disgust</th>\n",
       "                        <td id=\"T_25be5_row1_col0\" class=\"data row1 col0\" >0.31</td>\n",
       "                        <td id=\"T_25be5_row1_col1\" class=\"data row1 col1\" >0.33</td>\n",
       "                        <td id=\"T_25be5_row1_col2\" class=\"data row1 col2\" >0.24</td>\n",
       "                        <td id=\"T_25be5_row1_col3\" class=\"data row1 col3\" >0.28</td>\n",
       "            </tr>\n",
       "            <tr>\n",
       "                        <th id=\"T_25be5_level0_row2\" class=\"row_heading level0 row2\" >fear</th>\n",
       "                        <td id=\"T_25be5_row2_col0\" class=\"data row2 col0\" >0.16</td>\n",
       "                        <td id=\"T_25be5_row2_col1\" class=\"data row2 col1\" >0.14</td>\n",
       "                        <td id=\"T_25be5_row2_col2\" class=\"data row2 col2\" >0.11</td>\n",
       "                        <td id=\"T_25be5_row2_col3\" class=\"data row2 col3\" >0.15</td>\n",
       "            </tr>\n",
       "            <tr>\n",
       "                        <th id=\"T_25be5_level0_row3\" class=\"row_heading level0 row3\" >happiness</th>\n",
       "                        <td id=\"T_25be5_row3_col0\" class=\"data row3 col0\" >0.51</td>\n",
       "                        <td id=\"T_25be5_row3_col1\" class=\"data row3 col1\" >0.56</td>\n",
       "                        <td id=\"T_25be5_row3_col2\" class=\"data row3 col2\" >0.67</td>\n",
       "                        <td id=\"T_25be5_row3_col3\" class=\"data row3 col3\" >0.64</td>\n",
       "            </tr>\n",
       "            <tr>\n",
       "                        <th id=\"T_25be5_level0_row4\" class=\"row_heading level0 row4\" >sadness</th>\n",
       "                        <td id=\"T_25be5_row4_col0\" class=\"data row4 col0\" >0.32</td>\n",
       "                        <td id=\"T_25be5_row4_col1\" class=\"data row4 col1\" >0.25</td>\n",
       "                        <td id=\"T_25be5_row4_col2\" class=\"data row4 col2\" >0.29</td>\n",
       "                        <td id=\"T_25be5_row4_col3\" class=\"data row4 col3\" >0.34</td>\n",
       "            </tr>\n",
       "            <tr>\n",
       "                        <th id=\"T_25be5_level0_row5\" class=\"row_heading level0 row5\" >surprise</th>\n",
       "                        <td id=\"T_25be5_row5_col0\" class=\"data row5 col0\" >0.42</td>\n",
       "                        <td id=\"T_25be5_row5_col1\" class=\"data row5 col1\" >0.38</td>\n",
       "                        <td id=\"T_25be5_row5_col2\" class=\"data row5 col2\" >0.44</td>\n",
       "                        <td id=\"T_25be5_row5_col3\" class=\"data row5 col3\" >0.42</td>\n",
       "            </tr>\n",
       "            <tr>\n",
       "                        <th id=\"T_25be5_level0_row6\" class=\"row_heading level0 row6\" >valence</th>\n",
       "                        <td id=\"T_25be5_row6_col0\" class=\"data row6 col0\" >0.49</td>\n",
       "                        <td id=\"T_25be5_row6_col1\" class=\"data row6 col1\" >0.56</td>\n",
       "                        <td id=\"T_25be5_row6_col2\" class=\"data row6 col2\" >0.65</td>\n",
       "                        <td id=\"T_25be5_row6_col3\" class=\"data row6 col3\" >0.49</td>\n",
       "            </tr>\n",
       "    </tbody></table>"
      ],
      "text/plain": [
       "<pandas.io.formats.style.Styler at 0x7f7bd6ace250>"
      ]
     },
     "execution_count": 4,
     "metadata": {},
     "output_type": "execute_result"
    }
   ],
   "source": [
    "print('Kernel SVM')\n",
    "kernel_df = pd.read_csv('kernel_SVM/f1_score.csv', header=[0,1], index_col=[0,1])\n",
    "kernel_df = kernel_df.drop(columns=['tilted','frontal'], level=1)\n",
    "kernel_df = kernel_df.drop(index=['macro_avg', 'weighted_avg'], level=0).reset_index(level=0, drop=True)\n",
    "kernel_df.style.highlight_max(color='lightgreen', axis=1).format('{:.2f}')"
   ]
  },
  {
   "cell_type": "code",
   "execution_count": 5,
   "metadata": {},
   "outputs": [
    {
     "name": "stdout",
     "output_type": "stream",
     "text": [
      "LSTM\n"
     ]
    },
    {
     "data": {
      "text/html": [
       "<style  type=\"text/css\" >\n",
       "#T_4fc1e_row0_col0,#T_4fc1e_row1_col2,#T_4fc1e_row2_col0,#T_4fc1e_row3_col1,#T_4fc1e_row4_col0,#T_4fc1e_row5_col0,#T_4fc1e_row6_col2{\n",
       "            background-color:  lightgreen;\n",
       "        }</style><table id=\"T_4fc1e_\" ><thead>    <tr>        <th class=\"blank level0\" ></th>        <th class=\"col_heading level0 col0\" >au_intensities</th>        <th class=\"col_heading level0 col1\" >au_activations</th>        <th class=\"col_heading level0 col2\" >au_intensities_activations</th>    </tr></thead><tbody>\n",
       "                <tr>\n",
       "                        <th id=\"T_4fc1e_level0_row0\" class=\"row_heading level0 row0\" >anger</th>\n",
       "                        <td id=\"T_4fc1e_row0_col0\" class=\"data row0 col0\" >0.39</td>\n",
       "                        <td id=\"T_4fc1e_row0_col1\" class=\"data row0 col1\" >0.38</td>\n",
       "                        <td id=\"T_4fc1e_row0_col2\" class=\"data row0 col2\" >0.34</td>\n",
       "            </tr>\n",
       "            <tr>\n",
       "                        <th id=\"T_4fc1e_level0_row1\" class=\"row_heading level0 row1\" >disgust</th>\n",
       "                        <td id=\"T_4fc1e_row1_col0\" class=\"data row1 col0\" >0.29</td>\n",
       "                        <td id=\"T_4fc1e_row1_col1\" class=\"data row1 col1\" >0.29</td>\n",
       "                        <td id=\"T_4fc1e_row1_col2\" class=\"data row1 col2\" >0.32</td>\n",
       "            </tr>\n",
       "            <tr>\n",
       "                        <th id=\"T_4fc1e_level0_row2\" class=\"row_heading level0 row2\" >fear</th>\n",
       "                        <td id=\"T_4fc1e_row2_col0\" class=\"data row2 col0\" >0.19</td>\n",
       "                        <td id=\"T_4fc1e_row2_col1\" class=\"data row2 col1\" >0.17</td>\n",
       "                        <td id=\"T_4fc1e_row2_col2\" class=\"data row2 col2\" >0.18</td>\n",
       "            </tr>\n",
       "            <tr>\n",
       "                        <th id=\"T_4fc1e_level0_row3\" class=\"row_heading level0 row3\" >happiness</th>\n",
       "                        <td id=\"T_4fc1e_row3_col0\" class=\"data row3 col0\" >0.53</td>\n",
       "                        <td id=\"T_4fc1e_row3_col1\" class=\"data row3 col1\" >0.66</td>\n",
       "                        <td id=\"T_4fc1e_row3_col2\" class=\"data row3 col2\" >0.62</td>\n",
       "            </tr>\n",
       "            <tr>\n",
       "                        <th id=\"T_4fc1e_level0_row4\" class=\"row_heading level0 row4\" >sadness</th>\n",
       "                        <td id=\"T_4fc1e_row4_col0\" class=\"data row4 col0\" >0.31</td>\n",
       "                        <td id=\"T_4fc1e_row4_col1\" class=\"data row4 col1\" >0.27</td>\n",
       "                        <td id=\"T_4fc1e_row4_col2\" class=\"data row4 col2\" >0.30</td>\n",
       "            </tr>\n",
       "            <tr>\n",
       "                        <th id=\"T_4fc1e_level0_row5\" class=\"row_heading level0 row5\" >surprise</th>\n",
       "                        <td id=\"T_4fc1e_row5_col0\" class=\"data row5 col0\" >0.39</td>\n",
       "                        <td id=\"T_4fc1e_row5_col1\" class=\"data row5 col1\" >0.33</td>\n",
       "                        <td id=\"T_4fc1e_row5_col2\" class=\"data row5 col2\" >0.37</td>\n",
       "            </tr>\n",
       "            <tr>\n",
       "                        <th id=\"T_4fc1e_level0_row6\" class=\"row_heading level0 row6\" >valence</th>\n",
       "                        <td id=\"T_4fc1e_row6_col0\" class=\"data row6 col0\" >0.48</td>\n",
       "                        <td id=\"T_4fc1e_row6_col1\" class=\"data row6 col1\" >0.60</td>\n",
       "                        <td id=\"T_4fc1e_row6_col2\" class=\"data row6 col2\" >0.63</td>\n",
       "            </tr>\n",
       "    </tbody></table>"
      ],
      "text/plain": [
       "<pandas.io.formats.style.Styler at 0x7f7bd6652040>"
      ]
     },
     "execution_count": 5,
     "metadata": {},
     "output_type": "execute_result"
    }
   ],
   "source": [
    "print('LSTM')\n",
    "lstm_df = pd.read_csv('LSTM/f1_score.csv', header=0, index_col=[0,1], names=['au_intensities', 'au_activations', 'au_intensities_activations'], skiprows=[0])\n",
    "lstm_df = lstm_df.drop(index=['macro_avg', 'weighted_avg'], level=0).reset_index(level=0, drop=True)\n",
    "lstm_df.style.highlight_max(color='lightgreen', axis=1).format('{:.2f}')"
   ]
  },
  {
   "cell_type": "markdown",
   "metadata": {},
   "source": [
    "Tabella finale con lo score massimo di ogni modello"
   ]
  },
  {
   "cell_type": "code",
   "execution_count": 6,
   "metadata": {},
   "outputs": [
    {
     "data": {
      "text/html": [
       "<style  type=\"text/css\" >\n",
       "#T_7f4a5_row0_col3,#T_7f4a5_row0_col5,#T_7f4a5_row0_col6,#T_7f4a5_row1_col1,#T_7f4a5_row1_col4,#T_7f4a5_row2_col4,#T_7f4a5_row3_col0,#T_7f4a5_row3_col2{\n",
       "            background-color:  lightgreen;\n",
       "        }</style><table id=\"T_7f4a5_\" ><thead>    <tr>        <th class=\"blank level0\" ></th>        <th class=\"col_heading level0 col0\" >anger</th>        <th class=\"col_heading level0 col1\" >disgust</th>        <th class=\"col_heading level0 col2\" >fear</th>        <th class=\"col_heading level0 col3\" >happiness</th>        <th class=\"col_heading level0 col4\" >sadness</th>        <th class=\"col_heading level0 col5\" >surprise</th>        <th class=\"col_heading level0 col6\" >valence</th>    </tr></thead><tbody>\n",
       "                <tr>\n",
       "                        <th id=\"T_7f4a5_level0_row0\" class=\"row_heading level0 row0\" >logistic_regression</th>\n",
       "                        <td id=\"T_7f4a5_row0_col0\" class=\"data row0 col0\" >0.35</td>\n",
       "                        <td id=\"T_7f4a5_row0_col1\" class=\"data row0 col1\" >0.31</td>\n",
       "                        <td id=\"T_7f4a5_row0_col2\" class=\"data row0 col2\" >0.18</td>\n",
       "                        <td id=\"T_7f4a5_row0_col3\" class=\"data row0 col3\" >0.69</td>\n",
       "                        <td id=\"T_7f4a5_row0_col4\" class=\"data row0 col4\" >0.33</td>\n",
       "                        <td id=\"T_7f4a5_row0_col5\" class=\"data row0 col5\" >0.52</td>\n",
       "                        <td id=\"T_7f4a5_row0_col6\" class=\"data row0 col6\" >0.67</td>\n",
       "            </tr>\n",
       "            <tr>\n",
       "                        <th id=\"T_7f4a5_level0_row1\" class=\"row_heading level0 row1\" >linear_SVM</th>\n",
       "                        <td id=\"T_7f4a5_row1_col0\" class=\"data row1 col0\" >0.37</td>\n",
       "                        <td id=\"T_7f4a5_row1_col1\" class=\"data row1 col1\" >0.37</td>\n",
       "                        <td id=\"T_7f4a5_row1_col2\" class=\"data row1 col2\" >0.17</td>\n",
       "                        <td id=\"T_7f4a5_row1_col3\" class=\"data row1 col3\" >0.67</td>\n",
       "                        <td id=\"T_7f4a5_row1_col4\" class=\"data row1 col4\" >0.34</td>\n",
       "                        <td id=\"T_7f4a5_row1_col5\" class=\"data row1 col5\" >0.51</td>\n",
       "                        <td id=\"T_7f4a5_row1_col6\" class=\"data row1 col6\" >0.65</td>\n",
       "            </tr>\n",
       "            <tr>\n",
       "                        <th id=\"T_7f4a5_level0_row2\" class=\"row_heading level0 row2\" >kernel_SVM</th>\n",
       "                        <td id=\"T_7f4a5_row2_col0\" class=\"data row2 col0\" >0.35</td>\n",
       "                        <td id=\"T_7f4a5_row2_col1\" class=\"data row2 col1\" >0.33</td>\n",
       "                        <td id=\"T_7f4a5_row2_col2\" class=\"data row2 col2\" >0.16</td>\n",
       "                        <td id=\"T_7f4a5_row2_col3\" class=\"data row2 col3\" >0.67</td>\n",
       "                        <td id=\"T_7f4a5_row2_col4\" class=\"data row2 col4\" >0.34</td>\n",
       "                        <td id=\"T_7f4a5_row2_col5\" class=\"data row2 col5\" >0.44</td>\n",
       "                        <td id=\"T_7f4a5_row2_col6\" class=\"data row2 col6\" >0.65</td>\n",
       "            </tr>\n",
       "            <tr>\n",
       "                        <th id=\"T_7f4a5_level0_row3\" class=\"row_heading level0 row3\" >LSTM</th>\n",
       "                        <td id=\"T_7f4a5_row3_col0\" class=\"data row3 col0\" >0.39</td>\n",
       "                        <td id=\"T_7f4a5_row3_col1\" class=\"data row3 col1\" >0.32</td>\n",
       "                        <td id=\"T_7f4a5_row3_col2\" class=\"data row3 col2\" >0.19</td>\n",
       "                        <td id=\"T_7f4a5_row3_col3\" class=\"data row3 col3\" >0.66</td>\n",
       "                        <td id=\"T_7f4a5_row3_col4\" class=\"data row3 col4\" >0.31</td>\n",
       "                        <td id=\"T_7f4a5_row3_col5\" class=\"data row3 col5\" >0.39</td>\n",
       "                        <td id=\"T_7f4a5_row3_col6\" class=\"data row3 col6\" >0.63</td>\n",
       "            </tr>\n",
       "    </tbody></table>"
      ],
      "text/plain": [
       "<pandas.io.formats.style.Styler at 0x7f7bd67d7460>"
      ]
     },
     "metadata": {},
     "output_type": "display_data"
    }
   ],
   "source": [
    "df_list = [logistic_df, linear_df, kernel_df, lstm_df]\n",
    "max_values_list = []\n",
    "for df in df_list:\n",
    "    max_values_list.append(df.max(axis=1))\n",
    "\n",
    "score_df = pd.concat(max_values_list, axis=1, sort=False)\n",
    "score_df = score_df.T.rename(index={0:'logistic_regression', 1:'linear_SVM', 2:'kernel_SVM', 3:'LSTM'})\n",
    "display(score_df.style.highlight_max(color = 'lightgreen').format('{:.2f}'))"
   ]
  },
  {
   "cell_type": "markdown",
   "metadata": {},
   "source": [
    "## Confronto con dummy classifier"
   ]
  },
  {
   "cell_type": "markdown",
   "metadata": {},
   "source": [
    "Concateno la media pesata dell'f1_score di ogni modello rispetto ad ogni emozione"
   ]
  },
  {
   "cell_type": "code",
   "execution_count": 7,
   "metadata": {},
   "outputs": [
    {
     "data": {
      "text/html": [
       "<div>\n",
       "<style scoped>\n",
       "    .dataframe tbody tr th:only-of-type {\n",
       "        vertical-align: middle;\n",
       "    }\n",
       "\n",
       "    .dataframe tbody tr th {\n",
       "        vertical-align: top;\n",
       "    }\n",
       "\n",
       "    .dataframe thead tr th {\n",
       "        text-align: left;\n",
       "    }\n",
       "</style>\n",
       "<table border=\"1\" class=\"dataframe\">\n",
       "  <thead>\n",
       "    <tr>\n",
       "      <th>models</th>\n",
       "      <th colspan=\"4\" halign=\"left\">dummy_classifier</th>\n",
       "      <th colspan=\"4\" halign=\"left\">logistic_regression</th>\n",
       "      <th colspan=\"4\" halign=\"left\">linear_svm</th>\n",
       "      <th colspan=\"4\" halign=\"left\">kernel_svm</th>\n",
       "      <th colspan=\"3\" halign=\"left\">lstm</th>\n",
       "    </tr>\n",
       "    <tr>\n",
       "      <th>features</th>\n",
       "      <th>delaunay</th>\n",
       "      <th>au_intensities</th>\n",
       "      <th>au_activations</th>\n",
       "      <th>au_intensities_activations</th>\n",
       "      <th>delaunay</th>\n",
       "      <th>au_intensities</th>\n",
       "      <th>au_activations</th>\n",
       "      <th>au_intensities_activations</th>\n",
       "      <th>delaunay</th>\n",
       "      <th>au_intensities</th>\n",
       "      <th>au_activations</th>\n",
       "      <th>au_intensities_activations</th>\n",
       "      <th>delaunay</th>\n",
       "      <th>au_intensities</th>\n",
       "      <th>au_activations</th>\n",
       "      <th>au_intensities_activations</th>\n",
       "      <th>au_intensities</th>\n",
       "      <th>au_activations</th>\n",
       "      <th>au_intensities_activations</th>\n",
       "    </tr>\n",
       "  </thead>\n",
       "  <tbody>\n",
       "    <tr>\n",
       "      <th>anger</th>\n",
       "      <td>0.35</td>\n",
       "      <td>0.33</td>\n",
       "      <td>0.32</td>\n",
       "      <td>0.28</td>\n",
       "      <td>0.33</td>\n",
       "      <td>0.32</td>\n",
       "      <td>0.35</td>\n",
       "      <td>0.35</td>\n",
       "      <td>0.37</td>\n",
       "      <td>0.37</td>\n",
       "      <td>0.35</td>\n",
       "      <td>0.35</td>\n",
       "      <td>0.35</td>\n",
       "      <td>0.35</td>\n",
       "      <td>0.28</td>\n",
       "      <td>0.32</td>\n",
       "      <td>0.39</td>\n",
       "      <td>0.38</td>\n",
       "      <td>0.34</td>\n",
       "    </tr>\n",
       "    <tr>\n",
       "      <th>disgust</th>\n",
       "      <td>0.27</td>\n",
       "      <td>0.21</td>\n",
       "      <td>0.30</td>\n",
       "      <td>0.26</td>\n",
       "      <td>0.30</td>\n",
       "      <td>0.31</td>\n",
       "      <td>0.27</td>\n",
       "      <td>0.27</td>\n",
       "      <td>0.32</td>\n",
       "      <td>0.37</td>\n",
       "      <td>0.23</td>\n",
       "      <td>0.31</td>\n",
       "      <td>0.31</td>\n",
       "      <td>0.33</td>\n",
       "      <td>0.24</td>\n",
       "      <td>0.28</td>\n",
       "      <td>0.29</td>\n",
       "      <td>0.29</td>\n",
       "      <td>0.32</td>\n",
       "    </tr>\n",
       "    <tr>\n",
       "      <th>fear</th>\n",
       "      <td>0.13</td>\n",
       "      <td>0.17</td>\n",
       "      <td>0.13</td>\n",
       "      <td>0.10</td>\n",
       "      <td>0.17</td>\n",
       "      <td>0.15</td>\n",
       "      <td>0.16</td>\n",
       "      <td>0.18</td>\n",
       "      <td>0.14</td>\n",
       "      <td>0.16</td>\n",
       "      <td>0.15</td>\n",
       "      <td>0.17</td>\n",
       "      <td>0.16</td>\n",
       "      <td>0.14</td>\n",
       "      <td>0.11</td>\n",
       "      <td>0.15</td>\n",
       "      <td>0.19</td>\n",
       "      <td>0.17</td>\n",
       "      <td>0.18</td>\n",
       "    </tr>\n",
       "    <tr>\n",
       "      <th>happiness</th>\n",
       "      <td>0.52</td>\n",
       "      <td>0.48</td>\n",
       "      <td>0.50</td>\n",
       "      <td>0.47</td>\n",
       "      <td>0.59</td>\n",
       "      <td>0.65</td>\n",
       "      <td>0.69</td>\n",
       "      <td>0.66</td>\n",
       "      <td>0.61</td>\n",
       "      <td>0.66</td>\n",
       "      <td>0.67</td>\n",
       "      <td>0.66</td>\n",
       "      <td>0.51</td>\n",
       "      <td>0.56</td>\n",
       "      <td>0.67</td>\n",
       "      <td>0.64</td>\n",
       "      <td>0.53</td>\n",
       "      <td>0.66</td>\n",
       "      <td>0.62</td>\n",
       "    </tr>\n",
       "    <tr>\n",
       "      <th>sadness</th>\n",
       "      <td>0.21</td>\n",
       "      <td>0.23</td>\n",
       "      <td>0.27</td>\n",
       "      <td>0.25</td>\n",
       "      <td>0.24</td>\n",
       "      <td>0.33</td>\n",
       "      <td>0.32</td>\n",
       "      <td>0.30</td>\n",
       "      <td>0.30</td>\n",
       "      <td>0.32</td>\n",
       "      <td>0.34</td>\n",
       "      <td>0.32</td>\n",
       "      <td>0.32</td>\n",
       "      <td>0.25</td>\n",
       "      <td>0.29</td>\n",
       "      <td>0.34</td>\n",
       "      <td>0.31</td>\n",
       "      <td>0.27</td>\n",
       "      <td>0.30</td>\n",
       "    </tr>\n",
       "    <tr>\n",
       "      <th>surprise</th>\n",
       "      <td>0.39</td>\n",
       "      <td>0.36</td>\n",
       "      <td>0.40</td>\n",
       "      <td>0.39</td>\n",
       "      <td>0.47</td>\n",
       "      <td>0.45</td>\n",
       "      <td>0.47</td>\n",
       "      <td>0.52</td>\n",
       "      <td>0.46</td>\n",
       "      <td>0.45</td>\n",
       "      <td>0.47</td>\n",
       "      <td>0.51</td>\n",
       "      <td>0.42</td>\n",
       "      <td>0.38</td>\n",
       "      <td>0.44</td>\n",
       "      <td>0.42</td>\n",
       "      <td>0.39</td>\n",
       "      <td>0.33</td>\n",
       "      <td>0.37</td>\n",
       "    </tr>\n",
       "    <tr>\n",
       "      <th>valence</th>\n",
       "      <td>0.56</td>\n",
       "      <td>0.45</td>\n",
       "      <td>0.48</td>\n",
       "      <td>0.50</td>\n",
       "      <td>0.52</td>\n",
       "      <td>0.67</td>\n",
       "      <td>0.64</td>\n",
       "      <td>0.66</td>\n",
       "      <td>0.55</td>\n",
       "      <td>0.65</td>\n",
       "      <td>0.64</td>\n",
       "      <td>0.63</td>\n",
       "      <td>0.49</td>\n",
       "      <td>0.56</td>\n",
       "      <td>0.65</td>\n",
       "      <td>0.49</td>\n",
       "      <td>0.48</td>\n",
       "      <td>0.60</td>\n",
       "      <td>0.63</td>\n",
       "    </tr>\n",
       "  </tbody>\n",
       "</table>\n",
       "</div>"
      ],
      "text/plain": [
       "models    dummy_classifier                                \\\n",
       "features          delaunay au_intensities au_activations   \n",
       "anger                 0.35           0.33           0.32   \n",
       "disgust               0.27           0.21           0.30   \n",
       "fear                  0.13           0.17           0.13   \n",
       "happiness             0.52           0.48           0.50   \n",
       "sadness               0.21           0.23           0.27   \n",
       "surprise              0.39           0.36           0.40   \n",
       "valence               0.56           0.45           0.48   \n",
       "\n",
       "models                               logistic_regression                 \\\n",
       "features  au_intensities_activations            delaunay au_intensities   \n",
       "anger                           0.28                0.33           0.32   \n",
       "disgust                         0.26                0.30           0.31   \n",
       "fear                            0.10                0.17           0.15   \n",
       "happiness                       0.47                0.59           0.65   \n",
       "sadness                         0.25                0.24           0.33   \n",
       "surprise                        0.39                0.47           0.45   \n",
       "valence                         0.50                0.52           0.67   \n",
       "\n",
       "models                                              linear_svm                 \\\n",
       "features  au_activations au_intensities_activations   delaunay au_intensities   \n",
       "anger               0.35                       0.35       0.37           0.37   \n",
       "disgust             0.27                       0.27       0.32           0.37   \n",
       "fear                0.16                       0.18       0.14           0.16   \n",
       "happiness           0.69                       0.66       0.61           0.66   \n",
       "sadness             0.32                       0.30       0.30           0.32   \n",
       "surprise            0.47                       0.52       0.46           0.45   \n",
       "valence             0.64                       0.66       0.55           0.65   \n",
       "\n",
       "models                                              kernel_svm                 \\\n",
       "features  au_activations au_intensities_activations   delaunay au_intensities   \n",
       "anger               0.35                       0.35       0.35           0.35   \n",
       "disgust             0.23                       0.31       0.31           0.33   \n",
       "fear                0.15                       0.17       0.16           0.14   \n",
       "happiness           0.67                       0.66       0.51           0.56   \n",
       "sadness             0.34                       0.32       0.32           0.25   \n",
       "surprise            0.47                       0.51       0.42           0.38   \n",
       "valence             0.64                       0.63       0.49           0.56   \n",
       "\n",
       "models                                                        lstm  \\\n",
       "features  au_activations au_intensities_activations au_intensities   \n",
       "anger               0.28                       0.32           0.39   \n",
       "disgust             0.24                       0.28           0.29   \n",
       "fear                0.11                       0.15           0.19   \n",
       "happiness           0.67                       0.64           0.53   \n",
       "sadness             0.29                       0.34           0.31   \n",
       "surprise            0.44                       0.42           0.39   \n",
       "valence             0.65                       0.49           0.48   \n",
       "\n",
       "models                                               \n",
       "features  au_activations au_intensities_activations  \n",
       "anger               0.38                       0.34  \n",
       "disgust             0.29                       0.32  \n",
       "fear                0.17                       0.18  \n",
       "happiness           0.66                       0.62  \n",
       "sadness             0.27                       0.30  \n",
       "surprise            0.33                       0.37  \n",
       "valence             0.60                       0.63  "
      ]
     },
     "execution_count": 7,
     "metadata": {},
     "output_type": "execute_result"
    }
   ],
   "source": [
    "csv_list = ['dummy_classifier/f1_score.csv','logistic_regression/f1_score.csv','linear_SVM/f1_score.csv','kernel_SVM/f1_score.csv']\n",
    "df_list = []\n",
    "\n",
    "for csv in csv_list:\n",
    "    df = pd.read_csv(csv, header=[0,1], index_col=[0,1])\n",
    "    df_list.append(df)\n",
    "    \n",
    "for i, df in enumerate(df_list):\n",
    "    df = df.drop(columns=['tilted','frontal'], level=1)\n",
    "    df = df.drop(index=['macro_avg', 'weighted_avg'], level=0).reset_index(level=0, drop=True)\n",
    "    df_list[i] = df\n",
    "\n",
    "df = pd.read_csv('LSTM/f1_score.csv', index_col=[0,1], skiprows=[1])\n",
    "df = df.drop(index=['macro_avg', 'weighted_avg'], level=0).reset_index(level=0, drop=True)\n",
    "df_list.append(df)\n",
    "\n",
    "df = pd.concat(df_list, axis=1, sort=False)\n",
    "\n",
    "columns_arrays = [\n",
    "    ['dummy_classifier','dummy_classifier','dummy_classifier','dummy_classifier','logistic_regression','logistic_regression','logistic_regression','logistic_regression','linear_svm','linear_svm','linear_svm','linear_svm','kernel_svm','kernel_svm','kernel_svm','kernel_svm','lstm','lstm','lstm'],\n",
    "    ['delaunay','au_intensities','au_activations','au_intensities_activations','delaunay','au_intensities','au_activations','au_intensities_activations','delaunay','au_intensities','au_activations','au_intensities_activations','delaunay','au_intensities','au_activations','au_intensities_activations','au_intensities','au_activations','au_intensities_activations'],\n",
    "]\n",
    "\n",
    "columns_index = pd.MultiIndex.from_arrays(columns_arrays, names=['models', 'features'])\n",
    "index = ['anger','disgust','fear','happiness','sadness','surprise','valence']\n",
    "\n",
    "label_1_df = pd.DataFrame(data=df.values, index=index, columns=columns_index)\n",
    "label_1_df"
   ]
  },
  {
   "cell_type": "code",
   "execution_count": 8,
   "metadata": {
    "scrolled": false
   },
   "outputs": [
    {
     "data": {
      "image/png": "[encoded data removed]",
      "text/plain": [
       "<Figure size 2648.75x360 with 7 Axes>"
      ]
     },
     "metadata": {
      "needs_background": "light"
     },
     "output_type": "display_data"
    }
   ],
   "source": [
    "df = label_1_df.reset_index().rename(columns={'index':'emotion'})\n",
    "df = df.melt(id_vars=['emotion'], value_name='f1-score')\n",
    "fg = sns.catplot(x='features', y='f1-score', hue='models', col='emotion', kind='bar', palette='deep', data=df)\n",
    "fg.set_xticklabels(rotation=30)\n",
    "plt.show()"
   ]
  },
  {
   "cell_type": "code",
   "execution_count": 9,
   "metadata": {},
   "outputs": [
    {
     "data": {
      "image/png": "[encoded data removed]",
      "text/plain": [
       "<Figure size 1208.75x720 with 4 Axes>"
      ]
     },
     "metadata": {
      "needs_background": "light"
     },
     "output_type": "display_data"
    }
   ],
   "source": [
    "fg = sns.catplot(x='emotion', y='f1-score', hue='models', col='features', kind='bar', palette='deep', col_wrap=2, data=df, aspect=1.5)\n",
    "fg.set_xticklabels(rotation=30)\n",
    "plt.show()"
   ]
  },
  {
   "cell_type": "markdown",
   "metadata": {},
   "source": [
    "## Confronto con il paper"
   ]
  },
  {
   "cell_type": "code",
   "execution_count": 10,
   "metadata": {},
   "outputs": [
    {
     "data": {
      "text/html": [
       "<div>\n",
       "<style scoped>\n",
       "    .dataframe tbody tr th:only-of-type {\n",
       "        vertical-align: middle;\n",
       "    }\n",
       "\n",
       "    .dataframe tbody tr th {\n",
       "        vertical-align: top;\n",
       "    }\n",
       "\n",
       "    .dataframe thead th {\n",
       "        text-align: right;\n",
       "    }\n",
       "</style>\n",
       "<table border=\"1\" class=\"dataframe\">\n",
       "  <thead>\n",
       "    <tr style=\"text-align: right;\">\n",
       "      <th></th>\n",
       "      <th>anger</th>\n",
       "      <th>disgust</th>\n",
       "      <th>fear</th>\n",
       "      <th>happiness</th>\n",
       "      <th>sadness</th>\n",
       "      <th>surprise</th>\n",
       "      <th>valence</th>\n",
       "    </tr>\n",
       "  </thead>\n",
       "  <tbody>\n",
       "    <tr>\n",
       "      <th>baseline</th>\n",
       "      <td>0.38</td>\n",
       "      <td>0.31</td>\n",
       "      <td>0.15</td>\n",
       "      <td>0.68</td>\n",
       "      <td>0.31</td>\n",
       "      <td>0.52</td>\n",
       "      <td>0.7</td>\n",
       "    </tr>\n",
       "  </tbody>\n",
       "</table>\n",
       "</div>"
      ],
      "text/plain": [
       "          anger  disgust  fear  happiness  sadness  surprise  valence\n",
       "baseline   0.38     0.31  0.15       0.68     0.31      0.52      0.7"
      ]
     },
     "execution_count": 10,
     "metadata": {},
     "output_type": "execute_result"
    }
   ],
   "source": [
    "columns = ['anger','disgust','fear','happiness','sadness','surprise','valence']\n",
    "data = np.array([[0.38, 0.31, 0.15, 0.68, 0.31, 0.52, 0.70]])\n",
    "paper_df = pd.DataFrame(data=data, columns=columns, index=['baseline'])\n",
    "paper_df"
   ]
  },
  {
   "cell_type": "code",
   "execution_count": 11,
   "metadata": {},
   "outputs": [
    {
     "data": {
      "text/html": [
       "<style  type=\"text/css\" >\n",
       "#T_26862_row0_col4,#T_26862_row1_col1,#T_26862_row2_col0,#T_26862_row2_col3,#T_26862_row3_col4,#T_26862_row4_col1,#T_26862_row5_col0,#T_26862_row5_col4,#T_26862_row6_col4{\n",
       "            background-color:  lightgreen;\n",
       "        }</style><table id=\"T_26862_\" ><thead>    <tr>        <th class=\"blank level0\" ></th>        <th class=\"col_heading level0 col0\" >logistic_regression</th>        <th class=\"col_heading level0 col1\" >linear_svm</th>        <th class=\"col_heading level0 col2\" >kernel_svm</th>        <th class=\"col_heading level0 col3\" >lstm</th>        <th class=\"col_heading level0 col4\" >baseline</th>    </tr></thead><tbody>\n",
       "                <tr>\n",
       "                        <th id=\"T_26862_level0_row0\" class=\"row_heading level0 row0\" >anger</th>\n",
       "                        <td id=\"T_26862_row0_col0\" class=\"data row0 col0\" >0.35</td>\n",
       "                        <td id=\"T_26862_row0_col1\" class=\"data row0 col1\" >0.37</td>\n",
       "                        <td id=\"T_26862_row0_col2\" class=\"data row0 col2\" >0.28</td>\n",
       "                        <td id=\"T_26862_row0_col3\" class=\"data row0 col3\" >0.34</td>\n",
       "                        <td id=\"T_26862_row0_col4\" class=\"data row0 col4\" >0.38</td>\n",
       "            </tr>\n",
       "            <tr>\n",
       "                        <th id=\"T_26862_level0_row1\" class=\"row_heading level0 row1\" >disgust</th>\n",
       "                        <td id=\"T_26862_row1_col0\" class=\"data row1 col0\" >0.27</td>\n",
       "                        <td id=\"T_26862_row1_col1\" class=\"data row1 col1\" >0.37</td>\n",
       "                        <td id=\"T_26862_row1_col2\" class=\"data row1 col2\" >0.24</td>\n",
       "                        <td id=\"T_26862_row1_col3\" class=\"data row1 col3\" >0.32</td>\n",
       "                        <td id=\"T_26862_row1_col4\" class=\"data row1 col4\" >0.31</td>\n",
       "            </tr>\n",
       "            <tr>\n",
       "                        <th id=\"T_26862_level0_row2\" class=\"row_heading level0 row2\" >fear</th>\n",
       "                        <td id=\"T_26862_row2_col0\" class=\"data row2 col0\" >0.18</td>\n",
       "                        <td id=\"T_26862_row2_col1\" class=\"data row2 col1\" >0.16</td>\n",
       "                        <td id=\"T_26862_row2_col2\" class=\"data row2 col2\" >0.11</td>\n",
       "                        <td id=\"T_26862_row2_col3\" class=\"data row2 col3\" >0.18</td>\n",
       "                        <td id=\"T_26862_row2_col4\" class=\"data row2 col4\" >0.15</td>\n",
       "            </tr>\n",
       "            <tr>\n",
       "                        <th id=\"T_26862_level0_row3\" class=\"row_heading level0 row3\" >happiness</th>\n",
       "                        <td id=\"T_26862_row3_col0\" class=\"data row3 col0\" >0.66</td>\n",
       "                        <td id=\"T_26862_row3_col1\" class=\"data row3 col1\" >0.66</td>\n",
       "                        <td id=\"T_26862_row3_col2\" class=\"data row3 col2\" >0.67</td>\n",
       "                        <td id=\"T_26862_row3_col3\" class=\"data row3 col3\" >0.62</td>\n",
       "                        <td id=\"T_26862_row3_col4\" class=\"data row3 col4\" >0.68</td>\n",
       "            </tr>\n",
       "            <tr>\n",
       "                        <th id=\"T_26862_level0_row4\" class=\"row_heading level0 row4\" >sadness</th>\n",
       "                        <td id=\"T_26862_row4_col0\" class=\"data row4 col0\" >0.30</td>\n",
       "                        <td id=\"T_26862_row4_col1\" class=\"data row4 col1\" >0.32</td>\n",
       "                        <td id=\"T_26862_row4_col2\" class=\"data row4 col2\" >0.29</td>\n",
       "                        <td id=\"T_26862_row4_col3\" class=\"data row4 col3\" >0.30</td>\n",
       "                        <td id=\"T_26862_row4_col4\" class=\"data row4 col4\" >0.31</td>\n",
       "            </tr>\n",
       "            <tr>\n",
       "                        <th id=\"T_26862_level0_row5\" class=\"row_heading level0 row5\" >surprise</th>\n",
       "                        <td id=\"T_26862_row5_col0\" class=\"data row5 col0\" >0.52</td>\n",
       "                        <td id=\"T_26862_row5_col1\" class=\"data row5 col1\" >0.45</td>\n",
       "                        <td id=\"T_26862_row5_col2\" class=\"data row5 col2\" >0.44</td>\n",
       "                        <td id=\"T_26862_row5_col3\" class=\"data row5 col3\" >0.37</td>\n",
       "                        <td id=\"T_26862_row5_col4\" class=\"data row5 col4\" >0.52</td>\n",
       "            </tr>\n",
       "            <tr>\n",
       "                        <th id=\"T_26862_level0_row6\" class=\"row_heading level0 row6\" >valence</th>\n",
       "                        <td id=\"T_26862_row6_col0\" class=\"data row6 col0\" >0.66</td>\n",
       "                        <td id=\"T_26862_row6_col1\" class=\"data row6 col1\" >0.65</td>\n",
       "                        <td id=\"T_26862_row6_col2\" class=\"data row6 col2\" >0.65</td>\n",
       "                        <td id=\"T_26862_row6_col3\" class=\"data row6 col3\" >0.63</td>\n",
       "                        <td id=\"T_26862_row6_col4\" class=\"data row6 col4\" >0.70</td>\n",
       "            </tr>\n",
       "    </tbody></table>"
      ],
      "text/plain": [
       "<pandas.io.formats.style.Styler at 0x7f7bd2c2a640>"
      ]
     },
     "metadata": {},
     "output_type": "display_data"
    },
    {
     "data": {
      "image/png": "[encoded data removed]",
      "text/plain": [
       "<Figure size 668.75x360 with 1 Axes>"
      ]
     },
     "metadata": {
      "needs_background": "light"
     },
     "output_type": "display_data"
    }
   ],
   "source": [
    "#best_features_df = label_1_df.loc[:,[('logistic_regression','au_activations'),('linear_svm', 'au_intensities'),('kernel_svm','au_activations'),('lstm','au_intensities_activations')]]\n",
    "best_features_df = label_1_df.loc[:,[('logistic_regression','au_intensities_activations'),('linear_svm', 'au_intensities'),('kernel_svm','au_activations'),('lstm','au_intensities_activations')]]\n",
    "all_models_df = pd.concat([best_features_df.droplevel(1, axis=1), paper_df.T], axis=1)\n",
    "display(all_models_df.style.highlight_max(color='lightgreen', axis=1).format('{:.2f}'))\n",
    "\n",
    "melted_df = all_models_df.reset_index().rename(columns={'index':'emotion'}).melt(id_vars='emotion', var_name='models', value_name='f1-score')\n",
    "fg = sns.catplot(x='emotion', y='f1-score', hue='models', kind='bar', palette='deep', data=melted_df, aspect=1.5)\n",
    "fg.set_xticklabels(rotation=30)\n",
    "plt.show()"
   ]
  }
 ],
 "metadata": {
  "colab": {
   "collapsed_sections": [
    "vu2EfYWOJYIH"
   ],
   "name": "results_analysis.ipynb",
   "provenance": []
  },
  "interpreter": {
   "hash": "c6657862fbd7776ed59899a2e04c7a22436c84c561d5b2f052a6596b58604515"
  },
  "kernelspec": {
   "display_name": "Python 3",
   "language": "python",
   "name": "python3"
  },
  "language_info": {
   "codemirror_mode": {
    "name": "ipython",
    "version": 3
   },
   "file_extension": ".py",
   "mimetype": "text/x-python",
   "name": "python",
   "nbconvert_exporter": "python",
   "pygments_lexer": "ipython3",
   "version": "3.8.10"
  }
 },
 "nbformat": 4,
 "nbformat_minor": 1
}
