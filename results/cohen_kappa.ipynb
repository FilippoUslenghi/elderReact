{
 "cells": [
  {
   "cell_type": "code",
   "execution_count": 2,
   "metadata": {},
   "outputs": [],
   "source": [
    "import numpy as np\n",
    "import pandas as pd\n",
    "import os\n",
    "import matplotlib.pyplot as plt\n",
    "import seaborn as sns"
   ]
  },
  {
   "cell_type": "markdown",
   "metadata": {},
   "source": [
    "#### Prendo come riferimento il modello LSTM e il Linear SVM"
   ]
  },
  {
   "cell_type": "code",
   "execution_count": 3,
   "metadata": {},
   "outputs": [
    {
     "name": "stdout",
     "output_type": "stream",
     "text": [
      "Evidenziando i valori massimi...\n"
     ]
    },
    {
     "data": {
      "text/html": [
       "<style type=\"text/css\">\n",
       "#T_f198c_row0_col1, #T_f198c_row1_col1, #T_f198c_row2_col3, #T_f198c_row3_col3, #T_f198c_row4_col3, #T_f198c_row5_col2, #T_f198c_row6_col3 {\n",
       "  background-color: lightgreen;\n",
       "}\n",
       "</style>\n",
       "<table id=\"T_f198c_\">\n",
       "  <thead>\n",
       "    <tr>\n",
       "      <th class=\"blank level0\" >&nbsp;</th>\n",
       "      <th class=\"col_heading level0 col0\" >delaunay</th>\n",
       "      <th class=\"col_heading level0 col1\" >au_intensities</th>\n",
       "      <th class=\"col_heading level0 col2\" >au_activations</th>\n",
       "      <th class=\"col_heading level0 col3\" >au_intensities_activations</th>\n",
       "    </tr>\n",
       "  </thead>\n",
       "  <tbody>\n",
       "    <tr>\n",
       "      <th id=\"T_f198c_level0_row0\" class=\"row_heading level0 row0\" >anger</th>\n",
       "      <td id=\"T_f198c_row0_col0\" class=\"data row0 col0\" >0.02</td>\n",
       "      <td id=\"T_f198c_row0_col1\" class=\"data row0 col1\" >0.08</td>\n",
       "      <td id=\"T_f198c_row0_col2\" class=\"data row0 col2\" >0.03</td>\n",
       "      <td id=\"T_f198c_row0_col3\" class=\"data row0 col3\" >0.03</td>\n",
       "    </tr>\n",
       "    <tr>\n",
       "      <th id=\"T_f198c_level0_row1\" class=\"row_heading level0 row1\" >disgust</th>\n",
       "      <td id=\"T_f198c_row1_col0\" class=\"data row1 col0\" >-0.01</td>\n",
       "      <td id=\"T_f198c_row1_col1\" class=\"data row1 col1\" >0.08</td>\n",
       "      <td id=\"T_f198c_row1_col2\" class=\"data row1 col2\" >0.02</td>\n",
       "      <td id=\"T_f198c_row1_col3\" class=\"data row1 col3\" >0.00</td>\n",
       "    </tr>\n",
       "    <tr>\n",
       "      <th id=\"T_f198c_level0_row2\" class=\"row_heading level0 row2\" >fear</th>\n",
       "      <td id=\"T_f198c_row2_col0\" class=\"data row2 col0\" >0.00</td>\n",
       "      <td id=\"T_f198c_row2_col1\" class=\"data row2 col1\" >0.04</td>\n",
       "      <td id=\"T_f198c_row2_col2\" class=\"data row2 col2\" >0.01</td>\n",
       "      <td id=\"T_f198c_row2_col3\" class=\"data row2 col3\" >0.06</td>\n",
       "    </tr>\n",
       "    <tr>\n",
       "      <th id=\"T_f198c_level0_row3\" class=\"row_heading level0 row3\" >happiness</th>\n",
       "      <td id=\"T_f198c_row3_col0\" class=\"data row3 col0\" >0.08</td>\n",
       "      <td id=\"T_f198c_row3_col1\" class=\"data row3 col1\" >0.33</td>\n",
       "      <td id=\"T_f198c_row3_col2\" class=\"data row3 col2\" >0.26</td>\n",
       "      <td id=\"T_f198c_row3_col3\" class=\"data row3 col3\" >0.35</td>\n",
       "    </tr>\n",
       "    <tr>\n",
       "      <th id=\"T_f198c_level0_row4\" class=\"row_heading level0 row4\" >sadness</th>\n",
       "      <td id=\"T_f198c_row4_col0\" class=\"data row4 col0\" >0.01</td>\n",
       "      <td id=\"T_f198c_row4_col1\" class=\"data row4 col1\" >0.04</td>\n",
       "      <td id=\"T_f198c_row4_col2\" class=\"data row4 col2\" >-0.06</td>\n",
       "      <td id=\"T_f198c_row4_col3\" class=\"data row4 col3\" >0.15</td>\n",
       "    </tr>\n",
       "    <tr>\n",
       "      <th id=\"T_f198c_level0_row5\" class=\"row_heading level0 row5\" >surprise</th>\n",
       "      <td id=\"T_f198c_row5_col0\" class=\"data row5 col0\" >0.01</td>\n",
       "      <td id=\"T_f198c_row5_col1\" class=\"data row5 col1\" >0.10</td>\n",
       "      <td id=\"T_f198c_row5_col2\" class=\"data row5 col2\" >0.11</td>\n",
       "      <td id=\"T_f198c_row5_col3\" class=\"data row5 col3\" >0.02</td>\n",
       "    </tr>\n",
       "    <tr>\n",
       "      <th id=\"T_f198c_level0_row6\" class=\"row_heading level0 row6\" >valence</th>\n",
       "      <td id=\"T_f198c_row6_col0\" class=\"data row6 col0\" >0.07</td>\n",
       "      <td id=\"T_f198c_row6_col1\" class=\"data row6 col1\" >0.18</td>\n",
       "      <td id=\"T_f198c_row6_col2\" class=\"data row6 col2\" >0.16</td>\n",
       "      <td id=\"T_f198c_row6_col3\" class=\"data row6 col3\" >0.20</td>\n",
       "    </tr>\n",
       "  </tbody>\n",
       "</table>\n"
      ],
      "text/plain": [
       "<pandas.io.formats.style.Styler at 0x7f4fcc7b5580>"
      ]
     },
     "metadata": {},
     "output_type": "display_data"
    },
    {
     "data": {
      "text/plain": [
       "delaunay                      0.025714\n",
       "au_intensities                0.121429\n",
       "au_activations                0.075714\n",
       "au_intensities_activations    0.115714\n",
       "dtype: float64"
      ]
     },
     "metadata": {},
     "output_type": "display_data"
    },
    {
     "name": "stdout",
     "output_type": "stream",
     "text": [
      "Evidenziando i valori massimi...\n"
     ]
    },
    {
     "data": {
      "text/html": [
       "<style type=\"text/css\">\n",
       "#T_fbede_row0_col1, #T_fbede_row1_col0, #T_fbede_row1_col2, #T_fbede_row2_col1, #T_fbede_row3_col1, #T_fbede_row3_col2, #T_fbede_row4_col0, #T_fbede_row5_col2, #T_fbede_row6_col3 {\n",
       "  background-color: lightgreen;\n",
       "}\n",
       "</style>\n",
       "<table id=\"T_fbede_\">\n",
       "  <thead>\n",
       "    <tr>\n",
       "      <th class=\"index_name level0\" >features</th>\n",
       "      <th class=\"col_heading level0 col0\" >delaunay</th>\n",
       "      <th class=\"col_heading level0 col1\" >au_intensities</th>\n",
       "      <th class=\"col_heading level0 col2\" >au_activations</th>\n",
       "      <th class=\"col_heading level0 col3\" >au_intensities_activations</th>\n",
       "    </tr>\n",
       "    <tr>\n",
       "      <th class=\"index_name level1\" >pose</th>\n",
       "      <th class=\"col_heading level1 col0\" >none</th>\n",
       "      <th class=\"col_heading level1 col1\" >none</th>\n",
       "      <th class=\"col_heading level1 col2\" >none</th>\n",
       "      <th class=\"col_heading level1 col3\" >none</th>\n",
       "    </tr>\n",
       "    <tr>\n",
       "      <th class=\"index_name level0\" >emotion</th>\n",
       "      <th class=\"blank col0\" >&nbsp;</th>\n",
       "      <th class=\"blank col1\" >&nbsp;</th>\n",
       "      <th class=\"blank col2\" >&nbsp;</th>\n",
       "      <th class=\"blank col3\" >&nbsp;</th>\n",
       "    </tr>\n",
       "  </thead>\n",
       "  <tbody>\n",
       "    <tr>\n",
       "      <th id=\"T_fbede_level0_row0\" class=\"row_heading level0 row0\" >anger</th>\n",
       "      <td id=\"T_fbede_row0_col0\" class=\"data row0 col0\" >-0.08</td>\n",
       "      <td id=\"T_fbede_row0_col1\" class=\"data row0 col1\" >0.08</td>\n",
       "      <td id=\"T_fbede_row0_col2\" class=\"data row0 col2\" >-0.01</td>\n",
       "      <td id=\"T_fbede_row0_col3\" class=\"data row0 col3\" >0.01</td>\n",
       "    </tr>\n",
       "    <tr>\n",
       "      <th id=\"T_fbede_level0_row1\" class=\"row_heading level0 row1\" >disgust</th>\n",
       "      <td id=\"T_fbede_row1_col0\" class=\"data row1 col0\" >-0.00</td>\n",
       "      <td id=\"T_fbede_row1_col1\" class=\"data row1 col1\" >-0.04</td>\n",
       "      <td id=\"T_fbede_row1_col2\" class=\"data row1 col2\" >-0.00</td>\n",
       "      <td id=\"T_fbede_row1_col3\" class=\"data row1 col3\" >-0.03</td>\n",
       "    </tr>\n",
       "    <tr>\n",
       "      <th id=\"T_fbede_level0_row2\" class=\"row_heading level0 row2\" >fear</th>\n",
       "      <td id=\"T_fbede_row2_col0\" class=\"data row2 col0\" >-0.00</td>\n",
       "      <td id=\"T_fbede_row2_col1\" class=\"data row2 col1\" >0.05</td>\n",
       "      <td id=\"T_fbede_row2_col2\" class=\"data row2 col2\" >0.02</td>\n",
       "      <td id=\"T_fbede_row2_col3\" class=\"data row2 col3\" >-0.02</td>\n",
       "    </tr>\n",
       "    <tr>\n",
       "      <th id=\"T_fbede_level0_row3\" class=\"row_heading level0 row3\" >happiness</th>\n",
       "      <td id=\"T_fbede_row3_col0\" class=\"data row3 col0\" >0.02</td>\n",
       "      <td id=\"T_fbede_row3_col1\" class=\"data row3 col1\" >0.06</td>\n",
       "      <td id=\"T_fbede_row3_col2\" class=\"data row3 col2\" >0.06</td>\n",
       "      <td id=\"T_fbede_row3_col3\" class=\"data row3 col3\" >-0.07</td>\n",
       "    </tr>\n",
       "    <tr>\n",
       "      <th id=\"T_fbede_level0_row4\" class=\"row_heading level0 row4\" >sadness</th>\n",
       "      <td id=\"T_fbede_row4_col0\" class=\"data row4 col0\" >0.05</td>\n",
       "      <td id=\"T_fbede_row4_col1\" class=\"data row4 col1\" >-0.10</td>\n",
       "      <td id=\"T_fbede_row4_col2\" class=\"data row4 col2\" >0.03</td>\n",
       "      <td id=\"T_fbede_row4_col3\" class=\"data row4 col3\" >0.03</td>\n",
       "    </tr>\n",
       "    <tr>\n",
       "      <th id=\"T_fbede_level0_row5\" class=\"row_heading level0 row5\" >surprise</th>\n",
       "      <td id=\"T_fbede_row5_col0\" class=\"data row5 col0\" >-0.07</td>\n",
       "      <td id=\"T_fbede_row5_col1\" class=\"data row5 col1\" >-0.00</td>\n",
       "      <td id=\"T_fbede_row5_col2\" class=\"data row5 col2\" >0.10</td>\n",
       "      <td id=\"T_fbede_row5_col3\" class=\"data row5 col3\" >0.02</td>\n",
       "    </tr>\n",
       "    <tr>\n",
       "      <th id=\"T_fbede_level0_row6\" class=\"row_heading level0 row6\" >valence</th>\n",
       "      <td id=\"T_fbede_row6_col0\" class=\"data row6 col0\" >0.03</td>\n",
       "      <td id=\"T_fbede_row6_col1\" class=\"data row6 col1\" >-0.06</td>\n",
       "      <td id=\"T_fbede_row6_col2\" class=\"data row6 col2\" >-0.01</td>\n",
       "      <td id=\"T_fbede_row6_col3\" class=\"data row6 col3\" >0.07</td>\n",
       "    </tr>\n",
       "  </tbody>\n",
       "</table>\n"
      ],
      "text/plain": [
       "<pandas.io.formats.style.Styler at 0x7f4fcc7b5580>"
      ]
     },
     "metadata": {},
     "output_type": "display_data"
    },
    {
     "data": {
      "text/plain": [
       "features                    pose\n",
       "delaunay                    none   -0.007143\n",
       "au_intensities              none   -0.001429\n",
       "au_activations              none    0.027143\n",
       "au_intensities_activations  none    0.001429\n",
       "dtype: float64"
      ]
     },
     "execution_count": 3,
     "metadata": {},
     "output_type": "execute_result"
    }
   ],
   "source": [
    "lstm_df = pd.read_csv('LSTM/cohen_kappa.csv', header=[0], index_col=[0], skiprows=[1])\n",
    "print('Evidenziando i valori massimi...')\n",
    "display(lstm_df.style.highlight_max(axis=1, color='lightgreen').format('{:.2f}'))\n",
    "display(lstm_df.mean())\n",
    "\n",
    "dummy_df = pd.read_csv('dummy_classifier/cohen_kappa.csv', header=[0,1], index_col=[0])\\\n",
    "                .loc[:,(['delaunay','au_intensities','au_activations','au_intensities_activations'], ['none'])]  # select the pose=none columns\n",
    "print('Evidenziando i valori massimi...')\n",
    "display(dummy_df.style.highlight_max(axis=1, color='lightgreen').format('{:.2f}'))\n",
    "dummy_df.mean()\n"
   ]
  },
  {
   "cell_type": "markdown",
   "metadata": {},
   "source": [
    "#### Confronto con il Dummy classifier"
   ]
  },
  {
   "cell_type": "code",
   "execution_count": 3,
   "metadata": {},
   "outputs": [
    {
     "data": {
      "image/png": "[encoded data removed]",
      "text/plain": [
       "<Figure size 483x360 with 1 Axes>"
      ]
     },
     "metadata": {
      "needs_background": "light"
     },
     "output_type": "display_data"
    }
   ],
   "source": [
    "lstm_df = pd.read_csv('LSTM/cohen_kappa.csv', header=[0], index_col=[0], skiprows=[1]).loc[:,(['au_intensities'])].rename(columns={'au_intensities':'LSTM'})\n",
    "linear_df = pd.read_csv('linear_SVM/cohen_kappa.csv', header=[0,1], index_col=[0])\\\n",
    "                .loc[:,(['delaunay','au_intensities','au_activations','au_intensities_activations'], ['none'])]\\\n",
    "                .loc[:,(['au_intensities'])].droplevel(axis=1,level=1).rename(columns={'au_intensities':'Linear SVM'})\n",
    "dummy_df = pd.read_csv('dummy_classifier/cohen_kappa.csv', header=[0,1], index_col=[0])\\\n",
    "                .loc[:,(['delaunay','au_intensities','au_activations','au_intensities_activations'], ['none'])]\\\n",
    "                .loc[:,(['au_activations'])].droplevel(axis=1,level=1).rename(columns={'au_activations':'Dummy classifier'})\n",
    "\n",
    "dummy_comparison_df = pd.concat([lstm_df, linear_df, dummy_df], axis=1)\n",
    "dummy_comparison_df = dummy_comparison_df.reset_index().rename(columns={'index':'emotions'}).melt(id_vars='emotions', var_name='model', value_name='cohen_kappa')\n",
    "\n",
    "fg = sns.catplot(data=dummy_comparison_df, x='emotions', y='cohen_kappa', hue='model', kind='bar', palette='deep')\n",
    "fg.set_xticklabels(rotation=30)\n",
    "plt.show()"
   ]
  },
  {
   "cell_type": "markdown",
   "metadata": {},
   "source": [
    "Confronto con i valori del paper"
   ]
  },
  {
   "cell_type": "code",
   "execution_count": 5,
   "metadata": {},
   "outputs": [
    {
     "data": {
      "text/html": [
       "<style type=\"text/css\">\n",
       "#T_eedb2_row0_col2, #T_eedb2_row1_col1, #T_eedb2_row2_col0, #T_eedb2_row2_col1, #T_eedb2_row3_col2, #T_eedb2_row4_col1, #T_eedb2_row5_col2, #T_eedb2_row6_col1 {\n",
       "  background-color: lightgreen;\n",
       "}\n",
       "</style>\n",
       "<table id=\"T_eedb2_\">\n",
       "  <thead>\n",
       "    <tr>\n",
       "      <th class=\"blank level0\" >&nbsp;</th>\n",
       "      <th class=\"col_heading level0 col0\" >LSTM</th>\n",
       "      <th class=\"col_heading level0 col1\" >Linear SVM</th>\n",
       "      <th class=\"col_heading level0 col2\" >xgboost</th>\n",
       "    </tr>\n",
       "  </thead>\n",
       "  <tbody>\n",
       "    <tr>\n",
       "      <th id=\"T_eedb2_level0_row0\" class=\"row_heading level0 row0\" >anger</th>\n",
       "      <td id=\"T_eedb2_row0_col0\" class=\"data row0 col0\" >0.08</td>\n",
       "      <td id=\"T_eedb2_row0_col1\" class=\"data row0 col1\" >0.08</td>\n",
       "      <td id=\"T_eedb2_row0_col2\" class=\"data row0 col2\" >0.12</td>\n",
       "    </tr>\n",
       "    <tr>\n",
       "      <th id=\"T_eedb2_level0_row1\" class=\"row_heading level0 row1\" >disgust</th>\n",
       "      <td id=\"T_eedb2_row1_col0\" class=\"data row1 col0\" >0.08</td>\n",
       "      <td id=\"T_eedb2_row1_col1\" class=\"data row1 col1\" >0.15</td>\n",
       "      <td id=\"T_eedb2_row1_col2\" class=\"data row1 col2\" >0.08</td>\n",
       "    </tr>\n",
       "    <tr>\n",
       "      <th id=\"T_eedb2_level0_row2\" class=\"row_heading level0 row2\" >fear</th>\n",
       "      <td id=\"T_eedb2_row2_col0\" class=\"data row2 col0\" >0.04</td>\n",
       "      <td id=\"T_eedb2_row2_col1\" class=\"data row2 col1\" >0.04</td>\n",
       "      <td id=\"T_eedb2_row2_col2\" class=\"data row2 col2\" >0.02</td>\n",
       "    </tr>\n",
       "    <tr>\n",
       "      <th id=\"T_eedb2_level0_row3\" class=\"row_heading level0 row3\" >happiness</th>\n",
       "      <td id=\"T_eedb2_row3_col0\" class=\"data row3 col0\" >0.33</td>\n",
       "      <td id=\"T_eedb2_row3_col1\" class=\"data row3 col1\" >0.31</td>\n",
       "      <td id=\"T_eedb2_row3_col2\" class=\"data row3 col2\" >0.34</td>\n",
       "    </tr>\n",
       "    <tr>\n",
       "      <th id=\"T_eedb2_level0_row4\" class=\"row_heading level0 row4\" >sadness</th>\n",
       "      <td id=\"T_eedb2_row4_col0\" class=\"data row4 col0\" >0.04</td>\n",
       "      <td id=\"T_eedb2_row4_col1\" class=\"data row4 col1\" >0.14</td>\n",
       "      <td id=\"T_eedb2_row4_col2\" class=\"data row4 col2\" >0.06</td>\n",
       "    </tr>\n",
       "    <tr>\n",
       "      <th id=\"T_eedb2_level0_row5\" class=\"row_heading level0 row5\" >surprise</th>\n",
       "      <td id=\"T_eedb2_row5_col0\" class=\"data row5 col0\" >0.10</td>\n",
       "      <td id=\"T_eedb2_row5_col1\" class=\"data row5 col1\" >0.10</td>\n",
       "      <td id=\"T_eedb2_row5_col2\" class=\"data row5 col2\" >0.17</td>\n",
       "    </tr>\n",
       "    <tr>\n",
       "      <th id=\"T_eedb2_level0_row6\" class=\"row_heading level0 row6\" >valence</th>\n",
       "      <td id=\"T_eedb2_row6_col0\" class=\"data row6 col0\" >0.18</td>\n",
       "      <td id=\"T_eedb2_row6_col1\" class=\"data row6 col1\" >0.23</td>\n",
       "      <td id=\"T_eedb2_row6_col2\" class=\"data row6 col2\" >0.21</td>\n",
       "    </tr>\n",
       "  </tbody>\n",
       "</table>\n"
      ],
      "text/plain": [
       "<pandas.io.formats.style.Styler at 0x7f9be1e88550>"
      ]
     },
     "metadata": {},
     "output_type": "display_data"
    },
    {
     "data": {
      "image/png": "[encoded data removed]",
      "text/plain": [
       "<Figure size 452x360 with 1 Axes>"
      ]
     },
     "metadata": {
      "needs_background": "light"
     },
     "output_type": "display_data"
    }
   ],
   "source": [
    "columns = ['anger','disgust','fear','happiness','sadness','surprise','valence']\n",
    "data = np.array([[0.12, 0.08, 0.02, 0.34, 0.06, 0.17, 0.21]])\n",
    "paper_results = pd.DataFrame(data=data, columns=columns, index=['xgboost']).T\n",
    "paper_comparison_df = pd.concat([lstm_df, linear_df, paper_results], axis=1)\n",
    "display(paper_comparison_df.style.highlight_max(axis=1,color='lightgreen').format('{:.2f}'))\n",
    "    \n",
    "paper_comparison_df = paper_comparison_df.reset_index().rename(columns={'index': 'emotions'}).melt(id_vars='emotions', var_name='model', value_name='cohen_kappa')\n",
    "fg = sns.catplot(data=paper_comparison_df, x='emotions', y='cohen_kappa', hue='model', kind='bar', palette='deep')\n",
    "fg.set_xticklabels(rotation=30)\n",
    "plt.show()"
   ]
  },
  {
   "cell_type": "markdown",
   "metadata": {},
   "source": [
    "# Medioni"
   ]
  },
  {
   "cell_type": "markdown",
   "metadata": {},
   "source": [
    "## Confronto con il dummy classifier"
   ]
  },
  {
   "cell_type": "code",
   "execution_count": 6,
   "metadata": {},
   "outputs": [
    {
     "data": {
      "image/png": "[encoded data removed]",
      "text/plain": [
       "<Figure size 360x360 with 1 Axes>"
      ]
     },
     "metadata": {
      "needs_background": "light"
     },
     "output_type": "display_data"
    }
   ],
   "source": [
    "dummy_comparison_df = pd.concat([lstm_df, linear_df, dummy_df], axis=1).mean().reset_index().rename(columns={'index':'model', 0:'cohen_kappa'})\n",
    "fg = sns.catplot(data=dummy_comparison_df, x='model', y='cohen_kappa', kind='bar', palette='deep')\n",
    "\n",
    "# extract the matplotlib axes_subplot objects from the FacetGrid\n",
    "ax = fg.facet_axis(0, 0)\n",
    "\n",
    "# iterate through the axes containers\n",
    "for c in ax.containers:\n",
    "    labels = [round(dummy_comparison_df.cohen_kappa, 3).values[i] for i,v in enumerate(c)]\n",
    "    ax.bar_label(c, labels=labels, label_type='edge', padding=3)\n",
    "\n",
    "plt.show()"
   ]
  },
  {
   "cell_type": "markdown",
   "metadata": {},
   "source": [
    "## Confronto con il paper"
   ]
  },
  {
   "cell_type": "code",
   "execution_count": 7,
   "metadata": {},
   "outputs": [
    {
     "data": {
      "image/png": "[encoded data removed]",
      "text/plain": [
       "<Figure size 360x360 with 1 Axes>"
      ]
     },
     "metadata": {
      "needs_background": "light"
     },
     "output_type": "display_data"
    }
   ],
   "source": [
    "data = np.array([[0.12, 0.08, 0.02, 0.34, 0.06, 0.17, 0.21]])\n",
    "paper_results = pd.DataFrame(data=data, columns=columns, index=['xgboost']).T\n",
    "\n",
    "paper_comparison_df = pd.concat([lstm_df, linear_df, paper_results], axis=1).mean().reset_index().rename(columns={'index':'model', 0:'cohen_kappa'})\n",
    "fg = sns.catplot(data=paper_comparison_df, x='model', y='cohen_kappa', kind='bar', palette='deep')\n",
    "\n",
    "# extract the matplotlib axes_subplot objects from the FacetGrid\n",
    "ax = fg.facet_axis(0, 0)\n",
    "\n",
    "# iterate through the axes containers\n",
    "for c in ax.containers:\n",
    "    labels = [round(paper_comparison_df.cohen_kappa, 3).values[i] for i,v in enumerate(c)]\n",
    "    ax.bar_label(c, labels=labels, label_type='edge', padding=3)\n",
    "\n",
    "plt.show()"
   ]
  }
 ],
 "metadata": {
  "kernelspec": {
   "display_name": "Python 3",
   "language": "python",
   "name": "python3"
  },
  "language_info": {
   "codemirror_mode": {
    "name": "ipython",
    "version": 3
   },
   "file_extension": ".py",
   "mimetype": "text/x-python",
   "name": "python",
   "nbconvert_exporter": "python",
   "pygments_lexer": "ipython3",
   "version": "3.8.10"
  }
 },
 "nbformat": 4,
 "nbformat_minor": 4
}
