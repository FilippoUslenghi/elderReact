{
 "cells": [
  {
   "cell_type": "code",
   "execution_count": 2,
   "metadata": {},
   "outputs": [],
   "source": [
    "import numpy as np\n",
    "import pandas as pd\n",
    "import os\n",
    "import matplotlib.pyplot as plt\n",
    "import seaborn as sns"
   ]
  },
  {
   "cell_type": "markdown",
   "metadata": {},
   "source": [
    "#### Prendendo come riferimento il modello LSTM"
   ]
  },
  {
   "cell_type": "code",
   "execution_count": 3,
   "metadata": {},
   "outputs": [
    {
     "name": "stdout",
     "output_type": "stream",
     "text": [
      "Evidenziando i valori massimi...\n"
     ]
    },
    {
     "data": {
      "text/html": [
       "<style  type=\"text/css\" >\n",
       "#T_75abf_row0_col0,#T_75abf_row1_col0,#T_75abf_row2_col2,#T_75abf_row3_col2,#T_75abf_row4_col2,#T_75abf_row5_col1,#T_75abf_row6_col2{\n",
       "            background-color:  lightgreen;\n",
       "        }</style><table id=\"T_75abf_\" ><thead>    <tr>        <th class=\"blank level0\" ></th>        <th class=\"col_heading level0 col0\" >au_intensities</th>        <th class=\"col_heading level0 col1\" >au_activations</th>        <th class=\"col_heading level0 col2\" >au_intensities_activations</th>    </tr></thead><tbody>\n",
       "                <tr>\n",
       "                        <th id=\"T_75abf_level0_row0\" class=\"row_heading level0 row0\" >anger</th>\n",
       "                        <td id=\"T_75abf_row0_col0\" class=\"data row0 col0\" >0.08</td>\n",
       "                        <td id=\"T_75abf_row0_col1\" class=\"data row0 col1\" >0.03</td>\n",
       "                        <td id=\"T_75abf_row0_col2\" class=\"data row0 col2\" >0.03</td>\n",
       "            </tr>\n",
       "            <tr>\n",
       "                        <th id=\"T_75abf_level0_row1\" class=\"row_heading level0 row1\" >disgust</th>\n",
       "                        <td id=\"T_75abf_row1_col0\" class=\"data row1 col0\" >0.08</td>\n",
       "                        <td id=\"T_75abf_row1_col1\" class=\"data row1 col1\" >0.02</td>\n",
       "                        <td id=\"T_75abf_row1_col2\" class=\"data row1 col2\" >0.00</td>\n",
       "            </tr>\n",
       "            <tr>\n",
       "                        <th id=\"T_75abf_level0_row2\" class=\"row_heading level0 row2\" >fear</th>\n",
       "                        <td id=\"T_75abf_row2_col0\" class=\"data row2 col0\" >0.04</td>\n",
       "                        <td id=\"T_75abf_row2_col1\" class=\"data row2 col1\" >0.01</td>\n",
       "                        <td id=\"T_75abf_row2_col2\" class=\"data row2 col2\" >0.06</td>\n",
       "            </tr>\n",
       "            <tr>\n",
       "                        <th id=\"T_75abf_level0_row3\" class=\"row_heading level0 row3\" >happiness</th>\n",
       "                        <td id=\"T_75abf_row3_col0\" class=\"data row3 col0\" >0.33</td>\n",
       "                        <td id=\"T_75abf_row3_col1\" class=\"data row3 col1\" >0.26</td>\n",
       "                        <td id=\"T_75abf_row3_col2\" class=\"data row3 col2\" >0.35</td>\n",
       "            </tr>\n",
       "            <tr>\n",
       "                        <th id=\"T_75abf_level0_row4\" class=\"row_heading level0 row4\" >sadness</th>\n",
       "                        <td id=\"T_75abf_row4_col0\" class=\"data row4 col0\" >0.04</td>\n",
       "                        <td id=\"T_75abf_row4_col1\" class=\"data row4 col1\" >-0.06</td>\n",
       "                        <td id=\"T_75abf_row4_col2\" class=\"data row4 col2\" >0.15</td>\n",
       "            </tr>\n",
       "            <tr>\n",
       "                        <th id=\"T_75abf_level0_row5\" class=\"row_heading level0 row5\" >surprise</th>\n",
       "                        <td id=\"T_75abf_row5_col0\" class=\"data row5 col0\" >0.10</td>\n",
       "                        <td id=\"T_75abf_row5_col1\" class=\"data row5 col1\" >0.11</td>\n",
       "                        <td id=\"T_75abf_row5_col2\" class=\"data row5 col2\" >0.02</td>\n",
       "            </tr>\n",
       "            <tr>\n",
       "                        <th id=\"T_75abf_level0_row6\" class=\"row_heading level0 row6\" >valence</th>\n",
       "                        <td id=\"T_75abf_row6_col0\" class=\"data row6 col0\" >0.18</td>\n",
       "                        <td id=\"T_75abf_row6_col1\" class=\"data row6 col1\" >0.16</td>\n",
       "                        <td id=\"T_75abf_row6_col2\" class=\"data row6 col2\" >0.20</td>\n",
       "            </tr>\n",
       "    </tbody></table>"
      ],
      "text/plain": [
       "<pandas.io.formats.style.Styler at 0x7fd1283ef790>"
      ]
     },
     "metadata": {},
     "output_type": "display_data"
    },
    {
     "name": "stdout",
     "output_type": "stream",
     "text": [
      "Stampandolo come dataframe...\n"
     ]
    },
    {
     "data": {
      "text/html": [
       "<div>\n",
       "<style scoped>\n",
       "    .dataframe tbody tr th:only-of-type {\n",
       "        vertical-align: middle;\n",
       "    }\n",
       "\n",
       "    .dataframe tbody tr th {\n",
       "        vertical-align: top;\n",
       "    }\n",
       "\n",
       "    .dataframe thead th {\n",
       "        text-align: right;\n",
       "    }\n",
       "</style>\n",
       "<table border=\"1\" class=\"dataframe\">\n",
       "  <thead>\n",
       "    <tr style=\"text-align: right;\">\n",
       "      <th></th>\n",
       "      <th>anger</th>\n",
       "      <th>disgust</th>\n",
       "      <th>fear</th>\n",
       "      <th>happiness</th>\n",
       "      <th>sadness</th>\n",
       "      <th>surprise</th>\n",
       "      <th>valence</th>\n",
       "    </tr>\n",
       "  </thead>\n",
       "  <tbody>\n",
       "    <tr>\n",
       "      <th>Cohen kappa</th>\n",
       "      <td>0.08</td>\n",
       "      <td>0.08</td>\n",
       "      <td>0.06</td>\n",
       "      <td>0.35</td>\n",
       "      <td>0.15</td>\n",
       "      <td>0.11</td>\n",
       "      <td>0.2</td>\n",
       "    </tr>\n",
       "  </tbody>\n",
       "</table>\n",
       "</div>"
      ],
      "text/plain": [
       "             anger  disgust  fear  happiness  sadness  surprise  valence\n",
       "Cohen kappa   0.08     0.08  0.06       0.35     0.15      0.11      0.2"
      ]
     },
     "execution_count": 3,
     "metadata": {},
     "output_type": "execute_result"
    }
   ],
   "source": [
    "df = pd.read_csv('LSTM/cohen_kappa.csv', header=[0], index_col=[0], skiprows=[1])\n",
    "print('Evidenziando i valori massimi...')\n",
    "display(df.style.highlight_max(axis=1, color='lightgreen').format('{:.2f}'))\n",
    "print('Stampandolo come dataframe...')\n",
    "lstm_max_df = df.max(axis=1).to_frame('Cohen kappa').T\n",
    "lstm_max_df"
   ]
  },
  {
   "cell_type": "markdown",
   "metadata": {},
   "source": [
    "#### Confronto con il Dummy classifier"
   ]
  },
  {
   "cell_type": "code",
   "execution_count": 4,
   "metadata": {},
   "outputs": [
    {
     "data": {
      "text/html": [
       "<style  type=\"text/css\" >\n",
       "#T_f2d50_row0_col0,#T_f2d50_row0_col1,#T_f2d50_row0_col2,#T_f2d50_row0_col3,#T_f2d50_row0_col4,#T_f2d50_row0_col5,#T_f2d50_row0_col6,#T_f2d50_row1_col0{\n",
       "            background-color:  lightgreen;\n",
       "        }</style><table id=\"T_f2d50_\" ><thead>    <tr>        <th class=\"blank level0\" ></th>        <th class=\"col_heading level0 col0\" >anger</th>        <th class=\"col_heading level0 col1\" >disgust</th>        <th class=\"col_heading level0 col2\" >fear</th>        <th class=\"col_heading level0 col3\" >happiness</th>        <th class=\"col_heading level0 col4\" >sadness</th>        <th class=\"col_heading level0 col5\" >surprise</th>        <th class=\"col_heading level0 col6\" >valence</th>    </tr></thead><tbody>\n",
       "                <tr>\n",
       "                        <th id=\"T_f2d50_level0_row0\" class=\"row_heading level0 row0\" >LSTM</th>\n",
       "                        <td id=\"T_f2d50_row0_col0\" class=\"data row0 col0\" >0.08</td>\n",
       "                        <td id=\"T_f2d50_row0_col1\" class=\"data row0 col1\" >0.08</td>\n",
       "                        <td id=\"T_f2d50_row0_col2\" class=\"data row0 col2\" >0.06</td>\n",
       "                        <td id=\"T_f2d50_row0_col3\" class=\"data row0 col3\" >0.35</td>\n",
       "                        <td id=\"T_f2d50_row0_col4\" class=\"data row0 col4\" >0.15</td>\n",
       "                        <td id=\"T_f2d50_row0_col5\" class=\"data row0 col5\" >0.11</td>\n",
       "                        <td id=\"T_f2d50_row0_col6\" class=\"data row0 col6\" >0.20</td>\n",
       "            </tr>\n",
       "            <tr>\n",
       "                        <th id=\"T_f2d50_level0_row1\" class=\"row_heading level0 row1\" >Dummy classifier</th>\n",
       "                        <td id=\"T_f2d50_row1_col0\" class=\"data row1 col0\" >0.08</td>\n",
       "                        <td id=\"T_f2d50_row1_col1\" class=\"data row1 col1\" >-0.00</td>\n",
       "                        <td id=\"T_f2d50_row1_col2\" class=\"data row1 col2\" >0.05</td>\n",
       "                        <td id=\"T_f2d50_row1_col3\" class=\"data row1 col3\" >0.06</td>\n",
       "                        <td id=\"T_f2d50_row1_col4\" class=\"data row1 col4\" >0.05</td>\n",
       "                        <td id=\"T_f2d50_row1_col5\" class=\"data row1 col5\" >0.10</td>\n",
       "                        <td id=\"T_f2d50_row1_col6\" class=\"data row1 col6\" >0.07</td>\n",
       "            </tr>\n",
       "    </tbody></table>"
      ],
      "text/plain": [
       "<pandas.io.formats.style.Styler at 0x7fd113e4ddf0>"
      ]
     },
     "metadata": {},
     "output_type": "display_data"
    },
    {
     "data": {
      "image/png": "[encoded data removed]",
      "text/plain": [
       "<Figure size 483x360 with 1 Axes>"
      ]
     },
     "metadata": {
      "needs_background": "light"
     },
     "output_type": "display_data"
    }
   ],
   "source": [
    "dummy_df = pd.read_csv('dummy_classifier/cohen_kappa.csv', header=[0,1], index_col=[0])\n",
    "dummy_df = dummy_df.loc[:,(['delaunay','au_intensities','au_activations','au_intensities_activations'], ['none'])]  # select the pose=none columns\n",
    "cohen_kappa_df = lstm_max_df.append(dummy_df.max(axis=1).to_frame('Dummy classifier').T).rename(index={'Cohen kappa': 'LSTM'})\n",
    "display(cohen_kappa_df.style.highlight_max(color='lightgreen').format('{:.2f}'))\n",
    "\n",
    "df = cohen_kappa_df.reset_index().melt(id_vars='index', var_name='emotions').rename(columns={'index':'model'})\n",
    "fg = sns.catplot(data=df, x='emotions', y='value', hue='model', kind='bar', palette='deep')\n",
    "fg.set_xticklabels(rotation=30)\n",
    "plt.show()"
   ]
  },
  {
   "cell_type": "markdown",
   "metadata": {},
   "source": [
    "Confronto con i valori del paper"
   ]
  },
  {
   "cell_type": "code",
   "execution_count": 6,
   "metadata": {},
   "outputs": [
    {
     "data": {
      "text/html": [
       "<style  type=\"text/css\" >\n",
       "#T_ad7d6_row0_col1,#T_ad7d6_row0_col2,#T_ad7d6_row0_col3,#T_ad7d6_row0_col4,#T_ad7d6_row1_col0,#T_ad7d6_row1_col1,#T_ad7d6_row1_col5,#T_ad7d6_row1_col6{\n",
       "            background-color:  lightgreen;\n",
       "        }</style><table id=\"T_ad7d6_\" ><thead>    <tr>        <th class=\"blank level0\" ></th>        <th class=\"col_heading level0 col0\" >anger</th>        <th class=\"col_heading level0 col1\" >disgust</th>        <th class=\"col_heading level0 col2\" >fear</th>        <th class=\"col_heading level0 col3\" >happiness</th>        <th class=\"col_heading level0 col4\" >sadness</th>        <th class=\"col_heading level0 col5\" >surprise</th>        <th class=\"col_heading level0 col6\" >valence</th>    </tr></thead><tbody>\n",
       "                <tr>\n",
       "                        <th id=\"T_ad7d6_level0_row0\" class=\"row_heading level0 row0\" >LSTM</th>\n",
       "                        <td id=\"T_ad7d6_row0_col0\" class=\"data row0 col0\" >0.08</td>\n",
       "                        <td id=\"T_ad7d6_row0_col1\" class=\"data row0 col1\" >0.08</td>\n",
       "                        <td id=\"T_ad7d6_row0_col2\" class=\"data row0 col2\" >0.06</td>\n",
       "                        <td id=\"T_ad7d6_row0_col3\" class=\"data row0 col3\" >0.35</td>\n",
       "                        <td id=\"T_ad7d6_row0_col4\" class=\"data row0 col4\" >0.15</td>\n",
       "                        <td id=\"T_ad7d6_row0_col5\" class=\"data row0 col5\" >0.11</td>\n",
       "                        <td id=\"T_ad7d6_row0_col6\" class=\"data row0 col6\" >0.20</td>\n",
       "            </tr>\n",
       "            <tr>\n",
       "                        <th id=\"T_ad7d6_level0_row1\" class=\"row_heading level0 row1\" >xgboost</th>\n",
       "                        <td id=\"T_ad7d6_row1_col0\" class=\"data row1 col0\" >0.12</td>\n",
       "                        <td id=\"T_ad7d6_row1_col1\" class=\"data row1 col1\" >0.08</td>\n",
       "                        <td id=\"T_ad7d6_row1_col2\" class=\"data row1 col2\" >0.02</td>\n",
       "                        <td id=\"T_ad7d6_row1_col3\" class=\"data row1 col3\" >0.34</td>\n",
       "                        <td id=\"T_ad7d6_row1_col4\" class=\"data row1 col4\" >0.06</td>\n",
       "                        <td id=\"T_ad7d6_row1_col5\" class=\"data row1 col5\" >0.17</td>\n",
       "                        <td id=\"T_ad7d6_row1_col6\" class=\"data row1 col6\" >0.21</td>\n",
       "            </tr>\n",
       "    </tbody></table>"
      ],
      "text/plain": [
       "<pandas.io.formats.style.Styler at 0x7fd0fcab6160>"
      ]
     },
     "metadata": {},
     "output_type": "display_data"
    },
    {
     "data": {
      "image/png": "[encoded data removed]",
      "text/plain": [
       "<Figure size 435.625x360 with 1 Axes>"
      ]
     },
     "metadata": {
      "needs_background": "light"
     },
     "output_type": "display_data"
    }
   ],
   "source": [
    "columns = ['anger','disgust','fear','happiness','sadness','surprise','valence']\n",
    "data = np.array([[0.12, 0.08, 0.02, 0.34, 0.06, 0.17, 0.21]])\n",
    "paper_results = pd.DataFrame(data=data, columns=columns, index=['xgboost'])\n",
    "final_df = pd.concat([lstm_max_df.rename(index={'Cohen kappa': 'LSTM'}), paper_results])\n",
    "display(final_df.style.highlight_max(color='lightgreen').format('{:.2f}'))\n",
    "\n",
    "final_df = final_df.reset_index().rename(columns={'index': 'model'}).melt(id_vars='model', var_name='emotions')\n",
    "fg = sns.catplot(data=final_df, x='emotions', y='value', hue='model', kind='bar', palette='deep')\n",
    "fg.set_xticklabels(rotation=30)\n",
    "plt.show()"
   ]
  },
  {
   "cell_type": "markdown",
   "metadata": {},
   "source": [
    "#### Massimo cohen kappa tra tutti modelli e tutte le features (considerando  _pose_ = none)"
   ]
  },
  {
   "cell_type": "code",
   "execution_count": 89,
   "metadata": {},
   "outputs": [
    {
     "data": {
      "text/html": [
       "<div>\n",
       "<style scoped>\n",
       "    .dataframe tbody tr th:only-of-type {\n",
       "        vertical-align: middle;\n",
       "    }\n",
       "\n",
       "    .dataframe tbody tr th {\n",
       "        vertical-align: top;\n",
       "    }\n",
       "\n",
       "    .dataframe thead th {\n",
       "        text-align: right;\n",
       "    }\n",
       "</style>\n",
       "<table border=\"1\" class=\"dataframe\">\n",
       "  <thead>\n",
       "    <tr style=\"text-align: right;\">\n",
       "      <th></th>\n",
       "      <th>anger</th>\n",
       "      <th>disgust</th>\n",
       "      <th>fear</th>\n",
       "      <th>happiness</th>\n",
       "      <th>sadness</th>\n",
       "      <th>surprise</th>\n",
       "      <th>valence</th>\n",
       "    </tr>\n",
       "  </thead>\n",
       "  <tbody>\n",
       "    <tr>\n",
       "      <th>max values</th>\n",
       "      <td>0.14</td>\n",
       "      <td>0.15</td>\n",
       "      <td>0.06</td>\n",
       "      <td>0.35</td>\n",
       "      <td>0.15</td>\n",
       "      <td>0.22</td>\n",
       "      <td>0.27</td>\n",
       "    </tr>\n",
       "  </tbody>\n",
       "</table>\n",
       "</div>"
      ],
      "text/plain": [
       "            anger  disgust  fear  happiness  sadness  surprise  valence\n",
       "max values   0.14     0.15  0.06       0.35     0.15      0.22     0.27"
      ]
     },
     "execution_count": 89,
     "metadata": {},
     "output_type": "execute_result"
    }
   ],
   "source": [
    "logistic_df = pd.read_csv('logistic_regression/cohen_kappa.csv', header=[0,1], index_col=[0])\n",
    "linear_df = pd.read_csv('linear_SVM/cohen_kappa.csv', header=[0,1], index_col=[0])\n",
    "kernel_df = pd.read_csv('kernel_SVM/cohen_kappa.csv', header=[0,1], index_col=[0])\n",
    "lstm_df = pd.read_csv('LSTM/cohen_kappa.csv', header=[0], index_col=[0], skiprows=[1])\n",
    "\n",
    "df_list = [logistic_df, linear_df, kernel_df]\n",
    "for i,df in enumerate(df_list):\n",
    "    \n",
    "    df_list[i] = df.loc[:,(['delaunay','au_intensities','au_activations','au_intensities_activations'], ['none'])]\n",
    "    \n",
    "df_list.append(lstm_df)\n",
    "max_df = pd.concat(df_list, axis=1).max(axis=1).to_frame('max values').T\n",
    "max_df"
   ]
  }
 ],
 "metadata": {
  "kernelspec": {
   "display_name": "Python 3",
   "language": "python",
   "name": "python3"
  },
  "language_info": {
   "codemirror_mode": {
    "name": "ipython",
    "version": 3
   },
   "file_extension": ".py",
   "mimetype": "text/x-python",
   "name": "python",
   "nbconvert_exporter": "python",
   "pygments_lexer": "ipython3",
   "version": "3.8.10"
  }
 },
 "nbformat": 4,
 "nbformat_minor": 4
}
