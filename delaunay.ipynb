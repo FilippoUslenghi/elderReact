{
 "cells": [
  {
   "cell_type": "markdown",
   "metadata": {},
   "source": [
    "# Delaunay triangulation and FSA-Net"
   ]
  },
  {
   "cell_type": "code",
   "execution_count": 25,
   "metadata": {},
   "outputs": [],
   "source": [
    "import os\n",
    "import re\n",
    "import numpy as np\n",
    "import pandas as pd\n",
    "from scipy.spatial import Delaunay"
   ]
  },
  {
   "cell_type": "markdown",
   "metadata": {},
   "source": [
    "#### Shoelace formula for computing the area of a polygon"
   ]
  },
  {
   "cell_type": "code",
   "execution_count": 26,
   "metadata": {},
   "outputs": [],
   "source": [
    "def polygonArea(X,Y, n) :\n",
    "\n",
    "    # Initialize area\n",
    "    area = 0.0\n",
    "\n",
    "    # Calculate value of Shoelace formula\n",
    "    j = n - 1 # n is the number of points\n",
    "    for i in range( 0, n) :\n",
    "        area = area + (X[j] + X[i]) * (Y[j] - Y[i]) # (X[i], Y[i]) are coordinates of i'th point.\n",
    "        j = i # j is previous vertex to i\n",
    "    \n",
    "    # Return absolute value\n",
    "    return abs(area // 2.0)"
   ]
  },
  {
   "cell_type": "markdown",
   "metadata": {},
   "source": [
    "### Computes dealunay triangulation for every frame of each video"
   ]
  },
  {
   "cell_type": "code",
   "execution_count": 27,
   "metadata": {},
   "outputs": [],
   "source": [
    "frontal_face_df = pd.read_csv('faceMesh/frontal_face_smile_openface.csv')\n",
    "frontal_face_df.columns = [column.replace(' ', '') for column in frontal_face_df.columns]\n",
    "landmarks_regex = re.compile(r'^x_[0-9]+$|^y_[0-9]+$')\n",
    "\n",
    "landmarks_locs = frontal_face_df.columns[frontal_face_df.columns.str.contains(landmarks_regex)]\n",
    "landmarks = frontal_face_df[landmarks_locs].iloc[0].to_numpy(dtype=float)\n",
    "landmarks_points = np.ndarray(shape=(68,2), dtype=float)\n",
    "\n",
    "for i in range(68): # for every landmarks\n",
    "    landmarks_points[i,0] = landmarks[i] # x coordinates\n",
    "    landmarks_points[i,1] = landmarks[68+i] # y coordinates\n",
    "\n",
    "tri = Delaunay(landmarks_points) # compute Delaunay triangulation\n",
    "triangles = landmarks_points[tri.simplices]\n",
    "\n",
    "TRIANGLES_SCHEME = tri.simplices"
   ]
  },
  {
   "cell_type": "markdown",
   "metadata": {},
   "source": [
    "#### Saving the triangle scheme"
   ]
  },
  {
   "cell_type": "code",
   "execution_count": 38,
   "metadata": {},
   "outputs": [],
   "source": [
    "# In the Iphyton db\n",
    "#%store TRIANGLES_SCHEME\n",
    "\n",
    "# and as a json file\n",
    "#import json\n",
    "#variable = {}\n",
    "#variable['TRIANGLES_SCHEME'] = TRIANGLES_SCHEME.tolist()\n",
    "#with open('triangles_scheme.json', 'w') as f:\n",
    "#    json.dump(variable, f) "
   ]
  },
  {
   "cell_type": "code",
   "execution_count": null,
   "metadata": {},
   "outputs": [],
   "source": [
    "%store -r TRIANGLES_SCHEME\n",
    "BASE_DIR = os.path.join('openFace', 'processed_interpolated', '')\n",
    "landmarks_regex = re.compile(r'^x_[0-9]+$|^y_[0-9]+$')\n",
    "\n",
    "landmarks_locs_flag = True\n",
    "for csv in os.listdir(BASE_DIR): # for every video\n",
    "\n",
    "    openface_df = pd.read_csv(os.path.join(BASE_DIR, csv))\n",
    "    if landmarks_locs_flag:\n",
    "        landmarks_locs = openface_df.columns[openface_df.columns.str.contains(landmarks_regex)]\n",
    "        landmarks_locs_flag = False\n",
    "    \n",
    "    #flag = True\n",
    "    for index in openface_df.index: # for every frame\n",
    "        landmarks = openface_df[landmarks_locs].iloc[index].to_numpy(dtype=float)\n",
    "        landmarks_points = np.ndarray(shape=(68,2), dtype=float)\n",
    "        \n",
    "        for i in range(68): # for every landmarks\n",
    "            landmarks_points[i,0] = landmarks[i] # x coordinates\n",
    "            landmarks_points[i,1] = landmarks[68+i] # y coordinates\n",
    "            \n",
    "        #tri = Delaunay(landmarks_points) # compute Delaunay triangulation\n",
    "        #triangles = landmarks_points[tri.simplices]\n",
    "        \n",
    "        \"\"\"\n",
    "        if flag:\n",
    "            FREEZED_TRIANGLES_INDEXES = tri.simplices\n",
    "            flag = False\n",
    "        \"\"\"\n",
    "        \n",
    "        # compute the area of every triangle\n",
    "        #triangles = landmarks_points[FREEZED_TRIANGLES_INDEXES]\n",
    "        triangles = landmarks_points[TRIANGLES_SCHEME]\n",
    "        for i, triangle in enumerate(triangles):\n",
    "            X_coords = triangle[:,0]\n",
    "            Y_coords = triangle[:,1]\n",
    "            area = polygonArea(X_coords, Y_coords, 3)\n",
    "        \n",
    "    break"
   ]
  },
  {
   "cell_type": "markdown",
   "metadata": {},
   "source": [
    "### Testing"
   ]
  },
  {
   "cell_type": "code",
   "execution_count": null,
   "metadata": {},
   "outputs": [],
   "source": [
    "tri = Delaunay(landmarks_points)\n",
    "import matplotlib.pyplot as plt\n",
    "\n",
    "plt.triplot(landmarks_points[:,0], landmarks_points[:,1], tri.simplices)\n",
    "\n",
    "plt.plot(landmarks_points[:,0], landmarks_points[:,1], 'o')\n",
    "\n",
    "plt.show()\n",
    "print(len(tri.simplices))"
   ]
  },
  {
   "cell_type": "code",
   "execution_count": null,
   "metadata": {},
   "outputs": [],
   "source": [
    "print(tri.simplices[0])\n",
    "\n",
    "triangles = landmarks_points[tri.simplices]\n",
    "for triangle in triangles:\n",
    "    X = triangle[:,0]\n",
    "    Y = triangle[:,1]\n",
    "    area = polygonArea(X, Y, 3)\n",
    "    "
   ]
  },
  {
   "cell_type": "code",
   "execution_count": null,
   "metadata": {},
   "outputs": [],
   "source": [
    "triangle = landmarks_points[tri.simplices[0]]\n",
    "X_coords = triangle[:,0]\n",
    "Y_coords = triangle[:,1]\n",
    "area = polygonArea(X_coords, Y_coords, 3)"
   ]
  },
  {
   "cell_type": "code",
   "execution_count": null,
   "metadata": {},
   "outputs": [],
   "source": [
    "print(TRIANGLES_SCHEME)"
   ]
  },
  {
   "cell_type": "code",
   "execution_count": null,
   "metadata": {},
   "outputs": [],
   "source": []
  }
 ],
 "metadata": {
  "kernelspec": {
   "display_name": "Python 3",
   "language": "python",
   "name": "python3"
  },
  "language_info": {
   "codemirror_mode": {
    "name": "ipython",
    "version": 3
   },
   "file_extension": ".py",
   "mimetype": "text/x-python",
   "name": "python",
   "nbconvert_exporter": "python",
   "pygments_lexer": "ipython3",
   "version": "3.8.10"
  }
 },
 "nbformat": 4,
 "nbformat_minor": 4
}
